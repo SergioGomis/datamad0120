{
 "cells": [
  {
   "cell_type": "markdown",
   "metadata": {},
   "source": [
    "# Intro to Recommender Systems Lab\n",
    "\n",
    "Complete the exercises below to solidify your knowledge and understanding of recommender systems.\n",
    "\n",
    "For this lab, we are going to be putting together a user similarity based recommender system in a step-by-step fashion. Our data set contains customer grocery purchases, and we will use similar purchase behavior to inform our recommender system. Our recommender system will generate 5 recommendations for each customer based on the purchases they have made."
   ]
  },
  {
   "cell_type": "code",
   "execution_count": 1,
   "metadata": {},
   "outputs": [],
   "source": [
    "import pandas as pd\n",
    "from scipy.spatial.distance import pdist, squareform"
   ]
  },
  {
   "cell_type": "code",
   "execution_count": 2,
   "metadata": {},
   "outputs": [],
   "source": [
    "data = pd.read_csv('../data/customer_product_sales.csv')"
   ]
  },
  {
   "cell_type": "code",
   "execution_count": 3,
   "metadata": {},
   "outputs": [
    {
     "data": {
      "text/html": [
       "<div>\n",
       "<style scoped>\n",
       "    .dataframe tbody tr th:only-of-type {\n",
       "        vertical-align: middle;\n",
       "    }\n",
       "\n",
       "    .dataframe tbody tr th {\n",
       "        vertical-align: top;\n",
       "    }\n",
       "\n",
       "    .dataframe thead th {\n",
       "        text-align: right;\n",
       "    }\n",
       "</style>\n",
       "<table border=\"1\" class=\"dataframe\">\n",
       "  <thead>\n",
       "    <tr style=\"text-align: right;\">\n",
       "      <th></th>\n",
       "      <th>CustomerID</th>\n",
       "      <th>FirstName</th>\n",
       "      <th>LastName</th>\n",
       "      <th>SalesID</th>\n",
       "      <th>ProductID</th>\n",
       "      <th>ProductName</th>\n",
       "      <th>Quantity</th>\n",
       "    </tr>\n",
       "  </thead>\n",
       "  <tbody>\n",
       "    <tr>\n",
       "      <th>0</th>\n",
       "      <td>61288</td>\n",
       "      <td>Rosa</td>\n",
       "      <td>Andersen</td>\n",
       "      <td>134196</td>\n",
       "      <td>229</td>\n",
       "      <td>Bread - Hot Dog Buns</td>\n",
       "      <td>16</td>\n",
       "    </tr>\n",
       "    <tr>\n",
       "      <th>1</th>\n",
       "      <td>77352</td>\n",
       "      <td>Myron</td>\n",
       "      <td>Murray</td>\n",
       "      <td>6167892</td>\n",
       "      <td>229</td>\n",
       "      <td>Bread - Hot Dog Buns</td>\n",
       "      <td>20</td>\n",
       "    </tr>\n",
       "    <tr>\n",
       "      <th>2</th>\n",
       "      <td>40094</td>\n",
       "      <td>Susan</td>\n",
       "      <td>Stevenson</td>\n",
       "      <td>5970885</td>\n",
       "      <td>229</td>\n",
       "      <td>Bread - Hot Dog Buns</td>\n",
       "      <td>11</td>\n",
       "    </tr>\n",
       "    <tr>\n",
       "      <th>3</th>\n",
       "      <td>23548</td>\n",
       "      <td>Tricia</td>\n",
       "      <td>Vincent</td>\n",
       "      <td>6426954</td>\n",
       "      <td>229</td>\n",
       "      <td>Bread - Hot Dog Buns</td>\n",
       "      <td>6</td>\n",
       "    </tr>\n",
       "    <tr>\n",
       "      <th>4</th>\n",
       "      <td>78981</td>\n",
       "      <td>Scott</td>\n",
       "      <td>Burch</td>\n",
       "      <td>819094</td>\n",
       "      <td>229</td>\n",
       "      <td>Bread - Hot Dog Buns</td>\n",
       "      <td>20</td>\n",
       "    </tr>\n",
       "  </tbody>\n",
       "</table>\n",
       "</div>"
      ],
      "text/plain": [
       "   CustomerID FirstName   LastName  SalesID  ProductID           ProductName  \\\n",
       "0       61288      Rosa   Andersen   134196        229  Bread - Hot Dog Buns   \n",
       "1       77352     Myron     Murray  6167892        229  Bread - Hot Dog Buns   \n",
       "2       40094     Susan  Stevenson  5970885        229  Bread - Hot Dog Buns   \n",
       "3       23548    Tricia    Vincent  6426954        229  Bread - Hot Dog Buns   \n",
       "4       78981     Scott      Burch   819094        229  Bread - Hot Dog Buns   \n",
       "\n",
       "   Quantity  \n",
       "0        16  \n",
       "1        20  \n",
       "2        11  \n",
       "3         6  \n",
       "4        20  "
      ]
     },
     "execution_count": 3,
     "metadata": {},
     "output_type": "execute_result"
    }
   ],
   "source": [
    "data.head()"
   ]
  },
  {
   "cell_type": "code",
   "execution_count": 4,
   "metadata": {},
   "outputs": [
    {
     "data": {
      "text/plain": [
       "(68584, 7)"
      ]
     },
     "execution_count": 4,
     "metadata": {},
     "output_type": "execute_result"
    }
   ],
   "source": [
    "data.shape"
   ]
  },
  {
   "cell_type": "code",
   "execution_count": 5,
   "metadata": {},
   "outputs": [],
   "source": [
    "#data[(data['CustomerID']==98200) & (data['ProductID']>=392)]"
   ]
  },
  {
   "cell_type": "markdown",
   "metadata": {},
   "source": [
    "## Step 1: Create a data frame that contains the total quantity of each product purchased by each customer.\n",
    "\n",
    "You will need to group by CustomerID and ProductName and then sum the Quantity field."
   ]
  },
  {
   "cell_type": "code",
   "execution_count": 6,
   "metadata": {},
   "outputs": [
    {
     "data": {
      "text/html": [
       "<div>\n",
       "<style scoped>\n",
       "    .dataframe tbody tr th:only-of-type {\n",
       "        vertical-align: middle;\n",
       "    }\n",
       "\n",
       "    .dataframe tbody tr th {\n",
       "        vertical-align: top;\n",
       "    }\n",
       "\n",
       "    .dataframe thead th {\n",
       "        text-align: right;\n",
       "    }\n",
       "</style>\n",
       "<table border=\"1\" class=\"dataframe\">\n",
       "  <thead>\n",
       "    <tr style=\"text-align: right;\">\n",
       "      <th></th>\n",
       "      <th>CustomerID</th>\n",
       "      <th>ProductName</th>\n",
       "      <th>Quantity</th>\n",
       "    </tr>\n",
       "  </thead>\n",
       "  <tbody>\n",
       "    <tr>\n",
       "      <th>0</th>\n",
       "      <td>33</td>\n",
       "      <td>Apricots - Dried</td>\n",
       "      <td>1</td>\n",
       "    </tr>\n",
       "    <tr>\n",
       "      <th>1</th>\n",
       "      <td>33</td>\n",
       "      <td>Assorted Desserts</td>\n",
       "      <td>1</td>\n",
       "    </tr>\n",
       "    <tr>\n",
       "      <th>2</th>\n",
       "      <td>33</td>\n",
       "      <td>Bandage - Flexible Neon</td>\n",
       "      <td>1</td>\n",
       "    </tr>\n",
       "    <tr>\n",
       "      <th>3</th>\n",
       "      <td>33</td>\n",
       "      <td>Bar Mix - Pina Colada, 355 Ml</td>\n",
       "      <td>1</td>\n",
       "    </tr>\n",
       "    <tr>\n",
       "      <th>4</th>\n",
       "      <td>33</td>\n",
       "      <td>Beans - Kidney, Canned</td>\n",
       "      <td>1</td>\n",
       "    </tr>\n",
       "  </tbody>\n",
       "</table>\n",
       "</div>"
      ],
      "text/plain": [
       "   CustomerID                    ProductName  Quantity\n",
       "0          33               Apricots - Dried         1\n",
       "1          33              Assorted Desserts         1\n",
       "2          33        Bandage - Flexible Neon         1\n",
       "3          33  Bar Mix - Pina Colada, 355 Ml         1\n",
       "4          33         Beans - Kidney, Canned         1"
      ]
     },
     "execution_count": 6,
     "metadata": {},
     "output_type": "execute_result"
    }
   ],
   "source": [
    "s1 = data[['CustomerID','ProductName','Quantity']].groupby(['CustomerID','ProductName']).sum().reset_index()\n",
    "s1.head()"
   ]
  },
  {
   "cell_type": "markdown",
   "metadata": {},
   "source": [
    "## Step 2: Use the `pivot_table` method to create a product by customer matrix.\n",
    "\n",
    "The rows of the matrix should represent the products, the columns should represent the customers, and the values should be the quantities of each product purchased by each customer. You will also need to replace nulls with zeros, which you can do using the `fillna` method."
   ]
  },
  {
   "cell_type": "code",
   "execution_count": 7,
   "metadata": {},
   "outputs": [
    {
     "data": {
      "text/plain": [
       "(452, 1000)"
      ]
     },
     "execution_count": 7,
     "metadata": {},
     "output_type": "execute_result"
    }
   ],
   "source": [
    "s2 = pd.pivot_table(s1, index='ProductName', columns='CustomerID', values='Quantity',aggfunc=sum)\n",
    "s2 = s2.fillna(0)\n",
    "#s2.head()\n",
    "s2.shape\n"
   ]
  },
  {
   "cell_type": "markdown",
   "metadata": {},
   "source": [
    "## Step 3: Create a customer similarity matrix using `squareform` and `pdist`. For the distance metric, choose \"euclidean.\""
   ]
  },
  {
   "cell_type": "code",
   "execution_count": 8,
   "metadata": {},
   "outputs": [
    {
     "data": {
      "text/plain": [
       "(1000, 1000)"
      ]
     },
     "execution_count": 8,
     "metadata": {},
     "output_type": "execute_result"
    }
   ],
   "source": [
    "s3_sqr = squareform(pdist(s2.T, metric='euclidean'))\n",
    "s3_sqr.shape"
   ]
  },
  {
   "cell_type": "code",
   "execution_count": 57,
   "metadata": {},
   "outputs": [
    {
     "data": {
      "text/plain": [
       "array([[  0.        ,  11.91637529,  10.48808848, ..., 228.62851966,\n",
       "        239.        , 229.77380181],\n",
       "       [ 11.91637529,   0.        ,  11.74734012, ..., 228.01096465,\n",
       "        239.03765394, 229.70415756],\n",
       "       [ 10.48808848,  11.74734012,   0.        , ..., 228.08112592,\n",
       "        238.26665734, 229.77380181],\n",
       "       ...,\n",
       "       [228.62851966, 228.01096465, 228.08112592, ...,   0.        ,\n",
       "        304.13812651, 305.16389039],\n",
       "       [239.        , 239.03765394, 238.26665734, ..., 304.13812651,\n",
       "          0.        , 303.10889132],\n",
       "       [229.77380181, 229.70415756, 229.77380181, ..., 305.16389039,\n",
       "        303.10889132,   0.        ]])"
      ]
     },
     "execution_count": 57,
     "metadata": {},
     "output_type": "execute_result"
    }
   ],
   "source": [
    "s3_sqr"
   ]
  },
  {
   "cell_type": "markdown",
   "metadata": {},
   "source": [
    "## Step 4: Check your results by generating a list of the top 5 most similar customers for a specific CustomerID."
   ]
  },
  {
   "cell_type": "code",
   "execution_count": 9,
   "metadata": {},
   "outputs": [
    {
     "data": {
      "text/plain": [
       "Int64Index([   33,   200,   264,   356,   412,   464,   477,   639,   649,\n",
       "              669,\n",
       "            ...\n",
       "            97697, 97753, 97769, 97793, 97900, 97928, 98069, 98159, 98185,\n",
       "            98200],\n",
       "           dtype='int64', name='CustomerID', length=1000)"
      ]
     },
     "execution_count": 9,
     "metadata": {},
     "output_type": "execute_result"
    }
   ],
   "source": [
    "clientes = s2.columns\n",
    "clientes"
   ]
  },
  {
   "cell_type": "code",
   "execution_count": 61,
   "metadata": {},
   "outputs": [
    {
     "data": {
      "text/plain": [
       "[96524, 96560, 91777, 92139, 87920]"
      ]
     },
     "execution_count": 61,
     "metadata": {},
     "output_type": "execute_result"
    }
   ],
   "source": [
    "selected = 97769\n",
    "lista = list(zip(s3_sqr[list(clientes).index(selected)],clientes))\n",
    "first5customers = sorted(lista, reverse=True, key= lambda x: x[0])[:5]\n",
    "s4 = [x[1] for x in first5customers]\n",
    "s4"
   ]
  },
  {
   "cell_type": "markdown",
   "metadata": {},
   "source": [
    "## Step 5: From the data frame you created in Step 1, select the records for the list of similar CustomerIDs you obtained in Step 4."
   ]
  },
  {
   "cell_type": "code",
   "execution_count": 19,
   "metadata": {},
   "outputs": [
    {
     "data": {
      "text/html": [
       "<div>\n",
       "<style scoped>\n",
       "    .dataframe tbody tr th:only-of-type {\n",
       "        vertical-align: middle;\n",
       "    }\n",
       "\n",
       "    .dataframe tbody tr th {\n",
       "        vertical-align: top;\n",
       "    }\n",
       "\n",
       "    .dataframe thead th {\n",
       "        text-align: right;\n",
       "    }\n",
       "</style>\n",
       "<table border=\"1\" class=\"dataframe\">\n",
       "  <thead>\n",
       "    <tr style=\"text-align: right;\">\n",
       "      <th></th>\n",
       "      <th>CustomerID</th>\n",
       "      <th>ProductName</th>\n",
       "      <th>Quantity</th>\n",
       "    </tr>\n",
       "  </thead>\n",
       "  <tbody>\n",
       "    <tr>\n",
       "      <th>59268</th>\n",
       "      <td>91443</td>\n",
       "      <td>Appetizer - Sausage Rolls</td>\n",
       "      <td>24</td>\n",
       "    </tr>\n",
       "    <tr>\n",
       "      <th>59269</th>\n",
       "      <td>91443</td>\n",
       "      <td>Baking Powder</td>\n",
       "      <td>24</td>\n",
       "    </tr>\n",
       "    <tr>\n",
       "      <th>59270</th>\n",
       "      <td>91443</td>\n",
       "      <td>Banana Turning</td>\n",
       "      <td>24</td>\n",
       "    </tr>\n",
       "    <tr>\n",
       "      <th>59271</th>\n",
       "      <td>91443</td>\n",
       "      <td>Bananas</td>\n",
       "      <td>24</td>\n",
       "    </tr>\n",
       "    <tr>\n",
       "      <th>59272</th>\n",
       "      <td>91443</td>\n",
       "      <td>Bandage - Flexible Neon</td>\n",
       "      <td>24</td>\n",
       "    </tr>\n",
       "  </tbody>\n",
       "</table>\n",
       "</div>"
      ],
      "text/plain": [
       "       CustomerID                ProductName  Quantity\n",
       "59268       91443  Appetizer - Sausage Rolls        24\n",
       "59269       91443              Baking Powder        24\n",
       "59270       91443             Banana Turning        24\n",
       "59271       91443                    Bananas        24\n",
       "59272       91443    Bandage - Flexible Neon        24"
      ]
     },
     "execution_count": 19,
     "metadata": {},
     "output_type": "execute_result"
    }
   ],
   "source": [
    "s5 = s1[s1.CustomerID.isin(s4)]\n",
    "s5.head()"
   ]
  },
  {
   "cell_type": "markdown",
   "metadata": {},
   "source": [
    "## Step 6: Aggregate those customer purchase records by ProductName, sum the Quantity field, and then rank them in descending order by quantity.\n",
    "\n",
    "This will give you the total number of each product purchased by the 5 most similar customers to the customer you selected in order from most purchased to least."
   ]
  },
  {
   "cell_type": "code",
   "execution_count": 30,
   "metadata": {},
   "outputs": [
    {
     "data": {
      "text/html": [
       "<div>\n",
       "<style scoped>\n",
       "    .dataframe tbody tr th:only-of-type {\n",
       "        vertical-align: middle;\n",
       "    }\n",
       "\n",
       "    .dataframe tbody tr th {\n",
       "        vertical-align: top;\n",
       "    }\n",
       "\n",
       "    .dataframe thead th {\n",
       "        text-align: right;\n",
       "    }\n",
       "</style>\n",
       "<table border=\"1\" class=\"dataframe\">\n",
       "  <thead>\n",
       "    <tr style=\"text-align: right;\">\n",
       "      <th></th>\n",
       "      <th>Quantity</th>\n",
       "    </tr>\n",
       "    <tr>\n",
       "      <th>ProductName</th>\n",
       "      <th></th>\n",
       "    </tr>\n",
       "  </thead>\n",
       "  <tbody>\n",
       "    <tr>\n",
       "      <th>Turnip - White, Organic</th>\n",
       "      <td>122</td>\n",
       "    </tr>\n",
       "    <tr>\n",
       "      <th>Pastry - Butterscotch Baked</th>\n",
       "      <td>122</td>\n",
       "    </tr>\n",
       "    <tr>\n",
       "      <th>Muffin Chocolate Individual Wrap</th>\n",
       "      <td>98</td>\n",
       "    </tr>\n",
       "    <tr>\n",
       "      <th>Clam Nectar</th>\n",
       "      <td>98</td>\n",
       "    </tr>\n",
       "    <tr>\n",
       "      <th>Kellogs Special K Cereal</th>\n",
       "      <td>97</td>\n",
       "    </tr>\n",
       "    <tr>\n",
       "      <th>...</th>\n",
       "      <td>...</td>\n",
       "    </tr>\n",
       "    <tr>\n",
       "      <th>Eggplant - Asian</th>\n",
       "      <td>24</td>\n",
       "    </tr>\n",
       "    <tr>\n",
       "      <th>Fond - Neutral</th>\n",
       "      <td>24</td>\n",
       "    </tr>\n",
       "    <tr>\n",
       "      <th>Garbag Bags - Black</th>\n",
       "      <td>24</td>\n",
       "    </tr>\n",
       "    <tr>\n",
       "      <th>Rosemary - Dry</th>\n",
       "      <td>24</td>\n",
       "    </tr>\n",
       "    <tr>\n",
       "      <th>Appetizer - Mini Egg Roll, Shrimp</th>\n",
       "      <td>24</td>\n",
       "    </tr>\n",
       "  </tbody>\n",
       "</table>\n",
       "<p>264 rows × 1 columns</p>\n",
       "</div>"
      ],
      "text/plain": [
       "                                   Quantity\n",
       "ProductName                                \n",
       "Turnip - White, Organic                 122\n",
       "Pastry - Butterscotch Baked             122\n",
       "Muffin Chocolate Individual Wrap         98\n",
       "Clam Nectar                              98\n",
       "Kellogs Special K Cereal                 97\n",
       "...                                     ...\n",
       "Eggplant - Asian                         24\n",
       "Fond - Neutral                           24\n",
       "Garbag Bags - Black                      24\n",
       "Rosemary - Dry                           24\n",
       "Appetizer - Mini Egg Roll, Shrimp        24\n",
       "\n",
       "[264 rows x 1 columns]"
      ]
     },
     "execution_count": 30,
     "metadata": {},
     "output_type": "execute_result"
    }
   ],
   "source": [
    "s6 = s5[['ProductName','Quantity']].groupby('ProductName').sum()\n",
    "s6 = s6.sort_values('Quantity', ascending=False)\n",
    "s6"
   ]
  },
  {
   "cell_type": "markdown",
   "metadata": {},
   "source": [
    "## Step 7: Filter the list for products that the chosen customer has not yet purchased and then recommend the top 5 products with the highest quantities that are left.\n",
    "\n",
    "- Merge the ranked products data frame with the customer product matrix on the ProductName field.\n",
    "- Filter for records where the chosen customer has not purchased the product.\n",
    "- Show the top 5 results."
   ]
  },
  {
   "cell_type": "code",
   "execution_count": 50,
   "metadata": {},
   "outputs": [
    {
     "data": {
      "text/plain": [
       "0             Turnip - White, Organic\n",
       "1         Pastry - Butterscotch Baked\n",
       "2    Muffin Chocolate Individual Wrap\n",
       "3                         Clam Nectar\n",
       "4            Kellogs Special K Cereal\n",
       "Name: ProductName, dtype: object"
      ]
     },
     "execution_count": 50,
     "metadata": {},
     "output_type": "execute_result"
    }
   ],
   "source": [
    "s7 = s6.merge(s2, how='left', on='ProductName')\n",
    "s7 = s7[s7[selected]==0].head(5).reset_index()\n",
    "s7['ProductName']"
   ]
  },
  {
   "cell_type": "markdown",
   "metadata": {},
   "source": [
    "## Step 8: Now that we have generated product recommendations for a single user, put the pieces together and iterate over a list of all CustomerIDs.\n",
    "\n",
    "- Create an empty dictionary that will hold the recommendations for all customers.\n",
    "- Create a list of unique CustomerIDs to iterate over.\n",
    "- Iterate over the customer list performing steps 4 through 7 for each and appending the results of each iteration to the dictionary you created."
   ]
  },
  {
   "cell_type": "code",
   "execution_count": 70,
   "metadata": {},
   "outputs": [],
   "source": [
    "recomm = dict()\n",
    "customers = list(clientes)\n",
    "for c in customers:\n",
    "    s8 = list(zip(s3_sqr[customers.index(c)],clientes))\n",
    "    s8 = sorted(s8, reverse=True, key= lambda x: x[0])[:5]\n",
    "    s8 = [x[1] for x in s8]\n",
    "    s8 = s1[s1.CustomerID.isin(s8)]\n",
    "    s8 = s8[['ProductName','Quantity']].groupby('ProductName').sum()\n",
    "    s8 = s8.sort_values('Quantity', ascending=False)\n",
    "    s8 = s8.merge(s2, how='left', on='ProductName')\n",
    "    s8 = s8[s8[selected]==0].head(5).reset_index()\n",
    "    recomm[c] = list(s8['ProductName'])"
   ]
  },
  {
   "cell_type": "markdown",
   "metadata": {},
   "source": [
    "##  Step 9: Store the results in a Pandas data frame. The data frame should a column for Customer ID and then a column for each of the 5 product recommendations for each customer."
   ]
  },
  {
   "cell_type": "code",
   "execution_count": 73,
   "metadata": {
    "scrolled": true
   },
   "outputs": [
    {
     "data": {
      "text/html": [
       "<div>\n",
       "<style scoped>\n",
       "    .dataframe tbody tr th:only-of-type {\n",
       "        vertical-align: middle;\n",
       "    }\n",
       "\n",
       "    .dataframe tbody tr th {\n",
       "        vertical-align: top;\n",
       "    }\n",
       "\n",
       "    .dataframe thead th {\n",
       "        text-align: right;\n",
       "    }\n",
       "</style>\n",
       "<table border=\"1\" class=\"dataframe\">\n",
       "  <thead>\n",
       "    <tr style=\"text-align: right;\">\n",
       "      <th></th>\n",
       "      <th>0</th>\n",
       "      <th>1</th>\n",
       "      <th>2</th>\n",
       "      <th>3</th>\n",
       "      <th>4</th>\n",
       "    </tr>\n",
       "  </thead>\n",
       "  <tbody>\n",
       "    <tr>\n",
       "      <th>97697</th>\n",
       "      <td>Beef - Inside Round</td>\n",
       "      <td>Whmis - Spray Bottle Trigger</td>\n",
       "      <td>Ecolab - Lime - A - Way 4/4 L</td>\n",
       "      <td>Milk - 2%</td>\n",
       "      <td>Spice - Peppercorn Melange</td>\n",
       "    </tr>\n",
       "    <tr>\n",
       "      <th>97753</th>\n",
       "      <td>Pastry - Butterscotch Baked</td>\n",
       "      <td>Whmis - Spray Bottle Trigger</td>\n",
       "      <td>Pasta - Penne, Rigate, Dry</td>\n",
       "      <td>Pastry - Raisin Muffin - Mini</td>\n",
       "      <td>Coffee - Irish Cream</td>\n",
       "    </tr>\n",
       "    <tr>\n",
       "      <th>97769</th>\n",
       "      <td>Pork - Hock And Feet Attached</td>\n",
       "      <td>Spice - Peppercorn Melange</td>\n",
       "      <td>Olives - Kalamata</td>\n",
       "      <td>Cup - Translucent 7 Oz Clear</td>\n",
       "      <td>Rum - Mount Gay Eclipes</td>\n",
       "    </tr>\n",
       "    <tr>\n",
       "      <th>97793</th>\n",
       "      <td>Whmis - Spray Bottle Trigger</td>\n",
       "      <td>Bagel - Plain</td>\n",
       "      <td>Beef - Inside Round</td>\n",
       "      <td>Coconut - Shredded, Sweet</td>\n",
       "      <td>Tahini Paste</td>\n",
       "    </tr>\n",
       "    <tr>\n",
       "      <th>97900</th>\n",
       "      <td>Cookies - Assorted</td>\n",
       "      <td>Muffin Chocolate Individual Wrap</td>\n",
       "      <td>Pastry - Butterscotch Baked</td>\n",
       "      <td>Squid U5 - Thailand</td>\n",
       "      <td>Table Cloth 81x81 White</td>\n",
       "    </tr>\n",
       "    <tr>\n",
       "      <th>97928</th>\n",
       "      <td>Spinach - Baby</td>\n",
       "      <td>Ecolab - Lime - A - Way 4/4 L</td>\n",
       "      <td>Garlic - Primerba, Paste</td>\n",
       "      <td>Muffin Chocolate Individual Wrap</td>\n",
       "      <td>Pastry - Butterscotch Baked</td>\n",
       "    </tr>\n",
       "    <tr>\n",
       "      <th>98069</th>\n",
       "      <td>Tahini Paste</td>\n",
       "      <td>Cheese - Taleggio D.o.p.</td>\n",
       "      <td>Coconut - Shredded, Sweet</td>\n",
       "      <td>Coffee - Irish Cream</td>\n",
       "      <td>Onions - Vidalia</td>\n",
       "    </tr>\n",
       "    <tr>\n",
       "      <th>98159</th>\n",
       "      <td>Coconut - Shredded, Sweet</td>\n",
       "      <td>Pastry - Butterscotch Baked</td>\n",
       "      <td>Spice - Peppercorn Melange</td>\n",
       "      <td>Soup Campbells - Italian Wedding</td>\n",
       "      <td>Beef - Inside Round</td>\n",
       "    </tr>\n",
       "    <tr>\n",
       "      <th>98185</th>\n",
       "      <td>Bread - Rye</td>\n",
       "      <td>Spinach - Baby</td>\n",
       "      <td>Chinese Foods - Chicken</td>\n",
       "      <td>Remy Red</td>\n",
       "      <td>Tray - 16in Rnd Blk</td>\n",
       "    </tr>\n",
       "    <tr>\n",
       "      <th>98200</th>\n",
       "      <td>Pastry - Butterscotch Baked</td>\n",
       "      <td>Cheese - Taleggio D.o.p.</td>\n",
       "      <td>Yogurt - Blueberry, 175 Gr</td>\n",
       "      <td>Soup Campbells - Italian Wedding</td>\n",
       "      <td>Coffee - Irish Cream</td>\n",
       "    </tr>\n",
       "  </tbody>\n",
       "</table>\n",
       "</div>"
      ],
      "text/plain": [
       "                                   0                                 1  \\\n",
       "97697            Beef - Inside Round      Whmis - Spray Bottle Trigger   \n",
       "97753    Pastry - Butterscotch Baked      Whmis - Spray Bottle Trigger   \n",
       "97769  Pork - Hock And Feet Attached        Spice - Peppercorn Melange   \n",
       "97793   Whmis - Spray Bottle Trigger                     Bagel - Plain   \n",
       "97900             Cookies - Assorted  Muffin Chocolate Individual Wrap   \n",
       "97928                 Spinach - Baby     Ecolab - Lime - A - Way 4/4 L   \n",
       "98069                   Tahini Paste          Cheese - Taleggio D.o.p.   \n",
       "98159      Coconut - Shredded, Sweet       Pastry - Butterscotch Baked   \n",
       "98185                    Bread - Rye                    Spinach - Baby   \n",
       "98200    Pastry - Butterscotch Baked          Cheese - Taleggio D.o.p.   \n",
       "\n",
       "                                   2                                 3  \\\n",
       "97697  Ecolab - Lime - A - Way 4/4 L                         Milk - 2%   \n",
       "97753     Pasta - Penne, Rigate, Dry     Pastry - Raisin Muffin - Mini   \n",
       "97769              Olives - Kalamata      Cup - Translucent 7 Oz Clear   \n",
       "97793            Beef - Inside Round         Coconut - Shredded, Sweet   \n",
       "97900    Pastry - Butterscotch Baked               Squid U5 - Thailand   \n",
       "97928       Garlic - Primerba, Paste  Muffin Chocolate Individual Wrap   \n",
       "98069      Coconut - Shredded, Sweet              Coffee - Irish Cream   \n",
       "98159     Spice - Peppercorn Melange  Soup Campbells - Italian Wedding   \n",
       "98185        Chinese Foods - Chicken                          Remy Red   \n",
       "98200     Yogurt - Blueberry, 175 Gr  Soup Campbells - Italian Wedding   \n",
       "\n",
       "                                 4  \n",
       "97697   Spice - Peppercorn Melange  \n",
       "97753         Coffee - Irish Cream  \n",
       "97769      Rum - Mount Gay Eclipes  \n",
       "97793                 Tahini Paste  \n",
       "97900      Table Cloth 81x81 White  \n",
       "97928  Pastry - Butterscotch Baked  \n",
       "98069             Onions - Vidalia  \n",
       "98159          Beef - Inside Round  \n",
       "98185          Tray - 16in Rnd Blk  \n",
       "98200         Coffee - Irish Cream  "
      ]
     },
     "execution_count": 73,
     "metadata": {},
     "output_type": "execute_result"
    }
   ],
   "source": [
    "s9 = pd.DataFrame.from_dict(recomm, orient='index')\n",
    "s9.tail(10)"
   ]
  },
  {
   "cell_type": "markdown",
   "metadata": {},
   "source": [
    "## Step 10: Change the distance metric used in Step 3 to something other than euclidean (correlation, cityblock, consine, jaccard, etc.). Regenerate the recommendations for all customers and note the differences."
   ]
  },
  {
   "cell_type": "code",
   "execution_count": 75,
   "metadata": {},
   "outputs": [],
   "source": [
    "s3_altern = squareform(pdist(s2.T, metric='correlation'))"
   ]
  },
  {
   "cell_type": "code",
   "execution_count": 76,
   "metadata": {},
   "outputs": [],
   "source": [
    "recomm10 = dict()\n",
    "for c in customers:\n",
    "    s10 = list(zip(s3_altern[customers.index(c)],clientes))\n",
    "    s10 = sorted(s10, reverse=True, key= lambda x: x[0])[:5]\n",
    "    s10 = [x[1] for x in s10]\n",
    "    s10 = s1[s1.CustomerID.isin(s10)]\n",
    "    s10 = s10[['ProductName','Quantity']].groupby('ProductName').sum()\n",
    "    s10 = s10.sort_values('Quantity', ascending=False)\n",
    "    s10 = s10.merge(s2, how='left', on='ProductName')\n",
    "    s10 = s10[s10[selected]==0].head(5).reset_index()\n",
    "    recomm10[c] = list(s10['ProductName'])"
   ]
  },
  {
   "cell_type": "code",
   "execution_count": 77,
   "metadata": {},
   "outputs": [
    {
     "data": {
      "text/html": [
       "<div>\n",
       "<style scoped>\n",
       "    .dataframe tbody tr th:only-of-type {\n",
       "        vertical-align: middle;\n",
       "    }\n",
       "\n",
       "    .dataframe tbody tr th {\n",
       "        vertical-align: top;\n",
       "    }\n",
       "\n",
       "    .dataframe thead th {\n",
       "        text-align: right;\n",
       "    }\n",
       "</style>\n",
       "<table border=\"1\" class=\"dataframe\">\n",
       "  <thead>\n",
       "    <tr style=\"text-align: right;\">\n",
       "      <th></th>\n",
       "      <th>0</th>\n",
       "      <th>1</th>\n",
       "      <th>2</th>\n",
       "      <th>3</th>\n",
       "      <th>4</th>\n",
       "    </tr>\n",
       "  </thead>\n",
       "  <tbody>\n",
       "    <tr>\n",
       "      <th>97697</th>\n",
       "      <td>Tea - Herbal Sweet Dreams</td>\n",
       "      <td>Crab - Dungeness, Whole</td>\n",
       "      <td>Juice - Apple Cider</td>\n",
       "      <td>Beans - Kidney White</td>\n",
       "      <td>Crush - Cream Soda</td>\n",
       "    </tr>\n",
       "    <tr>\n",
       "      <th>97753</th>\n",
       "      <td>Seedlings - Mix, Organic</td>\n",
       "      <td>Mussels - Cultivated</td>\n",
       "      <td>Sea Bass - Whole</td>\n",
       "      <td>Mushrooms - Black, Dried</td>\n",
       "      <td>Meldea Green Tea Liquor</td>\n",
       "    </tr>\n",
       "    <tr>\n",
       "      <th>97769</th>\n",
       "      <td>Spice - Peppercorn Melange</td>\n",
       "      <td>Lettuce - Treviso</td>\n",
       "      <td>Hersey Shakes</td>\n",
       "      <td>Pasta - Penne, Rigate, Dry</td>\n",
       "      <td>Dc - Frozen Momji</td>\n",
       "    </tr>\n",
       "    <tr>\n",
       "      <th>97793</th>\n",
       "      <td>Flour - Teff</td>\n",
       "      <td>Pomello</td>\n",
       "      <td>Sun - Dried Tomatoes</td>\n",
       "      <td>Chicken - Wieners</td>\n",
       "      <td>Bagel - Plain</td>\n",
       "    </tr>\n",
       "    <tr>\n",
       "      <th>97900</th>\n",
       "      <td>Sponge Cake Mix - Chocolate</td>\n",
       "      <td>Ocean Spray - Ruby Red</td>\n",
       "      <td>Berry Brulee</td>\n",
       "      <td>Muffin - Zero Transfat</td>\n",
       "      <td>Veal - Eye Of Round</td>\n",
       "    </tr>\n",
       "    <tr>\n",
       "      <th>97928</th>\n",
       "      <td>Wine - Crozes Hermitage E.</td>\n",
       "      <td>Pork - Belly Fresh</td>\n",
       "      <td>Smoked Paprika</td>\n",
       "      <td>Oranges - Navel, 72</td>\n",
       "      <td>Wiberg Super Cure</td>\n",
       "    </tr>\n",
       "    <tr>\n",
       "      <th>98069</th>\n",
       "      <td>Oil - Shortening,liqud, Fry</td>\n",
       "      <td>Mustard - Seed</td>\n",
       "      <td>Wine - Valpolicella Masi</td>\n",
       "      <td>Sardines</td>\n",
       "      <td>Soupfoamcont12oz 112con</td>\n",
       "    </tr>\n",
       "    <tr>\n",
       "      <th>98159</th>\n",
       "      <td>Sponge Cake Mix - Chocolate</td>\n",
       "      <td>Zucchini - Yellow</td>\n",
       "      <td>Pastry - Butterscotch Baked</td>\n",
       "      <td>Langers - Ruby Red Grapfruit</td>\n",
       "      <td>Squid U5 - Thailand</td>\n",
       "    </tr>\n",
       "    <tr>\n",
       "      <th>98185</th>\n",
       "      <td>Cocoa Butter</td>\n",
       "      <td>Anchovy Paste - 56 G Tube</td>\n",
       "      <td>Lamb - Whole, Fresh</td>\n",
       "      <td>Bread - Rye</td>\n",
       "      <td>Tray - 16in Rnd Blk</td>\n",
       "    </tr>\n",
       "    <tr>\n",
       "      <th>98200</th>\n",
       "      <td>Scallops 60/80 Iqf</td>\n",
       "      <td>Beef - Tenderlion, Center Cut</td>\n",
       "      <td>Campari</td>\n",
       "      <td>Fish - Scallops, Cold Smoked</td>\n",
       "      <td>Corn Meal</td>\n",
       "    </tr>\n",
       "  </tbody>\n",
       "</table>\n",
       "</div>"
      ],
      "text/plain": [
       "                                 0                              1  \\\n",
       "97697    Tea - Herbal Sweet Dreams        Crab - Dungeness, Whole   \n",
       "97753     Seedlings - Mix, Organic           Mussels - Cultivated   \n",
       "97769   Spice - Peppercorn Melange              Lettuce - Treviso   \n",
       "97793                 Flour - Teff                        Pomello   \n",
       "97900  Sponge Cake Mix - Chocolate         Ocean Spray - Ruby Red   \n",
       "97928   Wine - Crozes Hermitage E.             Pork - Belly Fresh   \n",
       "98069  Oil - Shortening,liqud, Fry                 Mustard - Seed   \n",
       "98159  Sponge Cake Mix - Chocolate              Zucchini - Yellow   \n",
       "98185                 Cocoa Butter      Anchovy Paste - 56 G Tube   \n",
       "98200           Scallops 60/80 Iqf  Beef - Tenderlion, Center Cut   \n",
       "\n",
       "                                 2                             3  \\\n",
       "97697          Juice - Apple Cider          Beans - Kidney White   \n",
       "97753             Sea Bass - Whole      Mushrooms - Black, Dried   \n",
       "97769                Hersey Shakes    Pasta - Penne, Rigate, Dry   \n",
       "97793         Sun - Dried Tomatoes             Chicken - Wieners   \n",
       "97900                 Berry Brulee        Muffin - Zero Transfat   \n",
       "97928               Smoked Paprika           Oranges - Navel, 72   \n",
       "98069     Wine - Valpolicella Masi                      Sardines   \n",
       "98159  Pastry - Butterscotch Baked  Langers - Ruby Red Grapfruit   \n",
       "98185          Lamb - Whole, Fresh                   Bread - Rye   \n",
       "98200                      Campari  Fish - Scallops, Cold Smoked   \n",
       "\n",
       "                             4  \n",
       "97697       Crush - Cream Soda  \n",
       "97753  Meldea Green Tea Liquor  \n",
       "97769        Dc - Frozen Momji  \n",
       "97793            Bagel - Plain  \n",
       "97900      Veal - Eye Of Round  \n",
       "97928        Wiberg Super Cure  \n",
       "98069  Soupfoamcont12oz 112con  \n",
       "98159      Squid U5 - Thailand  \n",
       "98185      Tray - 16in Rnd Blk  \n",
       "98200                Corn Meal  "
      ]
     },
     "execution_count": 77,
     "metadata": {},
     "output_type": "execute_result"
    }
   ],
   "source": [
    "alternative_df = pd.DataFrame.from_dict(recomm10, orient='index')\n",
    "alternative_df.tail(10)"
   ]
  }
 ],
 "metadata": {
  "kernelspec": {
   "display_name": "Python 3",
   "language": "python",
   "name": "python3"
  },
  "language_info": {
   "codemirror_mode": {
    "name": "ipython",
    "version": 3
   },
   "file_extension": ".py",
   "mimetype": "text/x-python",
   "name": "python",
   "nbconvert_exporter": "python",
   "pygments_lexer": "ipython3",
   "version": "3.7.6"
  }
 },
 "nbformat": 4,
 "nbformat_minor": 2
}
