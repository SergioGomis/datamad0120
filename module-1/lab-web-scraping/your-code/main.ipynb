{
 "cells": [
  {
   "cell_type": "markdown",
   "metadata": {},
   "source": [
    "# Web Scraping Lab\n",
    "\n",
    "You will find in this notebook some scrapy exercises to practise your scraping skills.\n",
    "\n",
    "**Tips:**\n",
    "\n",
    "- Check the response status code for each request to ensure you have obtained the intended contennt.\n",
    "- Print the response text in each request to understand the kind of info you are getting and its format.\n",
    "- Check for patterns in the response text to extract the data/info requested in each question.\n",
    "- Visit each url and take a look at its source through Chrome DevTools. You'll need to identify the html tags, special class names etc. used for the html content you are expected to extract."
   ]
  },
  {
   "cell_type": "markdown",
   "metadata": {},
   "source": [
    "- [Requests library](http://docs.python-requests.org/en/master/#the-user-guide) documentation \n",
    "- [Beautiful Soup Doc](https://www.crummy.com/software/BeautifulSoup/bs4/doc/)\n",
    "- [Urllib](https://docs.python.org/3/library/urllib.html#module-urllib)\n",
    "- [re lib](https://docs.python.org/3/library/re.html)\n",
    "- [lxml lib](https://lxml.de/)\n",
    "- [Scrapy](https://scrapy.org/)\n",
    "- [List of HTTP status codes](https://en.wikipedia.org/wiki/List_of_HTTP_status_codes)\n",
    "- [HTML basics](http://www.simplehtmlguide.com/cheatsheet.php)\n",
    "- [CSS basics](https://www.cssbasics.com/#page_start)"
   ]
  },
  {
   "cell_type": "markdown",
   "metadata": {},
   "source": [
    "#### Below are the libraries and modules you may need. `requests`,  `BeautifulSoup` and `pandas` are imported for you. If you prefer to use additional libraries feel free to uncomment them."
   ]
  },
  {
   "cell_type": "code",
   "execution_count": 1,
   "metadata": {},
   "outputs": [],
   "source": [
    "import requests\n",
    "from bs4 import BeautifulSoup\n",
    "import pandas as pd\n",
    "# from pprint import pprint\n",
    "# from lxml import html\n",
    "# from lxml.html import fromstring\n",
    "# import urllib.request\n",
    "# from urllib.request import urlopen\n",
    "# import random\n",
    " import re\n",
    "# import scrapy"
   ]
  },
  {
   "cell_type": "markdown",
   "metadata": {},
   "source": [
    "#### Download, parse (using BeautifulSoup), and print the content from the Trending Developers page from GitHub:"
   ]
  },
  {
   "cell_type": "code",
   "execution_count": 27,
   "metadata": {},
   "outputs": [],
   "source": [
    "# This is the url you will scrape in this exercise\n",
    "url = 'https://github.com/trending/developers'"
   ]
  },
  {
   "cell_type": "code",
   "execution_count": 29,
   "metadata": {},
   "outputs": [
    {
     "name": "stdout",
     "output_type": "stream",
     "text": [
      "\n",
      "\n",
      "\n",
      "\n",
      "\n",
      "\n",
      "<!DOCTYPE html>\n",
      "<html lang=\"en\">\n",
      "  <head>\n",
      "    <meta charset=\"utf-8\">\n",
      "  <link rel=\"dns-prefetch\n"
     ]
    }
   ],
   "source": [
    "#your code\n",
    "data = requests.get(url).text\n",
    "\n",
    "#Imprimimos solo una muestra\n",
    "print(data[0:100])"
   ]
  },
  {
   "cell_type": "markdown",
   "metadata": {},
   "source": [
    "#### Display the names of the trending developers retrieved in the previous step.\n",
    "\n",
    "Your output should be a Python list of developer names. Each name should not contain any html tag.\n",
    "\n",
    "**Instructions:**\n",
    "\n",
    "1. Find out the html tag and class names used for the developer names. You can achieve this using Chrome DevTools.\n",
    "\n",
    "1. Use BeautifulSoup to extract all the html elements that contain the developer names.\n",
    "\n",
    "1. Use string manipulation techniques to replace whitespaces and linebreaks (i.e. `\\n`) in the *text* of each html element. Use a list to store the clean names.\n",
    "\n",
    "1. Print the list of names.\n",
    "\n",
    "Your output should look like below:\n",
    "\n",
    "```\n",
    "['trimstray (@trimstray)',\n",
    " 'joewalnes (JoeWalnes)',\n",
    " 'charlax (Charles-AxelDein)',\n",
    " 'ForrestKnight (ForrestKnight)',\n",
    " 'revery-ui (revery-ui)',\n",
    " 'alibaba (Alibaba)',\n",
    " 'Microsoft (Microsoft)',\n",
    " 'github (GitHub)',\n",
    " 'facebook (Facebook)',\n",
    " 'boazsegev (Bo)',\n",
    " 'google (Google)',\n",
    " 'cloudfetch',\n",
    " 'sindresorhus (SindreSorhus)',\n",
    " 'tensorflow',\n",
    " 'apache (TheApacheSoftwareFoundation)',\n",
    " 'DevonCrawford (DevonCrawford)',\n",
    " 'ARMmbed (ArmMbed)',\n",
    " 'vuejs (vuejs)',\n",
    " 'fastai (fast.ai)',\n",
    " 'QiShaoXuan (Qi)',\n",
    " 'joelparkerhenderson (JoelParkerHenderson)',\n",
    " 'torvalds (LinusTorvalds)',\n",
    " 'CyC2018',\n",
    " 'komeiji-satori (神楽坂覚々)',\n",
    " 'script-8']\n",
    " ```"
   ]
  },
  {
   "cell_type": "code",
   "execution_count": 87,
   "metadata": {},
   "outputs": [],
   "source": [
    "#your code\n",
    "#print(data)"
   ]
  },
  {
   "cell_type": "code",
   "execution_count": 52,
   "metadata": {},
   "outputs": [],
   "source": [
    "soup = BeautifulSoup(data, 'html.parser')\n"
   ]
  },
  {
   "cell_type": "code",
   "execution_count": 80,
   "metadata": {},
   "outputs": [
    {
     "name": "stdout",
     "output_type": "stream",
     "text": [
      "mattn\n"
     ]
    }
   ],
   "source": [
    "tag = soup.find_all('a', class_=\"d-inline-block\")[8]\n",
    "print(tag.attrs['href'][1:])\n",
    "#tag = soup.select('a.d-inline-block')[8:]\n",
    "#tag = soup.find_all(\"a\", class_=\"d-inline-block\")[8:]\n",
    "#print(tag.attrs)"
   ]
  },
  {
   "cell_type": "code",
   "execution_count": 81,
   "metadata": {},
   "outputs": [],
   "source": [
    "qwert = [tag.attrs['href'][1:] for tag in soup.find_all('a', class_=\"d-inline-block\")]"
   ]
  },
  {
   "cell_type": "code",
   "execution_count": 83,
   "metadata": {},
   "outputs": [
    {
     "data": {
      "text/plain": [
       "['mattn',\n",
       " 'amueller',\n",
       " 'brianc',\n",
       " 'ErikSchierboom',\n",
       " 'JohnSundell',\n",
       " 'siddharthkp',\n",
       " 'jasonwilliams',\n",
       " 'kyleconroy',\n",
       " 'asottile',\n",
       " 'wcandillon',\n",
       " 'cmyr',\n",
       " 'panva',\n",
       " 'amilajack',\n",
       " 'KristofferC',\n",
       " 'gcanti',\n",
       " 'greatghoul',\n",
       " 'miekg',\n",
       " 'Naturalclar',\n",
       " 'lucasmichot',\n",
       " 'ageitgey',\n",
       " 'phil-opp',\n",
       " 'tony',\n",
       " 'isaacs',\n",
       " '4ian',\n",
       " 'satya164']"
      ]
     },
     "execution_count": 83,
     "metadata": {},
     "output_type": "execute_result"
    }
   ],
   "source": [
    "qwert[8:]"
   ]
  },
  {
   "cell_type": "markdown",
   "metadata": {},
   "source": [
    "\n",
    "#### Display the trending Python repositories in GitHub\n",
    "\n",
    "The steps to solve this problem is similar to the previous one except that you need to find out the repository names instead of developer names."
   ]
  },
  {
   "cell_type": "code",
   "execution_count": 127,
   "metadata": {},
   "outputs": [],
   "source": [
    "# This is the url you will scrape in this exercise\n",
    "url = 'https://github.com/trending/python?since=daily'"
   ]
  },
  {
   "cell_type": "code",
   "execution_count": 128,
   "metadata": {},
   "outputs": [],
   "source": [
    "#your code\n",
    "data_rep = requests.get(url).text\n",
    "\n",
    "#Imprimimos solo una muestra\n",
    "#print(data[0:100])\n",
    "soup_rep = BeautifulSoup(data_rep, 'html.parser')"
   ]
  },
  {
   "cell_type": "code",
   "execution_count": 137,
   "metadata": {},
   "outputs": [
    {
     "data": {
      "text/plain": [
       "['BlankerL/DXY-2019-nCoV-Crawler',\n",
       " 'gto76/python-cheatsheet',\n",
       " 'smicallef/spiderfoot',\n",
       " 'sebastianruder/NLP-progress',\n",
       " 'rish-16/sight',\n",
       " 'luong-komorebi/Awesome-Linux-Software',\n",
       " 'vinta/awesome-python',\n",
       " 'nicrusso7/rex-gym',\n",
       " 'baowenbo/DAIN',\n",
       " 'eastlakeside/interpy-zh',\n",
       " 'tiangolo/fastapi',\n",
       " 'explosion/thinc',\n",
       " 'willmcgugan/rich',\n",
       " 'MatthewPierson/Vieux',\n",
       " 'CCExtractor/vardbg',\n",
       " 'dragen1860/Deep-Learning-with-TensorFlow-book',\n",
       " 'brendangregg/bpf-perf-tools-book',\n",
       " 'googleapis/google-cloud-python',\n",
       " 'anchore/anchore-engine',\n",
       " 'aj-4/tinder-swipe-bot',\n",
       " 'pytorch/captum',\n",
       " 'samuelhwilliams/Eel',\n",
       " 'salesforce/policy_sentry',\n",
       " 'yzhao062/anomaly-detection-resources',\n",
       " 'vineetjohn/daily-coding-problem']"
      ]
     },
     "execution_count": 137,
     "metadata": {},
     "output_type": "execute_result"
    }
   ],
   "source": [
    "top_repos = [tag_rep.text.replace('\\n','').replace(' ','') for tag_rep in soup_rep.select('article h1 a')]\n",
    "#top_repos = [i for tag_rep in soup_rep.select('article h1 a') for i in tag_rep.children]\n",
    "#top_repos.replace('\\n','').replace(' ','')\n",
    "top_repos"
   ]
  },
  {
   "cell_type": "code",
   "execution_count": 138,
   "metadata": {},
   "outputs": [],
   "source": [
    "#tag_rep = soup_rep.find_all('article', class_=\"Box-row\")\n",
    "#tag_rep = soup_rep.select('article h1 a')\n",
    "#tag_rep\n",
    "#len(tag_rep)\n",
    "#print(tag.attrs['href'][1:])\n",
    "#print(tag_rep)"
   ]
  },
  {
   "cell_type": "code",
   "execution_count": 139,
   "metadata": {},
   "outputs": [],
   "source": [
    "#top_repos = [i for tag_rep in soup_rep.find_all('article', class_=\"Box-row\") for i in tag_rep.children]\n",
    "#top_repos"
   ]
  },
  {
   "cell_type": "markdown",
   "metadata": {},
   "source": [
    "#### Display all the image links from Walt Disney wikipedia page"
   ]
  },
  {
   "cell_type": "code",
   "execution_count": 140,
   "metadata": {},
   "outputs": [],
   "source": [
    "# This is the url you will scrape in this exercise\n",
    "url = 'https://en.wikipedia.org/wiki/Walt_Disney'"
   ]
  },
  {
   "cell_type": "code",
   "execution_count": 141,
   "metadata": {},
   "outputs": [],
   "source": [
    "#your code\n",
    "data_walt = requests.get(url).text\n",
    "\n",
    "soup_walt = BeautifulSoup(data_walt, 'html.parser')"
   ]
  },
  {
   "cell_type": "code",
   "execution_count": 144,
   "metadata": {},
   "outputs": [
    {
     "data": {
      "text/plain": [
       "['http://upload.wikimedia.org/wikipedia/en/thumb/e/e7/Cscr-featured.svg/20px-Cscr-featured.svg.png',\n",
       " 'http://upload.wikimedia.org/wikipedia/en/thumb/1/1b/Semi-protection-shackle.svg/20px-Semi-protection-shackle.svg.png',\n",
       " 'http://upload.wikimedia.org/wikipedia/commons/thumb/d/df/Walt_Disney_1946.JPG/220px-Walt_Disney_1946.JPG',\n",
       " 'http://upload.wikimedia.org/wikipedia/commons/thumb/8/87/Walt_Disney_1942_signature.svg/150px-Walt_Disney_1942_signature.svg.png',\n",
       " 'http://upload.wikimedia.org/wikipedia/commons/thumb/c/c4/Walt_Disney_envelope_ca._1921.jpg/220px-Walt_Disney_envelope_ca._1921.jpg',\n",
       " 'http://upload.wikimedia.org/wikipedia/commons/thumb/4/4d/Newman_Laugh-O-Gram_%281921%29.webm/220px-seek%3D2-Newman_Laugh-O-Gram_%281921%29.webm.jpg',\n",
       " 'http://upload.wikimedia.org/wikipedia/commons/thumb/0/0d/Trolley_Troubles_poster.jpg/170px-Trolley_Troubles_poster.jpg',\n",
       " 'http://upload.wikimedia.org/wikipedia/commons/thumb/7/71/Walt_Disney_and_his_cartoon_creation_%22Mickey_Mouse%22_-_National_Board_of_Review_Magazine.jpg/170px-Walt_Disney_and_his_cartoon_creation_%22Mickey_Mouse%22_-_National_Board_of_Review_Magazine.jpg',\n",
       " 'http://upload.wikimedia.org/wikipedia/en/thumb/4/4e/Steamboat-willie.jpg/170px-Steamboat-willie.jpg',\n",
       " 'http://upload.wikimedia.org/wikipedia/commons/thumb/5/57/Walt_Disney_1935.jpg/170px-Walt_Disney_1935.jpg',\n",
       " 'http://upload.wikimedia.org/wikipedia/commons/thumb/c/cd/Walt_Disney_Snow_white_1937_trailer_screenshot_%2813%29.jpg/220px-Walt_Disney_Snow_white_1937_trailer_screenshot_%2813%29.jpg',\n",
       " 'http://upload.wikimedia.org/wikipedia/commons/thumb/1/15/Disney_drawing_goofy.jpg/170px-Disney_drawing_goofy.jpg',\n",
       " 'http://upload.wikimedia.org/wikipedia/commons/thumb/1/13/DisneySchiphol1951.jpg/220px-DisneySchiphol1951.jpg',\n",
       " 'http://upload.wikimedia.org/wikipedia/commons/thumb/8/8c/WaltDisneyplansDisneylandDec1954.jpg/220px-WaltDisneyplansDisneylandDec1954.jpg',\n",
       " 'http://upload.wikimedia.org/wikipedia/commons/thumb/f/ff/Walt_disney_portrait_right.jpg/170px-Walt_disney_portrait_right.jpg',\n",
       " 'http://upload.wikimedia.org/wikipedia/commons/thumb/1/1a/Walt_Disney_Grave.JPG/170px-Walt_Disney_Grave.JPG',\n",
       " 'http://upload.wikimedia.org/wikipedia/commons/thumb/2/2d/Roy_O._Disney_with_Company_at_Press_Conference.jpg/170px-Roy_O._Disney_with_Company_at_Press_Conference.jpg',\n",
       " 'http://upload.wikimedia.org/wikipedia/commons/thumb/a/a9/Disney_Display_Case.JPG/170px-Disney_Display_Case.JPG',\n",
       " 'http://upload.wikimedia.org/wikipedia/commons/thumb/6/6c/Disney1968.jpg/170px-Disney1968.jpg',\n",
       " 'http://upload.wikimedia.org/wikipedia/en/thumb/8/8a/OOjs_UI_icon_edit-ltr-progressive.svg/10px-OOjs_UI_icon_edit-ltr-progressive.svg.png',\n",
       " 'http://upload.wikimedia.org/wikipedia/commons/thumb/4/44/The_Walt_Disney_Company_Logo.svg/120px-The_Walt_Disney_Company_Logo.svg.png',\n",
       " 'http://upload.wikimedia.org/wikipedia/commons/thumb/d/da/Animation_disc.svg/30px-Animation_disc.svg.png',\n",
       " 'http://upload.wikimedia.org/wikipedia/en/thumb/6/69/P_vip.svg/29px-P_vip.svg.png',\n",
       " 'http://upload.wikimedia.org/wikipedia/commons/thumb/1/1a/Magic_Kingdom_castle.jpg/24px-Magic_Kingdom_castle.jpg',\n",
       " 'http://upload.wikimedia.org/wikipedia/en/thumb/e/e7/Video-x-generic.svg/30px-Video-x-generic.svg.png',\n",
       " 'http://upload.wikimedia.org/wikipedia/commons/thumb/a/a3/Flag_of_Los_Angeles_County%2C_California.svg/30px-Flag_of_Los_Angeles_County%2C_California.svg.png',\n",
       " 'http://upload.wikimedia.org/wikipedia/commons/thumb/8/8c/Blank_television_set.svg/30px-Blank_television_set.svg.png',\n",
       " 'http://upload.wikimedia.org/wikipedia/en/thumb/a/a4/Flag_of_the_United_States.svg/30px-Flag_of_the_United_States.svg.png',\n",
       " 'http://upload.wikimedia.org/wikipedia/en/thumb/4/4a/Commons-logo.svg/22px-Commons-logo.svg.png',\n",
       " 'http://upload.wikimedia.org/wikipedia/commons/thumb/f/fa/Wikiquote-logo.svg/25px-Wikiquote-logo.svg.png',\n",
       " 'http://upload.wikimedia.org/wikipedia/commons/thumb/f/ff/Wikidata-logo.svg/30px-Wikidata-logo.svg.png',\n",
       " 'http://upload.wikimedia.org/wikipedia/en/thumb/8/8a/OOjs_UI_icon_edit-ltr-progressive.svg/10px-OOjs_UI_icon_edit-ltr-progressive.svg.png',\n",
       " 'http://en.wikipedia.org/wiki/Special:CentralAutoLogin/start?type=1x1',\n",
       " 'http:/static/images/wikimedia-button.png',\n",
       " 'http:/static/images/poweredby_mediawiki_88x31.png']"
      ]
     },
     "execution_count": 144,
     "metadata": {},
     "output_type": "execute_result"
    }
   ],
   "source": [
    "imgs_walt = ['http:'+tag_walt['src'] for tag_walt in soup_walt.find_all('img')]\n",
    "#top_repos = [i for tag_rep in soup_rep.select('article h1 a') for i in tag_rep.children]\n",
    "#top_repos.replace('\\n','').replace(' ','')\n",
    "imgs_walt"
   ]
  },
  {
   "cell_type": "markdown",
   "metadata": {},
   "source": [
    "#### Retrieve an arbitary Wikipedia page of \"Python\" and create a list of links on that page"
   ]
  },
  {
   "cell_type": "code",
   "execution_count": 145,
   "metadata": {},
   "outputs": [],
   "source": [
    "# This is the url you will scrape in this exercise\n",
    "url ='https://en.wikipedia.org/wiki/Python' "
   ]
  },
  {
   "cell_type": "code",
   "execution_count": 216,
   "metadata": {},
   "outputs": [],
   "source": [
    "#your code\n",
    "data_pyt = requests.get(url).text\n",
    "\n",
    "soup_pyt = BeautifulSoup(data_pyt, 'html.parser')\n",
    "\n",
    "links_pyt = [tag_pyt for tag_pyt in soup_pyt.find_all('a')]\n",
    "\n",
    "#links_pyt"
   ]
  },
  {
   "cell_type": "code",
   "execution_count": 154,
   "metadata": {},
   "outputs": [],
   "source": [
    "# ---------- pendiente, sigo -----------"
   ]
  },
  {
   "cell_type": "markdown",
   "metadata": {},
   "source": [
    "#### Number of Titles that have changed in the United States Code since its last release point "
   ]
  },
  {
   "cell_type": "code",
   "execution_count": 155,
   "metadata": {},
   "outputs": [],
   "source": [
    "# This is the url you will scrape in this exercise\n",
    "url = 'http://uscode.house.gov/download/download.shtml'\n",
    "# \"Titles in bold have been changed since the last release point.\""
   ]
  },
  {
   "cell_type": "code",
   "execution_count": 163,
   "metadata": {},
   "outputs": [
    {
     "data": {
      "text/plain": [
       "['Title 18 - Crimes and Criminal Procedure ٭',\n",
       " 'Title 20 - Education',\n",
       " 'Title 26 - Internal Revenue Code']"
      ]
     },
     "execution_count": 163,
     "metadata": {},
     "output_type": "execute_result"
    }
   ],
   "source": [
    "#your code\n",
    "data_USC = requests.get(url).text\n",
    "\n",
    "soup_USC = BeautifulSoup(data_USC, 'html.parser')\n",
    "\n",
    "qwert = [tag.text.strip('\\n ') for tag in soup_USC.find_all('div', class_=\"usctitlechanged\")]\n",
    "qwert"
   ]
  },
  {
   "cell_type": "markdown",
   "metadata": {},
   "source": [
    "#### A Python list with the top ten FBI's Most Wanted names "
   ]
  },
  {
   "cell_type": "code",
   "execution_count": 164,
   "metadata": {},
   "outputs": [],
   "source": [
    "# This is the url you will scrape in this exercise\n",
    "url = 'https://www.fbi.gov/wanted/topten'"
   ]
  },
  {
   "cell_type": "code",
   "execution_count": 167,
   "metadata": {},
   "outputs": [
    {
     "data": {
      "text/plain": [
       "['JASON DEREK BROWN',\n",
       " 'ALEXIS FLORES',\n",
       " 'EUGENE PALMER',\n",
       " 'SANTIAGO VILLALBA MEDEROS',\n",
       " 'RAFAEL CARO-QUINTERO',\n",
       " 'ROBERT WILLIAM FISHER',\n",
       " 'BHADRESHKUMAR CHETANBHAI PATEL',\n",
       " 'ARNOLDO JIMENEZ',\n",
       " 'ALEJANDRO ROSALES CASTILLO',\n",
       " 'YASER ABDEL SAID']"
      ]
     },
     "execution_count": 167,
     "metadata": {},
     "output_type": "execute_result"
    }
   ],
   "source": [
    "#your code \n",
    "#<h3 class=\"title\">\n",
    "#<a href=\"https://www.fbi.gov/wanted/topten/jason-derek-brown\">JASON DEREK BROWN</a>\n",
    "#</h3>\n",
    "data_FBI = requests.get(url).text\n",
    "\n",
    "soup_FBI = BeautifulSoup(data_FBI, 'html.parser')\n",
    "\n",
    "qwert = [tag.text.strip() for tag in soup_FBI.find_all('h3', class_=\"title\")]\n",
    "qwert"
   ]
  },
  {
   "cell_type": "markdown",
   "metadata": {},
   "source": [
    "####  20 latest earthquakes info (date, time, latitude, longitude and region name) by the EMSC as a pandas dataframe"
   ]
  },
  {
   "cell_type": "code",
   "execution_count": 168,
   "metadata": {},
   "outputs": [],
   "source": [
    "# This is the url you will scrape in this exercise\n",
    "url = 'https://www.emsc-csem.org/Earthquake/'"
   ]
  },
  {
   "cell_type": "code",
   "execution_count": 191,
   "metadata": {},
   "outputs": [
    {
     "name": "stdout",
     "output_type": "stream",
     "text": [
      "20 20 20 20 20 20 20\n"
     ]
    }
   ],
   "source": [
    "#your code\n",
    "data_EQ = requests.get(url).text\n",
    "\n",
    "soup_EQ = BeautifulSoup(data_EQ, 'html.parser')\n",
    "\n",
    "qwert = [tag.text for tag in soup_EQ.find_all('td', class_=\"tabev6\")][0:20]\n",
    "fechas = [re.findall(r'(\\d\\d\\d\\d-\\d\\d-\\d\\d)',z) for z in qwert]\n",
    "horas = [re.findall(r'(\\d\\d:\\d\\d:\\d\\d)',z) for z in qwert]\n",
    "lat = [tag.text.replace('\\xa0','') for tag in soup_EQ.find_all('td', class_=\"tabev1\")][0:39:2]\n",
    "lon = [tag.text.replace('\\xa0','') for tag in soup_EQ.find_all('td', class_=\"tabev1\")][1:40:2]\n",
    "latns = [tag.text.replace('\\xa0','') for tag in soup_EQ.find_all('td', class_=\"tabev2\")][0:59:3]\n",
    "lonwe = [tag.text.replace('\\xa0','') for tag in soup_EQ.find_all('td', class_=\"tabev2\")][1:60:3]\n",
    "#<td class=\"tabev6\"><b><i style=\"display:none;\">earthquake</i><a href=\"/Earthquake/earthquake.php?id=825028\">2020-01-30&nbsp;&nbsp;&nbsp;17:34:59.0</a></b><i class=\"ago\" id=\"ago0\">35min ago</i></td>\n",
    "#<td id=\"reg0\" class=\"tb_region\">&nbsp;SICILY, ITALY</td>\n",
    "region = [tag.text.replace('\\xa0','') for tag in soup_EQ.find_all('td', class_=\"tb_region\")][0:20]\n",
    "print(len(fechas),len(horas),len(lat),len(latns),len(lon),len(lonwe),len(region))"
   ]
  },
  {
   "cell_type": "code",
   "execution_count": 192,
   "metadata": {},
   "outputs": [
    {
     "data": {
      "text/html": [
       "<div>\n",
       "<style scoped>\n",
       "    .dataframe tbody tr th:only-of-type {\n",
       "        vertical-align: middle;\n",
       "    }\n",
       "\n",
       "    .dataframe tbody tr th {\n",
       "        vertical-align: top;\n",
       "    }\n",
       "\n",
       "    .dataframe thead th {\n",
       "        text-align: right;\n",
       "    }\n",
       "</style>\n",
       "<table border=\"1\" class=\"dataframe\">\n",
       "  <thead>\n",
       "    <tr style=\"text-align: right;\">\n",
       "      <th></th>\n",
       "      <th>date</th>\n",
       "      <th>time</th>\n",
       "      <th>latitude</th>\n",
       "      <th>lat_dir</th>\n",
       "      <th>longitude</th>\n",
       "      <th>lon_dir</th>\n",
       "      <th>region</th>\n",
       "    </tr>\n",
       "  </thead>\n",
       "  <tbody>\n",
       "    <tr>\n",
       "      <td>0</td>\n",
       "      <td>[2020-01-30]</td>\n",
       "      <td>[17:58:10]</td>\n",
       "      <td>9.94</td>\n",
       "      <td>S</td>\n",
       "      <td>160.98</td>\n",
       "      <td>E</td>\n",
       "      <td>SOLOMON ISLANDS</td>\n",
       "    </tr>\n",
       "    <tr>\n",
       "      <td>1</td>\n",
       "      <td>[2020-01-30]</td>\n",
       "      <td>[17:57:57]</td>\n",
       "      <td>39.09</td>\n",
       "      <td>N</td>\n",
       "      <td>30.17</td>\n",
       "      <td>E</td>\n",
       "      <td>WESTERN TURKEY</td>\n",
       "    </tr>\n",
       "    <tr>\n",
       "      <td>2</td>\n",
       "      <td>[2020-01-30]</td>\n",
       "      <td>[17:34:59]</td>\n",
       "      <td>38.40</td>\n",
       "      <td>N</td>\n",
       "      <td>15.36</td>\n",
       "      <td>E</td>\n",
       "      <td>SICILY, ITALY</td>\n",
       "    </tr>\n",
       "    <tr>\n",
       "      <td>3</td>\n",
       "      <td>[2020-01-30]</td>\n",
       "      <td>[17:29:59]</td>\n",
       "      <td>35.09</td>\n",
       "      <td>N</td>\n",
       "      <td>95.22</td>\n",
       "      <td>W</td>\n",
       "      <td>OKLAHOMA</td>\n",
       "    </tr>\n",
       "    <tr>\n",
       "      <td>4</td>\n",
       "      <td>[2020-01-30]</td>\n",
       "      <td>[17:29:14]</td>\n",
       "      <td>35.31</td>\n",
       "      <td>N</td>\n",
       "      <td>28.03</td>\n",
       "      <td>E</td>\n",
       "      <td>EASTERN MEDITERRANEAN SEA</td>\n",
       "    </tr>\n",
       "    <tr>\n",
       "      <td>5</td>\n",
       "      <td>[2020-01-30]</td>\n",
       "      <td>[17:26:26]</td>\n",
       "      <td>19.45</td>\n",
       "      <td>N</td>\n",
       "      <td>155.19</td>\n",
       "      <td>W</td>\n",
       "      <td>ISLAND OF HAWAII, HAWAII</td>\n",
       "    </tr>\n",
       "    <tr>\n",
       "      <td>6</td>\n",
       "      <td>[2020-01-30]</td>\n",
       "      <td>[17:21:08]</td>\n",
       "      <td>17.97</td>\n",
       "      <td>N</td>\n",
       "      <td>66.78</td>\n",
       "      <td>W</td>\n",
       "      <td>PUERTO RICO REGION</td>\n",
       "    </tr>\n",
       "    <tr>\n",
       "      <td>7</td>\n",
       "      <td>[2020-01-30]</td>\n",
       "      <td>[17:15:36]</td>\n",
       "      <td>17.96</td>\n",
       "      <td>N</td>\n",
       "      <td>66.78</td>\n",
       "      <td>W</td>\n",
       "      <td>PUERTO RICO REGION</td>\n",
       "    </tr>\n",
       "    <tr>\n",
       "      <td>8</td>\n",
       "      <td>[2020-01-30]</td>\n",
       "      <td>[17:10:27]</td>\n",
       "      <td>17.96</td>\n",
       "      <td>N</td>\n",
       "      <td>66.76</td>\n",
       "      <td>W</td>\n",
       "      <td>PUERTO RICO REGION</td>\n",
       "    </tr>\n",
       "    <tr>\n",
       "      <td>9</td>\n",
       "      <td>[2020-01-30]</td>\n",
       "      <td>[17:10:22]</td>\n",
       "      <td>20.01</td>\n",
       "      <td>N</td>\n",
       "      <td>155.62</td>\n",
       "      <td>W</td>\n",
       "      <td>HAWAII REGION, HAWAII</td>\n",
       "    </tr>\n",
       "    <tr>\n",
       "      <td>10</td>\n",
       "      <td>[2020-01-30]</td>\n",
       "      <td>[17:08:59]</td>\n",
       "      <td>8.25</td>\n",
       "      <td>S</td>\n",
       "      <td>118.05</td>\n",
       "      <td>E</td>\n",
       "      <td>SUMBAWA REGION, INDONESIA</td>\n",
       "    </tr>\n",
       "    <tr>\n",
       "      <td>11</td>\n",
       "      <td>[2020-01-30]</td>\n",
       "      <td>[17:07:34]</td>\n",
       "      <td>36.70</td>\n",
       "      <td>N</td>\n",
       "      <td>121.33</td>\n",
       "      <td>W</td>\n",
       "      <td>CENTRAL CALIFORNIA</td>\n",
       "    </tr>\n",
       "    <tr>\n",
       "      <td>12</td>\n",
       "      <td>[2020-01-30]</td>\n",
       "      <td>[17:06:15]</td>\n",
       "      <td>17.98</td>\n",
       "      <td>N</td>\n",
       "      <td>66.86</td>\n",
       "      <td>W</td>\n",
       "      <td>PUERTO RICO</td>\n",
       "    </tr>\n",
       "    <tr>\n",
       "      <td>13</td>\n",
       "      <td>[2020-01-30]</td>\n",
       "      <td>[16:59:40]</td>\n",
       "      <td>19.39</td>\n",
       "      <td>N</td>\n",
       "      <td>155.28</td>\n",
       "      <td>W</td>\n",
       "      <td>ISLAND OF HAWAII, HAWAII</td>\n",
       "    </tr>\n",
       "    <tr>\n",
       "      <td>14</td>\n",
       "      <td>[2020-01-30]</td>\n",
       "      <td>[16:48:05]</td>\n",
       "      <td>19.42</td>\n",
       "      <td>N</td>\n",
       "      <td>155.28</td>\n",
       "      <td>W</td>\n",
       "      <td>ISLAND OF HAWAII, HAWAII</td>\n",
       "    </tr>\n",
       "    <tr>\n",
       "      <td>15</td>\n",
       "      <td>[2020-01-30]</td>\n",
       "      <td>[16:24:22]</td>\n",
       "      <td>35.13</td>\n",
       "      <td>N</td>\n",
       "      <td>27.95</td>\n",
       "      <td>E</td>\n",
       "      <td>DODECANESE ISLANDS, GREECE</td>\n",
       "    </tr>\n",
       "    <tr>\n",
       "      <td>16</td>\n",
       "      <td>[2020-01-30]</td>\n",
       "      <td>[16:20:41]</td>\n",
       "      <td>35.38</td>\n",
       "      <td>N</td>\n",
       "      <td>28.05</td>\n",
       "      <td>E</td>\n",
       "      <td>EASTERN MEDITERRANEAN SEA</td>\n",
       "    </tr>\n",
       "    <tr>\n",
       "      <td>17</td>\n",
       "      <td>[2020-01-30]</td>\n",
       "      <td>[16:07:04]</td>\n",
       "      <td>35.66</td>\n",
       "      <td>N</td>\n",
       "      <td>117.48</td>\n",
       "      <td>W</td>\n",
       "      <td>SOUTHERN CALIFORNIA</td>\n",
       "    </tr>\n",
       "    <tr>\n",
       "      <td>18</td>\n",
       "      <td>[2020-01-30]</td>\n",
       "      <td>[16:03:06]</td>\n",
       "      <td>36.70</td>\n",
       "      <td>N</td>\n",
       "      <td>121.36</td>\n",
       "      <td>W</td>\n",
       "      <td>CENTRAL CALIFORNIA</td>\n",
       "    </tr>\n",
       "    <tr>\n",
       "      <td>19</td>\n",
       "      <td>[2020-01-30]</td>\n",
       "      <td>[15:58:49]</td>\n",
       "      <td>31.13</td>\n",
       "      <td>N</td>\n",
       "      <td>103.25</td>\n",
       "      <td>W</td>\n",
       "      <td>WESTERN TEXAS</td>\n",
       "    </tr>\n",
       "  </tbody>\n",
       "</table>\n",
       "</div>"
      ],
      "text/plain": [
       "            date        time latitude lat_dir longitude lon_dir  \\\n",
       "0   [2020-01-30]  [17:58:10]     9.94       S    160.98       E   \n",
       "1   [2020-01-30]  [17:57:57]    39.09       N     30.17       E   \n",
       "2   [2020-01-30]  [17:34:59]    38.40       N     15.36       E   \n",
       "3   [2020-01-30]  [17:29:59]    35.09       N     95.22       W   \n",
       "4   [2020-01-30]  [17:29:14]    35.31       N     28.03       E   \n",
       "5   [2020-01-30]  [17:26:26]    19.45       N    155.19       W   \n",
       "6   [2020-01-30]  [17:21:08]    17.97       N     66.78       W   \n",
       "7   [2020-01-30]  [17:15:36]    17.96       N     66.78       W   \n",
       "8   [2020-01-30]  [17:10:27]    17.96       N     66.76       W   \n",
       "9   [2020-01-30]  [17:10:22]    20.01       N    155.62       W   \n",
       "10  [2020-01-30]  [17:08:59]     8.25       S    118.05       E   \n",
       "11  [2020-01-30]  [17:07:34]    36.70       N    121.33       W   \n",
       "12  [2020-01-30]  [17:06:15]    17.98       N     66.86       W   \n",
       "13  [2020-01-30]  [16:59:40]    19.39       N    155.28       W   \n",
       "14  [2020-01-30]  [16:48:05]    19.42       N    155.28       W   \n",
       "15  [2020-01-30]  [16:24:22]    35.13       N     27.95       E   \n",
       "16  [2020-01-30]  [16:20:41]    35.38       N     28.05       E   \n",
       "17  [2020-01-30]  [16:07:04]    35.66       N    117.48       W   \n",
       "18  [2020-01-30]  [16:03:06]    36.70       N    121.36       W   \n",
       "19  [2020-01-30]  [15:58:49]    31.13       N    103.25       W   \n",
       "\n",
       "                        region  \n",
       "0              SOLOMON ISLANDS  \n",
       "1               WESTERN TURKEY  \n",
       "2                SICILY, ITALY  \n",
       "3                     OKLAHOMA  \n",
       "4    EASTERN MEDITERRANEAN SEA  \n",
       "5     ISLAND OF HAWAII, HAWAII  \n",
       "6           PUERTO RICO REGION  \n",
       "7           PUERTO RICO REGION  \n",
       "8           PUERTO RICO REGION  \n",
       "9        HAWAII REGION, HAWAII  \n",
       "10   SUMBAWA REGION, INDONESIA  \n",
       "11          CENTRAL CALIFORNIA  \n",
       "12                 PUERTO RICO  \n",
       "13    ISLAND OF HAWAII, HAWAII  \n",
       "14    ISLAND OF HAWAII, HAWAII  \n",
       "15  DODECANESE ISLANDS, GREECE  \n",
       "16   EASTERN MEDITERRANEAN SEA  \n",
       "17         SOUTHERN CALIFORNIA  \n",
       "18          CENTRAL CALIFORNIA  \n",
       "19               WESTERN TEXAS  "
      ]
     },
     "execution_count": 192,
     "metadata": {},
     "output_type": "execute_result"
    }
   ],
   "source": [
    "dictio = {'date': fechas, 'time': horas, 'latitude': lat, 'lat_dir': latns, 'longitude': lon, 'lon_dir': lonwe, 'region': region}  \n",
    "    \n",
    "df = pd.DataFrame(dictio)\n",
    "\n",
    "df"
   ]
  },
  {
   "cell_type": "markdown",
   "metadata": {},
   "source": [
    "#### Display the date, days, title, city, country of next 25 hackathon events as a Pandas dataframe table"
   ]
  },
  {
   "cell_type": "code",
   "execution_count": null,
   "metadata": {},
   "outputs": [],
   "source": [
    "# This is the url you will scrape in this exercise\n",
    "url ='https://hackevents.co/hackathons'"
   ]
  },
  {
   "cell_type": "code",
   "execution_count": null,
   "metadata": {},
   "outputs": [],
   "source": [
    "#your code"
   ]
  },
  {
   "cell_type": "markdown",
   "metadata": {},
   "source": [
    "#### Count number of tweets by a given Twitter account."
   ]
  },
  {
   "cell_type": "markdown",
   "metadata": {},
   "source": [
    "You will need to include a ***try/except block*** for account names not found. \n",
    "<br>***Hint:*** the program should count the number of tweets for any provided account"
   ]
  },
  {
   "cell_type": "code",
   "execution_count": 195,
   "metadata": {},
   "outputs": [],
   "source": [
    "# This is the url you will scrape in this exercise \n",
    "# You will need to add the account credentials to this url\n",
    "url = 'https://twitter.com/'"
   ]
  },
  {
   "cell_type": "code",
   "execution_count": 212,
   "metadata": {},
   "outputs": [
    {
     "name": "stdout",
     "output_type": "stream",
     "text": [
      "Dime un usuario de twitter válido:mashable\n",
      "https://twitter.com/mashable\n"
     ]
    }
   ],
   "source": [
    "#your code\n",
    "user = input('Dime un usuario de twitter válido:')\n",
    "url2 = url+user\n",
    "print(url2)\n",
    "#falta el try except"
   ]
  },
  {
   "cell_type": "code",
   "execution_count": 213,
   "metadata": {},
   "outputs": [
    {
     "data": {
      "text/plain": [
       "['368.224 Tweets']"
      ]
     },
     "execution_count": 213,
     "metadata": {},
     "output_type": "execute_result"
    }
   ],
   "source": [
    "data_TW = requests.get(url2).text\n",
    "soup_TW = BeautifulSoup(data_TW, 'html.parser')\n",
    "num_TW = [tag.attrs['title'] for tag in soup_TW.find_all('a', class_=\"ProfileNav-stat ProfileNav-stat--link u-borderUserColor u-textCenter js-tooltip js-nav\")]\n",
    "num_TW"
   ]
  },
  {
   "cell_type": "markdown",
   "metadata": {},
   "source": [
    "#### Number of followers of a given twitter account"
   ]
  },
  {
   "cell_type": "markdown",
   "metadata": {},
   "source": [
    "You will need to include a ***try/except block*** in case account/s name not found. \n",
    "<br>***Hint:*** the program should count the followers for any provided account"
   ]
  },
  {
   "cell_type": "code",
   "execution_count": 215,
   "metadata": {},
   "outputs": [],
   "source": [
    "# This is the url you will scrape in this exercise \n",
    "# You will need to add the account credentials to this url\n",
    "url = 'https://twitter.com/'"
   ]
  },
  {
   "cell_type": "code",
   "execution_count": 214,
   "metadata": {},
   "outputs": [
    {
     "name": "stdout",
     "output_type": "stream",
     "text": [
      "Dime un usuario de twitter válido:mashable\n",
      "https://twitter.com/mashable\n"
     ]
    }
   ],
   "source": [
    "#your code\n",
    "user = input('Dime un usuario de twitter válido:')\n",
    "url2 = url+user\n",
    "print(url2)\n",
    "#falta el try except"
   ]
  },
  {
   "cell_type": "code",
   "execution_count": 226,
   "metadata": {},
   "outputs": [
    {
     "data": {
      "text/plain": [
       "['9.808.326 Seguidores']"
      ]
     },
     "execution_count": 226,
     "metadata": {},
     "output_type": "execute_result"
    }
   ],
   "source": [
    "\n",
    "#<span class=\"css-901oao css-16my406 r-1qd0xha r-ad9z0x r-bcqeeo r-qvutc0\">4,4&nbsp;M</span>\n",
    "#<a title=\"1.348.297\" href=\"/elmundotoday/followers\" dir=\"auto\" role=\"link\" data-focusable=\"true\" class=\"css-4rbku5 css-18t94o4 css-901oao r-1fmj7o5 r-1loqt21 r-1qd0xha r-1b43r93 r-16dba41 r-ad9z0x r-bcqeeo r-qvutc0\"><span class=\"css-901oao css-16my406 r-1qd0xha r-vw2c0b r-ad9z0x r-bcqeeo r-qvutc0\"><span class=\"css-901oao css-16my406 r-1qd0xha r-ad9z0x r-bcqeeo r-qvutc0\">1,3&nbsp;M</span></span> <span class=\"css-901oao css-16my406 r-9ilb82 r-1qd0xha r-ad9z0x r-bcqeeo r-qvutc0\"><span class=\"css-901oao css-16my406 r-1qd0xha r-ad9z0x r-bcqeeo r-qvutc0\">seguidores</span></span></a>\n",
    "data_TW = requests.get(url2).text\n",
    "soup_TW = BeautifulSoup(data_TW, 'html.parser')\n",
    "num_FW = [tag.attrs['title'] for tag in soup_TW.find_all('a', href=\"/\"+user+\"/followers\")]\n",
    "num_FW"
   ]
  },
  {
   "cell_type": "markdown",
   "metadata": {},
   "source": [
    "#### List all language names and number of related articles in the order they appear in wikipedia.org"
   ]
  },
  {
   "cell_type": "code",
   "execution_count": 227,
   "metadata": {},
   "outputs": [],
   "source": [
    "# This is the url you will scrape in this exercise\n",
    "url = 'https://www.wikipedia.org/'"
   ]
  },
  {
   "cell_type": "code",
   "execution_count": 255,
   "metadata": {},
   "outputs": [
    {
     "name": "stdout",
     "output_type": "stream",
     "text": [
      "[5994000, 1185000, 2385000, 1571000, 1590000, 2171000, 1576000, 1090000, 1018000, 1379000]\n"
     ]
    },
    {
     "data": {
      "text/plain": [
       "['\\nEnglish\\n5\\xa0994\\xa0000+ articles\\n',\n",
       " '\\næ\\x97¥æ\\x9c¬èª\\x9e\\n1\\xa0185\\xa0000+ è¨\\x98äº\\x8b\\n',\n",
       " '\\nDeutsch\\n2\\xa0385\\xa0000+ Artikel\\n',\n",
       " '\\nEspaÃ±ol\\n1\\xa0571\\xa0000+ artÃ\\xadculos\\n',\n",
       " '\\nÐ\\xa0Ñ\\x83Ñ\\x81Ñ\\x81ÐºÐ¸Ð¹\\n1\\xa0590\\xa0000+ Ñ\\x81Ñ\\x82Ð°Ñ\\x82ÐµÐ¹\\n',\n",
       " '\\nFranÃ§ais\\n2\\xa0171\\xa0000+ articles\\n',\n",
       " '\\nItaliano\\n1\\xa0576\\xa0000+ voci\\n',\n",
       " '\\nä¸\\xadæ\\x96\\x87\\n1\\xa0090\\xa0000+ æ¢\\x9dç\\x9b®\\n',\n",
       " '\\nPortuguÃªs\\n1\\xa0018\\xa0000+ artigos\\n',\n",
       " '\\nPolski\\n1\\xa0379\\xa0000+ haseÅ\\x82\\n']"
      ]
     },
     "execution_count": 255,
     "metadata": {},
     "output_type": "execute_result"
    }
   ],
   "source": [
    "data_wiki = requests.get(url).text\n",
    "soup_wiki = BeautifulSoup(data_wiki, 'html.parser')\n",
    "num_wiki = [int(tag.text.replace('\\xa0','').replace('\\n','').replace('+','')) for tag in soup_wiki.find_all('bdi', dir=\"ltr\")][:10]\n",
    "#num_wiki\n",
    "languages = [tag.text for tag in soup_wiki.find_all('a', class_=\"link-box\")]\n",
    "print(num_wiki)\n",
    "languages\n",
    "#<bdi dir=\"ltr\">1&nbsp;571&nbsp;000+</bdi>\n",
    "#<a id=\"js-link-box-en\" href=\"//en.wikipedia.org/\" title=\"English — Wikipedia — The Free Encyclopedia\" class=\"link-box\" data-slogan=\"The Free Encyclopedia\">\n",
    "#<strong>English</strong>\n",
    "#<small><bdi dir=\"ltr\">5&nbsp;994&nbsp;000+</bdi> <span>articles</span></small>\n",
    "#</a>"
   ]
  },
  {
   "cell_type": "markdown",
   "metadata": {},
   "source": [
    "#### A list with the different kind of datasets available in data.gov.uk "
   ]
  },
  {
   "cell_type": "code",
   "execution_count": 256,
   "metadata": {},
   "outputs": [],
   "source": [
    "# This is the url you will scrape in this exercise\n",
    "url = 'https://data.gov.uk/'"
   ]
  },
  {
   "cell_type": "code",
   "execution_count": 261,
   "metadata": {},
   "outputs": [
    {
     "data": {
      "text/plain": [
       "['Business and economy',\n",
       " 'Crime and justice',\n",
       " 'Defence',\n",
       " 'Education',\n",
       " 'Environment',\n",
       " 'Government',\n",
       " 'Government spending',\n",
       " 'Health',\n",
       " 'Mapping',\n",
       " 'Society',\n",
       " 'Towns and cities',\n",
       " 'Transport']"
      ]
     },
     "execution_count": 261,
     "metadata": {},
     "output_type": "execute_result"
    }
   ],
   "source": [
    "#your code \n",
    "#<a href=\"/search?filters%5Btopic%5D=Business+and+economy\">Business and economy</a>\n",
    "\n",
    "data_govuk = requests.get(url).text\n",
    "soup_govuk = BeautifulSoup(data_govuk, 'html.parser')\n",
    "num_govuk = [tag.text for tag in soup_govuk.find_all('h2')]\n",
    "num_govuk"
   ]
  },
  {
   "cell_type": "markdown",
   "metadata": {},
   "source": [
    "#### Top 10 languages by number of native speakers stored in a Pandas Dataframe"
   ]
  },
  {
   "cell_type": "code",
   "execution_count": 262,
   "metadata": {},
   "outputs": [],
   "source": [
    "# This is the url you will scrape in this exercise\n",
    "url = 'https://en.wikipedia.org/wiki/List_of_languages_by_number_of_native_speakers'"
   ]
  },
  {
   "cell_type": "code",
   "execution_count": 266,
   "metadata": {},
   "outputs": [],
   "source": [
    "#your code\n",
    "data_speak = requests.get(url).text\n",
    "soup_speak = BeautifulSoup(data_speak, 'html.parser')\n",
    "tabla = soup_speak.find_all('table')[0]"
   ]
  },
  {
   "cell_type": "code",
   "execution_count": 275,
   "metadata": {},
   "outputs": [
    {
     "data": {
      "text/plain": [
       "[{'language': 'Mandarin Chinese', 'speakers': 918000.0},\n",
       " {'language': 'Spanish', 'speakers': 480000.0},\n",
       " {'language': 'English', 'speakers': 379000.0},\n",
       " {'language': 'Hindi', 'speakers': 341000.0},\n",
       " {'language': 'Bengali', 'speakers': 228000.0},\n",
       " {'language': 'Portuguese', 'speakers': 221000.0},\n",
       " {'language': 'Russian', 'speakers': 154000.0},\n",
       " {'language': 'Japanese', 'speakers': 128000.0},\n",
       " {'language': 'Western Punjabi', 'speakers': 92700.0},\n",
       " {'language': 'Marathi', 'speakers': 83100.0}]"
      ]
     },
     "execution_count": 275,
     "metadata": {},
     "output_type": "execute_result"
    }
   ],
   "source": [
    "def procesaFila(tag):\n",
    "    m = tag.find_all(\"td\")\n",
    "    #print(m[1])\n",
    "    return {\n",
    "        \"language\":m[1].find(\"a\").text.strip(),\n",
    "        \"speakers\":float(m[2].text.replace('\\n',''))*1000\n",
    "    }\n",
    "\n",
    "tabla_limpia = [procesaFila(fila) for fila in tabla.find_all(\"tr\")[1:11]]\n",
    "\n",
    "tabla_limpia"
   ]
  },
  {
   "cell_type": "code",
   "execution_count": 276,
   "metadata": {},
   "outputs": [
    {
     "data": {
      "text/html": [
       "<div>\n",
       "<style scoped>\n",
       "    .dataframe tbody tr th:only-of-type {\n",
       "        vertical-align: middle;\n",
       "    }\n",
       "\n",
       "    .dataframe tbody tr th {\n",
       "        vertical-align: top;\n",
       "    }\n",
       "\n",
       "    .dataframe thead th {\n",
       "        text-align: right;\n",
       "    }\n",
       "</style>\n",
       "<table border=\"1\" class=\"dataframe\">\n",
       "  <thead>\n",
       "    <tr style=\"text-align: right;\">\n",
       "      <th></th>\n",
       "      <th>language</th>\n",
       "      <th>speakers</th>\n",
       "    </tr>\n",
       "  </thead>\n",
       "  <tbody>\n",
       "    <tr>\n",
       "      <td>0</td>\n",
       "      <td>Mandarin Chinese</td>\n",
       "      <td>918000.0</td>\n",
       "    </tr>\n",
       "    <tr>\n",
       "      <td>1</td>\n",
       "      <td>Spanish</td>\n",
       "      <td>480000.0</td>\n",
       "    </tr>\n",
       "    <tr>\n",
       "      <td>2</td>\n",
       "      <td>English</td>\n",
       "      <td>379000.0</td>\n",
       "    </tr>\n",
       "    <tr>\n",
       "      <td>3</td>\n",
       "      <td>Hindi</td>\n",
       "      <td>341000.0</td>\n",
       "    </tr>\n",
       "    <tr>\n",
       "      <td>4</td>\n",
       "      <td>Bengali</td>\n",
       "      <td>228000.0</td>\n",
       "    </tr>\n",
       "    <tr>\n",
       "      <td>5</td>\n",
       "      <td>Portuguese</td>\n",
       "      <td>221000.0</td>\n",
       "    </tr>\n",
       "    <tr>\n",
       "      <td>6</td>\n",
       "      <td>Russian</td>\n",
       "      <td>154000.0</td>\n",
       "    </tr>\n",
       "    <tr>\n",
       "      <td>7</td>\n",
       "      <td>Japanese</td>\n",
       "      <td>128000.0</td>\n",
       "    </tr>\n",
       "    <tr>\n",
       "      <td>8</td>\n",
       "      <td>Western Punjabi</td>\n",
       "      <td>92700.0</td>\n",
       "    </tr>\n",
       "    <tr>\n",
       "      <td>9</td>\n",
       "      <td>Marathi</td>\n",
       "      <td>83100.0</td>\n",
       "    </tr>\n",
       "  </tbody>\n",
       "</table>\n",
       "</div>"
      ],
      "text/plain": [
       "           language  speakers\n",
       "0  Mandarin Chinese  918000.0\n",
       "1           Spanish  480000.0\n",
       "2           English  379000.0\n",
       "3             Hindi  341000.0\n",
       "4           Bengali  228000.0\n",
       "5        Portuguese  221000.0\n",
       "6           Russian  154000.0\n",
       "7          Japanese  128000.0\n",
       "8   Western Punjabi   92700.0\n",
       "9           Marathi   83100.0"
      ]
     },
     "execution_count": 276,
     "metadata": {},
     "output_type": "execute_result"
    }
   ],
   "source": [
    "  \n",
    "df = pd.DataFrame(tabla_limpia)\n",
    "\n",
    "df"
   ]
  },
  {
   "cell_type": "markdown",
   "metadata": {},
   "source": [
    "### BONUS QUESTIONS"
   ]
  },
  {
   "cell_type": "markdown",
   "metadata": {},
   "source": [
    "#### Scrape a certain number of tweets of a given Twitter account."
   ]
  },
  {
   "cell_type": "code",
   "execution_count": null,
   "metadata": {},
   "outputs": [],
   "source": [
    "# This is the url you will scrape in this exercise \n",
    "# You will need to add the account credentials to this url\n",
    "url = 'https://twitter.com/'"
   ]
  },
  {
   "cell_type": "code",
   "execution_count": null,
   "metadata": {},
   "outputs": [],
   "source": [
    "# your code"
   ]
  },
  {
   "cell_type": "markdown",
   "metadata": {},
   "source": [
    "#### IMDB's Top 250 data (movie name, Initial release, director name and stars) as a pandas dataframe"
   ]
  },
  {
   "cell_type": "code",
   "execution_count": null,
   "metadata": {},
   "outputs": [],
   "source": [
    "# This is the url you will scrape in this exercise \n",
    "url = 'https://www.imdb.com/chart/top'"
   ]
  },
  {
   "cell_type": "code",
   "execution_count": null,
   "metadata": {},
   "outputs": [],
   "source": [
    "# your code"
   ]
  },
  {
   "cell_type": "markdown",
   "metadata": {},
   "source": [
    "#### Movie name, year and a brief summary of the top 10 random movies (IMDB) as a pandas dataframe."
   ]
  },
  {
   "cell_type": "code",
   "execution_count": null,
   "metadata": {},
   "outputs": [],
   "source": [
    "#This is the url you will scrape in this exercise\n",
    "url = 'http://www.imdb.com/chart/top'"
   ]
  },
  {
   "cell_type": "code",
   "execution_count": null,
   "metadata": {},
   "outputs": [],
   "source": [
    "#your code"
   ]
  },
  {
   "cell_type": "markdown",
   "metadata": {},
   "source": [
    "#### Find the live weather report (temperature, wind speed, description and weather) of a given city."
   ]
  },
  {
   "cell_type": "code",
   "execution_count": null,
   "metadata": {},
   "outputs": [],
   "source": [
    "#https://openweathermap.org/current\n",
    "city = city=input('Enter the city:')\n",
    "url = 'http://api.openweathermap.org/data/2.5/weather?'+'q='+city+'&APPID=b35975e18dc93725acb092f7272cc6b8&units=metric'"
   ]
  },
  {
   "cell_type": "code",
   "execution_count": null,
   "metadata": {},
   "outputs": [],
   "source": [
    "# your code"
   ]
  },
  {
   "cell_type": "markdown",
   "metadata": {},
   "source": [
    "#### Book name,price and stock availability as a pandas dataframe."
   ]
  },
  {
   "cell_type": "code",
   "execution_count": null,
   "metadata": {},
   "outputs": [],
   "source": [
    "# This is the url you will scrape in this exercise. \n",
    "# It is a fictional bookstore created to be scraped. \n",
    "url = 'http://books.toscrape.com/'"
   ]
  },
  {
   "cell_type": "code",
   "execution_count": null,
   "metadata": {},
   "outputs": [],
   "source": [
    "#your code"
   ]
  }
 ],
 "metadata": {
  "kernelspec": {
   "display_name": "Python 3",
   "language": "python",
   "name": "python3"
  },
  "language_info": {
   "codemirror_mode": {
    "name": "ipython",
    "version": 3
   },
   "file_extension": ".py",
   "mimetype": "text/x-python",
   "name": "python",
   "nbconvert_exporter": "python",
   "pygments_lexer": "ipython3",
   "version": "3.7.4"
  }
 },
 "nbformat": 4,
 "nbformat_minor": 2
}
