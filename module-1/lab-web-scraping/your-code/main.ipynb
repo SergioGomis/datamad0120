{
 "cells": [
  {
   "cell_type": "markdown",
   "metadata": {},
   "source": [
    "# Web Scraping Lab\n",
    "\n",
    "You will find in this notebook some scrapy exercises to practise your scraping skills.\n",
    "\n",
    "**Tips:**\n",
    "\n",
    "- Check the response status code for each request to ensure you have obtained the intended contennt.\n",
    "- Print the response text in each request to understand the kind of info you are getting and its format.\n",
    "- Check for patterns in the response text to extract the data/info requested in each question.\n",
    "- Visit each url and take a look at its source through Chrome DevTools. You'll need to identify the html tags, special class names etc. used for the html content you are expected to extract."
   ]
  },
  {
   "cell_type": "markdown",
   "metadata": {},
   "source": [
    "- [Requests library](http://docs.python-requests.org/en/master/#the-user-guide) documentation \n",
    "- [Beautiful Soup Doc](https://www.crummy.com/software/BeautifulSoup/bs4/doc/)\n",
    "- [Urllib](https://docs.python.org/3/library/urllib.html#module-urllib)\n",
    "- [re lib](https://docs.python.org/3/library/re.html)\n",
    "- [lxml lib](https://lxml.de/)\n",
    "- [Scrapy](https://scrapy.org/)\n",
    "- [List of HTTP status codes](https://en.wikipedia.org/wiki/List_of_HTTP_status_codes)\n",
    "- [HTML basics](http://www.simplehtmlguide.com/cheatsheet.php)\n",
    "- [CSS basics](https://www.cssbasics.com/#page_start)"
   ]
  },
  {
   "cell_type": "markdown",
   "metadata": {},
   "source": [
    "#### Below are the libraries and modules you may need. `requests`,  `BeautifulSoup` and `pandas` are imported for you. If you prefer to use additional libraries feel free to uncomment them."
   ]
  },
  {
   "cell_type": "code",
   "execution_count": 1,
   "metadata": {},
   "outputs": [],
   "source": [
    "import requests\n",
    "from bs4 import BeautifulSoup\n",
    "import pandas as pd\n",
    "# from pprint import pprint\n",
    "# from lxml import html\n",
    "# from lxml.html import fromstring\n",
    "# import urllib.request\n",
    "# from urllib.request import urlopen\n",
    "# import random\n",
    " import re\n",
    "# import scrapy"
   ]
  },
  {
   "cell_type": "markdown",
   "metadata": {},
   "source": [
    "#### Download, parse (using BeautifulSoup), and print the content from the Trending Developers page from GitHub:"
   ]
  },
  {
   "cell_type": "code",
   "execution_count": 27,
   "metadata": {},
   "outputs": [],
   "source": [
    "# This is the url you will scrape in this exercise\n",
    "url = 'https://github.com/trending/developers'"
   ]
  },
  {
   "cell_type": "code",
   "execution_count": 29,
   "metadata": {},
   "outputs": [
    {
     "name": "stdout",
     "output_type": "stream",
     "text": [
      "\n",
      "\n",
      "\n",
      "\n",
      "\n",
      "\n",
      "<!DOCTYPE html>\n",
      "<html lang=\"en\">\n",
      "  <head>\n",
      "    <meta charset=\"utf-8\">\n",
      "  <link rel=\"dns-prefetch\n"
     ]
    }
   ],
   "source": [
    "#your code\n",
    "data = requests.get(url).text\n",
    "\n",
    "#Imprimimos solo una muestra\n",
    "print(data[0:100])"
   ]
  },
  {
   "cell_type": "markdown",
   "metadata": {},
   "source": [
    "#### Display the names of the trending developers retrieved in the previous step.\n",
    "\n",
    "Your output should be a Python list of developer names. Each name should not contain any html tag.\n",
    "\n",
    "**Instructions:**\n",
    "\n",
    "1. Find out the html tag and class names used for the developer names. You can achieve this using Chrome DevTools.\n",
    "\n",
    "1. Use BeautifulSoup to extract all the html elements that contain the developer names.\n",
    "\n",
    "1. Use string manipulation techniques to replace whitespaces and linebreaks (i.e. `\\n`) in the *text* of each html element. Use a list to store the clean names.\n",
    "\n",
    "1. Print the list of names.\n",
    "\n",
    "Your output should look like below:\n",
    "\n",
    "```\n",
    "['trimstray (@trimstray)',\n",
    " 'joewalnes (JoeWalnes)',\n",
    " 'charlax (Charles-AxelDein)',\n",
    " 'ForrestKnight (ForrestKnight)',\n",
    " 'revery-ui (revery-ui)',\n",
    " 'alibaba (Alibaba)',\n",
    " 'Microsoft (Microsoft)',\n",
    " 'github (GitHub)',\n",
    " 'facebook (Facebook)',\n",
    " 'boazsegev (Bo)',\n",
    " 'google (Google)',\n",
    " 'cloudfetch',\n",
    " 'sindresorhus (SindreSorhus)',\n",
    " 'tensorflow',\n",
    " 'apache (TheApacheSoftwareFoundation)',\n",
    " 'DevonCrawford (DevonCrawford)',\n",
    " 'ARMmbed (ArmMbed)',\n",
    " 'vuejs (vuejs)',\n",
    " 'fastai (fast.ai)',\n",
    " 'QiShaoXuan (Qi)',\n",
    " 'joelparkerhenderson (JoelParkerHenderson)',\n",
    " 'torvalds (LinusTorvalds)',\n",
    " 'CyC2018',\n",
    " 'komeiji-satori (神楽坂覚々)',\n",
    " 'script-8']\n",
    " ```"
   ]
  },
  {
   "cell_type": "code",
   "execution_count": 87,
   "metadata": {},
   "outputs": [],
   "source": [
    "#your code\n",
    "#print(data)"
   ]
  },
  {
   "cell_type": "code",
   "execution_count": 52,
   "metadata": {},
   "outputs": [],
   "source": [
    "soup = BeautifulSoup(data, 'html.parser')\n"
   ]
  },
  {
   "cell_type": "code",
   "execution_count": 80,
   "metadata": {},
   "outputs": [
    {
     "name": "stdout",
     "output_type": "stream",
     "text": [
      "mattn\n"
     ]
    }
   ],
   "source": [
    "tag = soup.find_all('a', class_=\"d-inline-block\")[8]\n",
    "print(tag.attrs['href'][1:])\n",
    "#tag = soup.select('a.d-inline-block')[8:]\n",
    "#tag = soup.find_all(\"a\", class_=\"d-inline-block\")[8:]\n",
    "#print(tag.attrs)"
   ]
  },
  {
   "cell_type": "code",
   "execution_count": 81,
   "metadata": {},
   "outputs": [],
   "source": [
    "qwert = [tag.attrs['href'][1:] for tag in soup.find_all('a', class_=\"d-inline-block\")]"
   ]
  },
  {
   "cell_type": "code",
   "execution_count": 83,
   "metadata": {},
   "outputs": [
    {
     "data": {
      "text/plain": [
       "['mattn',\n",
       " 'amueller',\n",
       " 'brianc',\n",
       " 'ErikSchierboom',\n",
       " 'JohnSundell',\n",
       " 'siddharthkp',\n",
       " 'jasonwilliams',\n",
       " 'kyleconroy',\n",
       " 'asottile',\n",
       " 'wcandillon',\n",
       " 'cmyr',\n",
       " 'panva',\n",
       " 'amilajack',\n",
       " 'KristofferC',\n",
       " 'gcanti',\n",
       " 'greatghoul',\n",
       " 'miekg',\n",
       " 'Naturalclar',\n",
       " 'lucasmichot',\n",
       " 'ageitgey',\n",
       " 'phil-opp',\n",
       " 'tony',\n",
       " 'isaacs',\n",
       " '4ian',\n",
       " 'satya164']"
      ]
     },
     "execution_count": 83,
     "metadata": {},
     "output_type": "execute_result"
    }
   ],
   "source": [
    "qwert[8:]"
   ]
  },
  {
   "cell_type": "markdown",
   "metadata": {},
   "source": [
    "\n",
    "#### Display the trending Python repositories in GitHub\n",
    "\n",
    "The steps to solve this problem is similar to the previous one except that you need to find out the repository names instead of developer names."
   ]
  },
  {
   "cell_type": "code",
   "execution_count": 127,
   "metadata": {},
   "outputs": [],
   "source": [
    "# This is the url you will scrape in this exercise\n",
    "url = 'https://github.com/trending/python?since=daily'"
   ]
  },
  {
   "cell_type": "code",
   "execution_count": 128,
   "metadata": {},
   "outputs": [],
   "source": [
    "#your code\n",
    "data_rep = requests.get(url).text\n",
    "\n",
    "#Imprimimos solo una muestra\n",
    "#print(data[0:100])\n",
    "soup_rep = BeautifulSoup(data_rep, 'html.parser')"
   ]
  },
  {
   "cell_type": "code",
   "execution_count": 137,
   "metadata": {},
   "outputs": [
    {
     "data": {
      "text/plain": [
       "['BlankerL/DXY-2019-nCoV-Crawler',\n",
       " 'gto76/python-cheatsheet',\n",
       " 'smicallef/spiderfoot',\n",
       " 'sebastianruder/NLP-progress',\n",
       " 'rish-16/sight',\n",
       " 'luong-komorebi/Awesome-Linux-Software',\n",
       " 'vinta/awesome-python',\n",
       " 'nicrusso7/rex-gym',\n",
       " 'baowenbo/DAIN',\n",
       " 'eastlakeside/interpy-zh',\n",
       " 'tiangolo/fastapi',\n",
       " 'explosion/thinc',\n",
       " 'willmcgugan/rich',\n",
       " 'MatthewPierson/Vieux',\n",
       " 'CCExtractor/vardbg',\n",
       " 'dragen1860/Deep-Learning-with-TensorFlow-book',\n",
       " 'brendangregg/bpf-perf-tools-book',\n",
       " 'googleapis/google-cloud-python',\n",
       " 'anchore/anchore-engine',\n",
       " 'aj-4/tinder-swipe-bot',\n",
       " 'pytorch/captum',\n",
       " 'samuelhwilliams/Eel',\n",
       " 'salesforce/policy_sentry',\n",
       " 'yzhao062/anomaly-detection-resources',\n",
       " 'vineetjohn/daily-coding-problem']"
      ]
     },
     "execution_count": 137,
     "metadata": {},
     "output_type": "execute_result"
    }
   ],
   "source": [
    "top_repos = [tag_rep.text.replace('\\n','').replace(' ','') for tag_rep in soup_rep.select('article h1 a')]\n",
    "#top_repos = [i for tag_rep in soup_rep.select('article h1 a') for i in tag_rep.children]\n",
    "#top_repos.replace('\\n','').replace(' ','')\n",
    "top_repos"
   ]
  },
  {
   "cell_type": "code",
   "execution_count": 138,
   "metadata": {},
   "outputs": [],
   "source": [
    "#tag_rep = soup_rep.find_all('article', class_=\"Box-row\")\n",
    "#tag_rep = soup_rep.select('article h1 a')\n",
    "#tag_rep\n",
    "#len(tag_rep)\n",
    "#print(tag.attrs['href'][1:])\n",
    "#print(tag_rep)"
   ]
  },
  {
   "cell_type": "code",
   "execution_count": 139,
   "metadata": {},
   "outputs": [],
   "source": [
    "#top_repos = [i for tag_rep in soup_rep.find_all('article', class_=\"Box-row\") for i in tag_rep.children]\n",
    "#top_repos"
   ]
  },
  {
   "cell_type": "markdown",
   "metadata": {},
   "source": [
    "#### Display all the image links from Walt Disney wikipedia page"
   ]
  },
  {
   "cell_type": "code",
   "execution_count": 140,
   "metadata": {},
   "outputs": [],
   "source": [
    "# This is the url you will scrape in this exercise\n",
    "url = 'https://en.wikipedia.org/wiki/Walt_Disney'"
   ]
  },
  {
   "cell_type": "code",
   "execution_count": 141,
   "metadata": {},
   "outputs": [],
   "source": [
    "#your code\n",
    "data_walt = requests.get(url).text\n",
    "\n",
    "soup_walt = BeautifulSoup(data_walt, 'html.parser')"
   ]
  },
  {
   "cell_type": "code",
   "execution_count": 144,
   "metadata": {},
   "outputs": [
    {
     "data": {
      "text/plain": [
       "['http://upload.wikimedia.org/wikipedia/en/thumb/e/e7/Cscr-featured.svg/20px-Cscr-featured.svg.png',\n",
       " 'http://upload.wikimedia.org/wikipedia/en/thumb/1/1b/Semi-protection-shackle.svg/20px-Semi-protection-shackle.svg.png',\n",
       " 'http://upload.wikimedia.org/wikipedia/commons/thumb/d/df/Walt_Disney_1946.JPG/220px-Walt_Disney_1946.JPG',\n",
       " 'http://upload.wikimedia.org/wikipedia/commons/thumb/8/87/Walt_Disney_1942_signature.svg/150px-Walt_Disney_1942_signature.svg.png',\n",
       " 'http://upload.wikimedia.org/wikipedia/commons/thumb/c/c4/Walt_Disney_envelope_ca._1921.jpg/220px-Walt_Disney_envelope_ca._1921.jpg',\n",
       " 'http://upload.wikimedia.org/wikipedia/commons/thumb/4/4d/Newman_Laugh-O-Gram_%281921%29.webm/220px-seek%3D2-Newman_Laugh-O-Gram_%281921%29.webm.jpg',\n",
       " 'http://upload.wikimedia.org/wikipedia/commons/thumb/0/0d/Trolley_Troubles_poster.jpg/170px-Trolley_Troubles_poster.jpg',\n",
       " 'http://upload.wikimedia.org/wikipedia/commons/thumb/7/71/Walt_Disney_and_his_cartoon_creation_%22Mickey_Mouse%22_-_National_Board_of_Review_Magazine.jpg/170px-Walt_Disney_and_his_cartoon_creation_%22Mickey_Mouse%22_-_National_Board_of_Review_Magazine.jpg',\n",
       " 'http://upload.wikimedia.org/wikipedia/en/thumb/4/4e/Steamboat-willie.jpg/170px-Steamboat-willie.jpg',\n",
       " 'http://upload.wikimedia.org/wikipedia/commons/thumb/5/57/Walt_Disney_1935.jpg/170px-Walt_Disney_1935.jpg',\n",
       " 'http://upload.wikimedia.org/wikipedia/commons/thumb/c/cd/Walt_Disney_Snow_white_1937_trailer_screenshot_%2813%29.jpg/220px-Walt_Disney_Snow_white_1937_trailer_screenshot_%2813%29.jpg',\n",
       " 'http://upload.wikimedia.org/wikipedia/commons/thumb/1/15/Disney_drawing_goofy.jpg/170px-Disney_drawing_goofy.jpg',\n",
       " 'http://upload.wikimedia.org/wikipedia/commons/thumb/1/13/DisneySchiphol1951.jpg/220px-DisneySchiphol1951.jpg',\n",
       " 'http://upload.wikimedia.org/wikipedia/commons/thumb/8/8c/WaltDisneyplansDisneylandDec1954.jpg/220px-WaltDisneyplansDisneylandDec1954.jpg',\n",
       " 'http://upload.wikimedia.org/wikipedia/commons/thumb/f/ff/Walt_disney_portrait_right.jpg/170px-Walt_disney_portrait_right.jpg',\n",
       " 'http://upload.wikimedia.org/wikipedia/commons/thumb/1/1a/Walt_Disney_Grave.JPG/170px-Walt_Disney_Grave.JPG',\n",
       " 'http://upload.wikimedia.org/wikipedia/commons/thumb/2/2d/Roy_O._Disney_with_Company_at_Press_Conference.jpg/170px-Roy_O._Disney_with_Company_at_Press_Conference.jpg',\n",
       " 'http://upload.wikimedia.org/wikipedia/commons/thumb/a/a9/Disney_Display_Case.JPG/170px-Disney_Display_Case.JPG',\n",
       " 'http://upload.wikimedia.org/wikipedia/commons/thumb/6/6c/Disney1968.jpg/170px-Disney1968.jpg',\n",
       " 'http://upload.wikimedia.org/wikipedia/en/thumb/8/8a/OOjs_UI_icon_edit-ltr-progressive.svg/10px-OOjs_UI_icon_edit-ltr-progressive.svg.png',\n",
       " 'http://upload.wikimedia.org/wikipedia/commons/thumb/4/44/The_Walt_Disney_Company_Logo.svg/120px-The_Walt_Disney_Company_Logo.svg.png',\n",
       " 'http://upload.wikimedia.org/wikipedia/commons/thumb/d/da/Animation_disc.svg/30px-Animation_disc.svg.png',\n",
       " 'http://upload.wikimedia.org/wikipedia/en/thumb/6/69/P_vip.svg/29px-P_vip.svg.png',\n",
       " 'http://upload.wikimedia.org/wikipedia/commons/thumb/1/1a/Magic_Kingdom_castle.jpg/24px-Magic_Kingdom_castle.jpg',\n",
       " 'http://upload.wikimedia.org/wikipedia/en/thumb/e/e7/Video-x-generic.svg/30px-Video-x-generic.svg.png',\n",
       " 'http://upload.wikimedia.org/wikipedia/commons/thumb/a/a3/Flag_of_Los_Angeles_County%2C_California.svg/30px-Flag_of_Los_Angeles_County%2C_California.svg.png',\n",
       " 'http://upload.wikimedia.org/wikipedia/commons/thumb/8/8c/Blank_television_set.svg/30px-Blank_television_set.svg.png',\n",
       " 'http://upload.wikimedia.org/wikipedia/en/thumb/a/a4/Flag_of_the_United_States.svg/30px-Flag_of_the_United_States.svg.png',\n",
       " 'http://upload.wikimedia.org/wikipedia/en/thumb/4/4a/Commons-logo.svg/22px-Commons-logo.svg.png',\n",
       " 'http://upload.wikimedia.org/wikipedia/commons/thumb/f/fa/Wikiquote-logo.svg/25px-Wikiquote-logo.svg.png',\n",
       " 'http://upload.wikimedia.org/wikipedia/commons/thumb/f/ff/Wikidata-logo.svg/30px-Wikidata-logo.svg.png',\n",
       " 'http://upload.wikimedia.org/wikipedia/en/thumb/8/8a/OOjs_UI_icon_edit-ltr-progressive.svg/10px-OOjs_UI_icon_edit-ltr-progressive.svg.png',\n",
       " 'http://en.wikipedia.org/wiki/Special:CentralAutoLogin/start?type=1x1',\n",
       " 'http:/static/images/wikimedia-button.png',\n",
       " 'http:/static/images/poweredby_mediawiki_88x31.png']"
      ]
     },
     "execution_count": 144,
     "metadata": {},
     "output_type": "execute_result"
    }
   ],
   "source": [
    "imgs_walt = ['http:'+tag_walt['src'] for tag_walt in soup_walt.find_all('img')]\n",
    "#top_repos = [i for tag_rep in soup_rep.select('article h1 a') for i in tag_rep.children]\n",
    "#top_repos.replace('\\n','').replace(' ','')\n",
    "imgs_walt"
   ]
  },
  {
   "cell_type": "markdown",
   "metadata": {},
   "source": [
    "#### Retrieve an arbitary Wikipedia page of \"Python\" and create a list of links on that page"
   ]
  },
  {
   "cell_type": "code",
   "execution_count": 145,
   "metadata": {},
   "outputs": [],
   "source": [
    "# This is the url you will scrape in this exercise\n",
    "url ='https://en.wikipedia.org/wiki/Python' "
   ]
  },
  {
   "cell_type": "code",
   "execution_count": 153,
   "metadata": {},
   "outputs": [
    {
     "data": {
      "text/plain": [
       "[<a id=\"top\"></a>,\n",
       " <a class=\"mw-jump-link\" href=\"#mw-head\">Jump to navigation</a>,\n",
       " <a class=\"mw-jump-link\" href=\"#p-search\">Jump to search</a>,\n",
       " <a class=\"extiw\" href=\"https://en.wiktionary.org/wiki/Python\" title=\"wiktionary:Python\">Python</a>,\n",
       " <a class=\"extiw\" href=\"https://en.wiktionary.org/wiki/python\" title=\"wiktionary:python\">python</a>,\n",
       " <a href=\"#Snakes\"><span class=\"tocnumber\">1</span> <span class=\"toctext\">Snakes</span></a>,\n",
       " <a href=\"#Ancient_Greece\"><span class=\"tocnumber\">2</span> <span class=\"toctext\">Ancient Greece</span></a>,\n",
       " <a href=\"#Media_and_entertainment\"><span class=\"tocnumber\">3</span> <span class=\"toctext\">Media and entertainment</span></a>,\n",
       " <a href=\"#Computing\"><span class=\"tocnumber\">4</span> <span class=\"toctext\">Computing</span></a>,\n",
       " <a href=\"#Engineering\"><span class=\"tocnumber\">5</span> <span class=\"toctext\">Engineering</span></a>,\n",
       " <a href=\"#Roller_coasters\"><span class=\"tocnumber\">5.1</span> <span class=\"toctext\">Roller coasters</span></a>,\n",
       " <a href=\"#Vehicles\"><span class=\"tocnumber\">5.2</span> <span class=\"toctext\">Vehicles</span></a>,\n",
       " <a href=\"#Weaponry\"><span class=\"tocnumber\">5.3</span> <span class=\"toctext\">Weaponry</span></a>,\n",
       " <a href=\"#People\"><span class=\"tocnumber\">6</span> <span class=\"toctext\">People</span></a>,\n",
       " <a href=\"#Other_uses\"><span class=\"tocnumber\">7</span> <span class=\"toctext\">Other uses</span></a>,\n",
       " <a href=\"#See_also\"><span class=\"tocnumber\">8</span> <span class=\"toctext\">See also</span></a>,\n",
       " <a href=\"/w/index.php?title=Python&amp;action=edit&amp;section=1\" title=\"Edit section: Snakes\">edit</a>,\n",
       " <a href=\"/wiki/Pythonidae\" title=\"Pythonidae\">Pythonidae</a>,\n",
       " <a href=\"/wiki/Python_(genus)\" title=\"Python (genus)\"><i>Python</i> (genus)</a>,\n",
       " <a href=\"/w/index.php?title=Python&amp;action=edit&amp;section=2\" title=\"Edit section: Ancient Greece\">edit</a>,\n",
       " <a href=\"/wiki/Python_(mythology)\" title=\"Python (mythology)\">Python (mythology)</a>,\n",
       " <a href=\"/wiki/Python_of_Aenus\" title=\"Python of Aenus\">Python of Aenus</a>,\n",
       " <a href=\"/wiki/Python_(painter)\" title=\"Python (painter)\">Python (painter)</a>,\n",
       " <a href=\"/wiki/Python_of_Byzantium\" title=\"Python of Byzantium\">Python of Byzantium</a>,\n",
       " <a href=\"/wiki/Python_of_Catana\" title=\"Python of Catana\">Python of Catana</a>,\n",
       " <a href=\"/w/index.php?title=Python&amp;action=edit&amp;section=3\" title=\"Edit section: Media and entertainment\">edit</a>,\n",
       " <a href=\"/wiki/Python_(film)\" title=\"Python (film)\"><i>Python</i> (film)</a>,\n",
       " <a href=\"/wiki/Pythons_2\" title=\"Pythons 2\">Pythons 2</a>,\n",
       " <a href=\"/wiki/Monty_Python\" title=\"Monty Python\">Monty Python</a>,\n",
       " <a href=\"/wiki/Python_(Monty)_Pictures\" title=\"Python (Monty) Pictures\">Python (Monty) Pictures</a>,\n",
       " <a href=\"/w/index.php?title=Python&amp;action=edit&amp;section=4\" title=\"Edit section: Computing\">edit</a>,\n",
       " <a href=\"/wiki/Python_(programming_language)\" title=\"Python (programming language)\">Python (programming language)</a>,\n",
       " <a href=\"/wiki/CPython\" title=\"CPython\">CPython</a>,\n",
       " <a href=\"/wiki/CMU_Common_Lisp\" title=\"CMU Common Lisp\">CMU Common Lisp</a>,\n",
       " <a href=\"/wiki/PERQ#PERQ_3\" title=\"PERQ\">PERQ 3</a>,\n",
       " <a href=\"/w/index.php?title=Python&amp;action=edit&amp;section=5\" title=\"Edit section: Engineering\">edit</a>,\n",
       " <a href=\"/w/index.php?title=Python&amp;action=edit&amp;section=6\" title=\"Edit section: Roller coasters\">edit</a>,\n",
       " <a href=\"/wiki/Python_(Busch_Gardens_Tampa_Bay)\" title=\"Python (Busch Gardens Tampa Bay)\">Python (Busch Gardens Tampa Bay)</a>,\n",
       " <a href=\"/wiki/Python_(Coney_Island,_Cincinnati,_Ohio)\" title=\"Python (Coney Island, Cincinnati, Ohio)\">Python (Coney Island, Cincinnati, Ohio)</a>,\n",
       " <a href=\"/wiki/Python_(Efteling)\" title=\"Python (Efteling)\">Python (Efteling)</a>,\n",
       " <a href=\"/w/index.php?title=Python&amp;action=edit&amp;section=7\" title=\"Edit section: Vehicles\">edit</a>,\n",
       " <a href=\"/wiki/Python_(automobile_maker)\" title=\"Python (automobile maker)\">Python (automobile maker)</a>,\n",
       " <a href=\"/wiki/Python_(Ford_prototype)\" title=\"Python (Ford prototype)\">Python (Ford prototype)</a>,\n",
       " <a href=\"/w/index.php?title=Python&amp;action=edit&amp;section=8\" title=\"Edit section: Weaponry\">edit</a>,\n",
       " <a href=\"/wiki/Colt_Python\" title=\"Colt Python\">Colt Python</a>,\n",
       " <a href=\"/wiki/Python_(missile)\" title=\"Python (missile)\">Python (missile)</a>,\n",
       " <a href=\"/wiki/Python_(nuclear_primary)\" title=\"Python (nuclear primary)\">Python (nuclear primary)</a>,\n",
       " <a href=\"/w/index.php?title=Python&amp;action=edit&amp;section=9\" title=\"Edit section: People\">edit</a>,\n",
       " <a href=\"/wiki/Python_Anghelo\" title=\"Python Anghelo\">Python Anghelo</a>,\n",
       " <a href=\"/w/index.php?title=Python&amp;action=edit&amp;section=10\" title=\"Edit section: Other uses\">edit</a>,\n",
       " <a href=\"/wiki/PYTHON\" title=\"PYTHON\">PYTHON</a>,\n",
       " <a href=\"/w/index.php?title=Python&amp;action=edit&amp;section=11\" title=\"Edit section: See also\">edit</a>,\n",
       " <a href=\"/wiki/Cython\" title=\"Cython\">Cython</a>,\n",
       " <a href=\"/wiki/Pyton\" title=\"Pyton\">Pyton</a>,\n",
       " <a class=\"image\" href=\"/wiki/File:Disambig_gray.svg\"><img alt=\"Disambiguation icon\" data-file-height=\"168\" data-file-width=\"220\" decoding=\"async\" height=\"23\" src=\"//upload.wikimedia.org/wikipedia/en/thumb/5/5f/Disambig_gray.svg/30px-Disambig_gray.svg.png\" srcset=\"//upload.wikimedia.org/wikipedia/en/thumb/5/5f/Disambig_gray.svg/45px-Disambig_gray.svg.png 1.5x, //upload.wikimedia.org/wikipedia/en/thumb/5/5f/Disambig_gray.svg/60px-Disambig_gray.svg.png 2x\" width=\"30\"/></a>,\n",
       " <a href=\"/wiki/Help:Disambiguation\" title=\"Help:Disambiguation\">disambiguation</a>,\n",
       " <a class=\"external text\" href=\"https://en.wikipedia.org/w/index.php?title=Special:WhatLinksHere/Python&amp;namespace=0\">internal link</a>,\n",
       " <a dir=\"ltr\" href=\"https://en.wikipedia.org/w/index.php?title=Python&amp;oldid=937840393\">https://en.wikipedia.org/w/index.php?title=Python&amp;oldid=937840393</a>,\n",
       " <a href=\"/wiki/Help:Category\" title=\"Help:Category\">Categories</a>,\n",
       " <a href=\"/wiki/Category:Disambiguation_pages\" title=\"Category:Disambiguation pages\">Disambiguation pages</a>,\n",
       " <a href=\"/wiki/Category:Disambiguation_pages_with_short_description\" title=\"Category:Disambiguation pages with short description\">Disambiguation pages with short description</a>,\n",
       " <a href=\"/wiki/Category:All_article_disambiguation_pages\" title=\"Category:All article disambiguation pages\">All article disambiguation pages</a>,\n",
       " <a href=\"/wiki/Category:All_disambiguation_pages\" title=\"Category:All disambiguation pages\">All disambiguation pages</a>,\n",
       " <a href=\"/wiki/Category:Animal_common_name_disambiguation_pages\" title=\"Category:Animal common name disambiguation pages\">Animal common name disambiguation pages</a>,\n",
       " <a accesskey=\"n\" href=\"/wiki/Special:MyTalk\" title=\"Discussion about edits from this IP address [n]\">Talk</a>,\n",
       " <a accesskey=\"y\" href=\"/wiki/Special:MyContributions\" title=\"A list of edits made from this IP address [y]\">Contributions</a>,\n",
       " <a href=\"/w/index.php?title=Special:CreateAccount&amp;returnto=Python\" title=\"You are encouraged to create an account and log in; however, it is not mandatory\">Create account</a>,\n",
       " <a accesskey=\"o\" href=\"/w/index.php?title=Special:UserLogin&amp;returnto=Python\" title=\"You're encouraged to log in; however, it's not mandatory. [o]\">Log in</a>,\n",
       " <a accesskey=\"c\" href=\"/wiki/Python\" title=\"View the content page [c]\">Article</a>,\n",
       " <a accesskey=\"t\" href=\"/wiki/Talk:Python\" rel=\"discussion\" title=\"Discussion about the content page [t]\">Talk</a>,\n",
       " <a href=\"/wiki/Python\">Read</a>,\n",
       " <a accesskey=\"e\" href=\"/w/index.php?title=Python&amp;action=edit\" title=\"Edit this page [e]\">Edit</a>,\n",
       " <a accesskey=\"h\" href=\"/w/index.php?title=Python&amp;action=history\" title=\"Past revisions of this page [h]\">View history</a>,\n",
       " <a class=\"mw-wiki-logo\" href=\"/wiki/Main_Page\" title=\"Visit the main page\"></a>,\n",
       " <a accesskey=\"z\" href=\"/wiki/Main_Page\" title=\"Visit the main page [z]\">Main page</a>,\n",
       " <a href=\"/wiki/Wikipedia:Contents\" title=\"Guides to browsing Wikipedia\">Contents</a>,\n",
       " <a href=\"/wiki/Wikipedia:Featured_content\" title=\"Featured content – the best of Wikipedia\">Featured content</a>,\n",
       " <a href=\"/wiki/Portal:Current_events\" title=\"Find background information on current events\">Current events</a>,\n",
       " <a accesskey=\"x\" href=\"/wiki/Special:Random\" title=\"Load a random article [x]\">Random article</a>,\n",
       " <a href=\"https://donate.wikimedia.org/wiki/Special:FundraiserRedirector?utm_source=donate&amp;utm_medium=sidebar&amp;utm_campaign=C13_en.wikipedia.org&amp;uselang=en\" title=\"Support us\">Donate to Wikipedia</a>,\n",
       " <a href=\"//shop.wikimedia.org\" title=\"Visit the Wikipedia store\">Wikipedia store</a>,\n",
       " <a href=\"/wiki/Help:Contents\" title=\"Guidance on how to use and edit Wikipedia\">Help</a>,\n",
       " <a href=\"/wiki/Wikipedia:About\" title=\"Find out about Wikipedia\">About Wikipedia</a>,\n",
       " <a href=\"/wiki/Wikipedia:Community_portal\" title=\"About the project, what you can do, where to find things\">Community portal</a>,\n",
       " <a accesskey=\"r\" href=\"/wiki/Special:RecentChanges\" title=\"A list of recent changes in the wiki [r]\">Recent changes</a>,\n",
       " <a href=\"//en.wikipedia.org/wiki/Wikipedia:Contact_us\" title=\"How to contact Wikipedia\">Contact page</a>,\n",
       " <a accesskey=\"j\" href=\"/wiki/Special:WhatLinksHere/Python\" title=\"List of all English Wikipedia pages containing links to this page [j]\">What links here</a>,\n",
       " <a accesskey=\"k\" href=\"/wiki/Special:RecentChangesLinked/Python\" rel=\"nofollow\" title=\"Recent changes in pages linked from this page [k]\">Related changes</a>,\n",
       " <a accesskey=\"u\" href=\"/wiki/Wikipedia:File_Upload_Wizard\" title=\"Upload files [u]\">Upload file</a>,\n",
       " <a accesskey=\"q\" href=\"/wiki/Special:SpecialPages\" title=\"A list of all special pages [q]\">Special pages</a>,\n",
       " <a href=\"/w/index.php?title=Python&amp;oldid=937840393\" title=\"Permanent link to this revision of the page\">Permanent link</a>,\n",
       " <a href=\"/w/index.php?title=Python&amp;action=info\" title=\"More information about this page\">Page information</a>,\n",
       " <a accesskey=\"g\" href=\"https://www.wikidata.org/wiki/Special:EntityPage/Q747452\" title=\"Link to connected data repository item [g]\">Wikidata item</a>,\n",
       " <a href=\"/w/index.php?title=Special:CiteThisPage&amp;page=Python&amp;id=937840393\" title=\"Information on how to cite this page\">Cite this page</a>,\n",
       " <a href=\"https://commons.wikimedia.org/wiki/Category:Python\" hreflang=\"en\">Wikimedia Commons</a>,\n",
       " <a href=\"/w/index.php?title=Special:Book&amp;bookcmd=book_creator&amp;referer=Python\">Create a book</a>,\n",
       " <a href=\"/w/index.php?title=Special:ElectronPdf&amp;page=Python&amp;action=show-download-screen\">Download as PDF</a>,\n",
       " <a accesskey=\"p\" href=\"/w/index.php?title=Python&amp;printable=yes\" title=\"Printable version of this page [p]\">Printable version</a>,\n",
       " <a class=\"interlanguage-link-target\" href=\"https://af.wikipedia.org/wiki/Python\" hreflang=\"af\" lang=\"af\" title=\"Python – Afrikaans\">Afrikaans</a>,\n",
       " <a class=\"interlanguage-link-target\" href=\"https://als.wikipedia.org/wiki/Python\" hreflang=\"gsw\" lang=\"gsw\" title=\"Python – Alemannisch\">Alemannisch</a>,\n",
       " <a class=\"interlanguage-link-target\" href=\"https://az.wikipedia.org/wiki/Python\" hreflang=\"az\" lang=\"az\" title=\"Python – Azerbaijani\">Azərbaycanca</a>,\n",
       " <a class=\"interlanguage-link-target\" href=\"https://bn.wikipedia.org/wiki/%E0%A6%AA%E0%A6%BE%E0%A6%87%E0%A6%A5%E0%A6%A8_(%E0%A6%A6%E0%A7%8D%E0%A6%AC%E0%A7%8D%E0%A6%AF%E0%A6%B0%E0%A7%8D%E0%A6%A5%E0%A6%A4%E0%A6%BE_%E0%A6%A8%E0%A6%BF%E0%A6%B0%E0%A6%B8%E0%A6%A8)\" hreflang=\"bn\" lang=\"bn\" title=\"পাইথন (দ্ব্যর্থতা নিরসন) – Bangla\">বাংলা</a>,\n",
       " <a class=\"interlanguage-link-target\" href=\"https://be.wikipedia.org/wiki/Python\" hreflang=\"be\" lang=\"be\" title=\"Python – Belarusian\">Беларуская</a>,\n",
       " <a class=\"interlanguage-link-target\" href=\"https://bg.wikipedia.org/wiki/%D0%9F%D0%B8%D1%82%D0%BE%D0%BD_(%D0%BF%D0%BE%D1%8F%D1%81%D0%BD%D0%B5%D0%BD%D0%B8%D0%B5)\" hreflang=\"bg\" lang=\"bg\" title=\"Питон (пояснение) – Bulgarian\">Български</a>,\n",
       " <a class=\"interlanguage-link-target\" href=\"https://cs.wikipedia.org/wiki/Python_(rozcestn%C3%ADk)\" hreflang=\"cs\" lang=\"cs\" title=\"Python (rozcestník) – Czech\">Čeština</a>,\n",
       " <a class=\"interlanguage-link-target\" href=\"https://da.wikipedia.org/wiki/Python\" hreflang=\"da\" lang=\"da\" title=\"Python – Danish\">Dansk</a>,\n",
       " <a class=\"interlanguage-link-target\" href=\"https://de.wikipedia.org/wiki/Python\" hreflang=\"de\" lang=\"de\" title=\"Python – German\">Deutsch</a>,\n",
       " <a class=\"interlanguage-link-target\" href=\"https://eo.wikipedia.org/wiki/Pitono_(apartigilo)\" hreflang=\"eo\" lang=\"eo\" title=\"Pitono (apartigilo) – Esperanto\">Esperanto</a>,\n",
       " <a class=\"interlanguage-link-target\" href=\"https://eu.wikipedia.org/wiki/Python_(argipena)\" hreflang=\"eu\" lang=\"eu\" title=\"Python (argipena) – Basque\">Euskara</a>,\n",
       " <a class=\"interlanguage-link-target\" href=\"https://fa.wikipedia.org/wiki/%D9%BE%D8%A7%DB%8C%D8%AA%D9%88%D9%86\" hreflang=\"fa\" lang=\"fa\" title=\"پایتون – Persian\">فارسی</a>,\n",
       " <a class=\"interlanguage-link-target\" href=\"https://fr.wikipedia.org/wiki/Python\" hreflang=\"fr\" lang=\"fr\" title=\"Python – French\">Français</a>,\n",
       " <a class=\"interlanguage-link-target\" href=\"https://ko.wikipedia.org/wiki/%ED%8C%8C%EC%9D%B4%EC%84%A0\" hreflang=\"ko\" lang=\"ko\" title=\"파이선 – Korean\">한국어</a>,\n",
       " <a class=\"interlanguage-link-target\" href=\"https://hr.wikipedia.org/wiki/Python_(razdvojba)\" hreflang=\"hr\" lang=\"hr\" title=\"Python (razdvojba) – Croatian\">Hrvatski</a>,\n",
       " <a class=\"interlanguage-link-target\" href=\"https://io.wikipedia.org/wiki/Pitono\" hreflang=\"io\" lang=\"io\" title=\"Pitono – Ido\">Ido</a>,\n",
       " <a class=\"interlanguage-link-target\" href=\"https://id.wikipedia.org/wiki/Python\" hreflang=\"id\" lang=\"id\" title=\"Python – Indonesian\">Bahasa Indonesia</a>,\n",
       " <a class=\"interlanguage-link-target\" href=\"https://ia.wikipedia.org/wiki/Python_(disambiguation)\" hreflang=\"ia\" lang=\"ia\" title=\"Python (disambiguation) – Interlingua\">Interlingua</a>,\n",
       " <a class=\"interlanguage-link-target\" href=\"https://is.wikipedia.org/wiki/Python_(a%C3%B0greining)\" hreflang=\"is\" lang=\"is\" title=\"Python (aðgreining) – Icelandic\">Íslenska</a>,\n",
       " <a class=\"interlanguage-link-target\" href=\"https://it.wikipedia.org/wiki/Python_(disambigua)\" hreflang=\"it\" lang=\"it\" title=\"Python (disambigua) – Italian\">Italiano</a>,\n",
       " <a class=\"interlanguage-link-target\" href=\"https://he.wikipedia.org/wiki/%D7%A4%D7%99%D7%AA%D7%95%D7%9F\" hreflang=\"he\" lang=\"he\" title=\"פיתון – Hebrew\">עברית</a>,\n",
       " <a class=\"interlanguage-link-target\" href=\"https://ka.wikipedia.org/wiki/%E1%83%9E%E1%83%98%E1%83%97%E1%83%9D%E1%83%9C%E1%83%98_(%E1%83%9B%E1%83%A0%E1%83%90%E1%83%95%E1%83%90%E1%83%9A%E1%83%9B%E1%83%9C%E1%83%98%E1%83%A8%E1%83%95%E1%83%9C%E1%83%94%E1%83%9A%E1%83%9D%E1%83%95%E1%83%90%E1%83%9C%E1%83%98)\" hreflang=\"ka\" lang=\"ka\" title=\"პითონი (მრავალმნიშვნელოვანი) – Georgian\">ქართული</a>,\n",
       " <a class=\"interlanguage-link-target\" href=\"https://kg.wikipedia.org/wiki/Mboma_(nyoka)\" hreflang=\"kg\" lang=\"kg\" title=\"Mboma (nyoka) – Kongo\">Kongo</a>,\n",
       " <a class=\"interlanguage-link-target\" href=\"https://la.wikipedia.org/wiki/Python_(discretiva)\" hreflang=\"la\" lang=\"la\" title=\"Python (discretiva) – Latin\">Latina</a>,\n",
       " <a class=\"interlanguage-link-target\" href=\"https://lb.wikipedia.org/wiki/Python\" hreflang=\"lb\" lang=\"lb\" title=\"Python – Luxembourgish\">Lëtzebuergesch</a>,\n",
       " <a class=\"interlanguage-link-target\" href=\"https://hu.wikipedia.org/wiki/Python_(egy%C3%A9rtelm%C5%B1s%C3%ADt%C5%91_lap)\" hreflang=\"hu\" lang=\"hu\" title=\"Python (egyértelműsítő lap) – Hungarian\">Magyar</a>,\n",
       " <a class=\"interlanguage-link-target\" href=\"https://mr.wikipedia.org/wiki/%E0%A4%AA%E0%A4%BE%E0%A4%AF%E0%A4%A5%E0%A5%89%E0%A4%A8_(%E0%A4%86%E0%A4%9C%E0%A5%8D%E0%A4%9E%E0%A4%BE%E0%A4%B5%E0%A4%B2%E0%A5%80_%E0%A4%AD%E0%A4%BE%E0%A4%B7%E0%A4%BE)\" hreflang=\"mr\" lang=\"mr\" title=\"पायथॉन (आज्ञावली भाषा) – Marathi\">मराठी</a>,\n",
       " <a class=\"interlanguage-link-target\" href=\"https://nl.wikipedia.org/wiki/Python\" hreflang=\"nl\" lang=\"nl\" title=\"Python – Dutch\">Nederlands</a>,\n",
       " <a class=\"interlanguage-link-target\" href=\"https://ja.wikipedia.org/wiki/%E3%83%91%E3%82%A4%E3%82%BD%E3%83%B3\" hreflang=\"ja\" lang=\"ja\" title=\"パイソン – Japanese\">日本語</a>,\n",
       " <a class=\"interlanguage-link-target\" href=\"https://no.wikipedia.org/wiki/Pyton\" hreflang=\"nb\" lang=\"nb\" title=\"Pyton – Norwegian Bokmål\">Norsk bokmål</a>,\n",
       " <a class=\"interlanguage-link-target\" href=\"https://pl.wikipedia.org/wiki/Pyton\" hreflang=\"pl\" lang=\"pl\" title=\"Pyton – Polish\">Polski</a>,\n",
       " <a class=\"interlanguage-link-target\" href=\"https://pt.wikipedia.org/wiki/Python_(desambigua%C3%A7%C3%A3o)\" hreflang=\"pt\" lang=\"pt\" title=\"Python (desambiguação) – Portuguese\">Português</a>,\n",
       " <a class=\"interlanguage-link-target\" href=\"https://ru.wikipedia.org/wiki/Python_(%D0%B7%D0%BD%D0%B0%D1%87%D0%B5%D0%BD%D0%B8%D1%8F)\" hreflang=\"ru\" lang=\"ru\" title=\"Python (значения) – Russian\">Русский</a>,\n",
       " <a class=\"interlanguage-link-target\" href=\"https://sk.wikipedia.org/wiki/Python\" hreflang=\"sk\" lang=\"sk\" title=\"Python – Slovak\">Slovenčina</a>,\n",
       " <a class=\"interlanguage-link-target\" href=\"https://sr.wikipedia.org/wiki/%D0%9F%D0%B8%D1%82%D0%BE%D0%BD_(%D0%B2%D0%B8%D1%88%D0%B5%D0%B7%D0%BD%D0%B0%D1%87%D0%BD%D0%B0_%D0%BE%D0%B4%D1%80%D0%B5%D0%B4%D0%BD%D0%B8%D1%86%D0%B0)\" hreflang=\"sr\" lang=\"sr\" title=\"Питон (вишезначна одредница) – Serbian\">Српски / srpski</a>,\n",
       " <a class=\"interlanguage-link-target\" href=\"https://sh.wikipedia.org/wiki/Python\" hreflang=\"sh\" lang=\"sh\" title=\"Python – Serbo-Croatian\">Srpskohrvatski / српскохрватски</a>,\n",
       " <a class=\"interlanguage-link-target\" href=\"https://fi.wikipedia.org/wiki/Python\" hreflang=\"fi\" lang=\"fi\" title=\"Python – Finnish\">Suomi</a>,\n",
       " <a class=\"interlanguage-link-target\" href=\"https://sv.wikipedia.org/wiki/Pyton\" hreflang=\"sv\" lang=\"sv\" title=\"Pyton – Swedish\">Svenska</a>,\n",
       " <a class=\"interlanguage-link-target\" href=\"https://th.wikipedia.org/wiki/%E0%B9%84%E0%B8%9E%E0%B8%97%E0%B8%AD%E0%B8%99\" hreflang=\"th\" lang=\"th\" title=\"ไพทอน – Thai\">ไทย</a>,\n",
       " <a class=\"interlanguage-link-target\" href=\"https://tr.wikipedia.org/wiki/Python\" hreflang=\"tr\" lang=\"tr\" title=\"Python – Turkish\">Türkçe</a>,\n",
       " <a class=\"interlanguage-link-target\" href=\"https://uk.wikipedia.org/wiki/%D0%9F%D1%96%D1%84%D0%BE%D0%BD\" hreflang=\"uk\" lang=\"uk\" title=\"Піфон – Ukrainian\">Українська</a>,\n",
       " <a class=\"interlanguage-link-target\" href=\"https://ur.wikipedia.org/wiki/%D9%BE%D8%A7%D8%A6%DB%8C%D8%AA%DA%BE%D9%88%D9%86\" hreflang=\"ur\" lang=\"ur\" title=\"پائیتھون – Urdu\">اردو</a>,\n",
       " <a class=\"interlanguage-link-target\" href=\"https://vi.wikipedia.org/wiki/Python\" hreflang=\"vi\" lang=\"vi\" title=\"Python – Vietnamese\">Tiếng Việt</a>,\n",
       " <a class=\"interlanguage-link-target\" href=\"https://zh.wikipedia.org/wiki/Python_(%E6%B6%88%E6%AD%A7%E4%B9%89)\" hreflang=\"zh\" lang=\"zh\" title=\"Python (消歧义) – Chinese\">中文</a>,\n",
       " <a class=\"wbc-editpage\" href=\"https://www.wikidata.org/wiki/Special:EntityPage/Q747452#sitelinks-wikipedia\" title=\"Edit interlanguage links\">Edit links</a>,\n",
       " <a href=\"//en.wikipedia.org/wiki/Wikipedia:Text_of_Creative_Commons_Attribution-ShareAlike_3.0_Unported_License\" rel=\"license\">Creative Commons Attribution-ShareAlike License</a>,\n",
       " <a href=\"//creativecommons.org/licenses/by-sa/3.0/\" rel=\"license\" style=\"display:none;\"></a>,\n",
       " <a href=\"//foundation.wikimedia.org/wiki/Terms_of_Use\">Terms of Use</a>,\n",
       " <a href=\"//foundation.wikimedia.org/wiki/Privacy_policy\">Privacy Policy</a>,\n",
       " <a href=\"//www.wikimediafoundation.org/\">Wikimedia Foundation, Inc.</a>,\n",
       " <a class=\"extiw\" href=\"https://foundation.wikimedia.org/wiki/Privacy_policy\" title=\"wmf:Privacy policy\">Privacy policy</a>,\n",
       " <a href=\"/wiki/Wikipedia:About\" title=\"Wikipedia:About\">About Wikipedia</a>,\n",
       " <a href=\"/wiki/Wikipedia:General_disclaimer\" title=\"Wikipedia:General disclaimer\">Disclaimers</a>,\n",
       " <a href=\"//en.wikipedia.org/wiki/Wikipedia:Contact_us\">Contact Wikipedia</a>,\n",
       " <a href=\"https://www.mediawiki.org/wiki/Special:MyLanguage/How_to_contribute\">Developers</a>,\n",
       " <a href=\"https://stats.wikimedia.org/v2/#/en.wikipedia.org\">Statistics</a>,\n",
       " <a href=\"https://foundation.wikimedia.org/wiki/Cookie_statement\">Cookie statement</a>,\n",
       " <a class=\"noprint stopMobileRedirectToggle\" href=\"//en.m.wikipedia.org/w/index.php?title=Python&amp;mobileaction=toggle_view_mobile\">Mobile view</a>,\n",
       " <a href=\"https://wikimediafoundation.org/\"><img alt=\"Wikimedia Foundation\" height=\"31\" src=\"/static/images/wikimedia-button.png\" srcset=\"/static/images/wikimedia-button-1.5x.png 1.5x, /static/images/wikimedia-button-2x.png 2x\" width=\"88\"/></a>,\n",
       " <a href=\"https://www.mediawiki.org/\"><img alt=\"Powered by MediaWiki\" height=\"31\" src=\"/static/images/poweredby_mediawiki_88x31.png\" srcset=\"/static/images/poweredby_mediawiki_132x47.png 1.5x, /static/images/poweredby_mediawiki_176x62.png 2x\" width=\"88\"/></a>]"
      ]
     },
     "execution_count": 153,
     "metadata": {},
     "output_type": "execute_result"
    }
   ],
   "source": [
    "#your code\n",
    "data_pyt = requests.get(url).text\n",
    "\n",
    "soup_pyt = BeautifulSoup(data_pyt, 'html.parser')\n",
    "\n",
    "links_pyt = [tag_pyt for tag_pyt in soup_pyt.find_all('a')]\n",
    "\n",
    "links_pyt"
   ]
  },
  {
   "cell_type": "code",
   "execution_count": 154,
   "metadata": {},
   "outputs": [],
   "source": [
    "# ---------- pendiente, sigo -----------"
   ]
  },
  {
   "cell_type": "markdown",
   "metadata": {},
   "source": [
    "#### Number of Titles that have changed in the United States Code since its last release point "
   ]
  },
  {
   "cell_type": "code",
   "execution_count": 155,
   "metadata": {},
   "outputs": [],
   "source": [
    "# This is the url you will scrape in this exercise\n",
    "url = 'http://uscode.house.gov/download/download.shtml'\n",
    "# \"Titles in bold have been changed since the last release point.\""
   ]
  },
  {
   "cell_type": "code",
   "execution_count": 163,
   "metadata": {},
   "outputs": [
    {
     "data": {
      "text/plain": [
       "['Title 18 - Crimes and Criminal Procedure ٭',\n",
       " 'Title 20 - Education',\n",
       " 'Title 26 - Internal Revenue Code']"
      ]
     },
     "execution_count": 163,
     "metadata": {},
     "output_type": "execute_result"
    }
   ],
   "source": [
    "#your code\n",
    "data_USC = requests.get(url).text\n",
    "\n",
    "soup_USC = BeautifulSoup(data_USC, 'html.parser')\n",
    "\n",
    "qwert = [tag.text.strip('\\n ') for tag in soup_USC.find_all('div', class_=\"usctitlechanged\")]\n",
    "qwert"
   ]
  },
  {
   "cell_type": "markdown",
   "metadata": {},
   "source": [
    "#### A Python list with the top ten FBI's Most Wanted names "
   ]
  },
  {
   "cell_type": "code",
   "execution_count": 164,
   "metadata": {},
   "outputs": [],
   "source": [
    "# This is the url you will scrape in this exercise\n",
    "url = 'https://www.fbi.gov/wanted/topten'"
   ]
  },
  {
   "cell_type": "code",
   "execution_count": 167,
   "metadata": {},
   "outputs": [
    {
     "data": {
      "text/plain": [
       "['JASON DEREK BROWN',\n",
       " 'ALEXIS FLORES',\n",
       " 'EUGENE PALMER',\n",
       " 'SANTIAGO VILLALBA MEDEROS',\n",
       " 'RAFAEL CARO-QUINTERO',\n",
       " 'ROBERT WILLIAM FISHER',\n",
       " 'BHADRESHKUMAR CHETANBHAI PATEL',\n",
       " 'ARNOLDO JIMENEZ',\n",
       " 'ALEJANDRO ROSALES CASTILLO',\n",
       " 'YASER ABDEL SAID']"
      ]
     },
     "execution_count": 167,
     "metadata": {},
     "output_type": "execute_result"
    }
   ],
   "source": [
    "#your code \n",
    "#<h3 class=\"title\">\n",
    "#<a href=\"https://www.fbi.gov/wanted/topten/jason-derek-brown\">JASON DEREK BROWN</a>\n",
    "#</h3>\n",
    "data_FBI = requests.get(url).text\n",
    "\n",
    "soup_FBI = BeautifulSoup(data_FBI, 'html.parser')\n",
    "\n",
    "qwert = [tag.text.strip() for tag in soup_FBI.find_all('h3', class_=\"title\")]\n",
    "qwert"
   ]
  },
  {
   "cell_type": "markdown",
   "metadata": {},
   "source": [
    "####  20 latest earthquakes info (date, time, latitude, longitude and region name) by the EMSC as a pandas dataframe"
   ]
  },
  {
   "cell_type": "code",
   "execution_count": 168,
   "metadata": {},
   "outputs": [],
   "source": [
    "# This is the url you will scrape in this exercise\n",
    "url = 'https://www.emsc-csem.org/Earthquake/'"
   ]
  },
  {
   "cell_type": "code",
   "execution_count": 191,
   "metadata": {},
   "outputs": [
    {
     "name": "stdout",
     "output_type": "stream",
     "text": [
      "20 20 20 20 20 20 20\n"
     ]
    }
   ],
   "source": [
    "#your code\n",
    "data_EQ = requests.get(url).text\n",
    "\n",
    "soup_EQ = BeautifulSoup(data_EQ, 'html.parser')\n",
    "\n",
    "qwert = [tag.text for tag in soup_EQ.find_all('td', class_=\"tabev6\")][0:20]\n",
    "fechas = [re.findall(r'(\\d\\d\\d\\d-\\d\\d-\\d\\d)',z) for z in qwert]\n",
    "horas = [re.findall(r'(\\d\\d:\\d\\d:\\d\\d)',z) for z in qwert]\n",
    "lat = [tag.text.replace('\\xa0','') for tag in soup_EQ.find_all('td', class_=\"tabev1\")][0:39:2]\n",
    "lon = [tag.text.replace('\\xa0','') for tag in soup_EQ.find_all('td', class_=\"tabev1\")][1:40:2]\n",
    "latns = [tag.text.replace('\\xa0','') for tag in soup_EQ.find_all('td', class_=\"tabev2\")][0:59:3]\n",
    "lonwe = [tag.text.replace('\\xa0','') for tag in soup_EQ.find_all('td', class_=\"tabev2\")][1:60:3]\n",
    "#<td class=\"tabev6\"><b><i style=\"display:none;\">earthquake</i><a href=\"/Earthquake/earthquake.php?id=825028\">2020-01-30&nbsp;&nbsp;&nbsp;17:34:59.0</a></b><i class=\"ago\" id=\"ago0\">35min ago</i></td>\n",
    "#<td id=\"reg0\" class=\"tb_region\">&nbsp;SICILY, ITALY</td>\n",
    "region = [tag.text.replace('\\xa0','') for tag in soup_EQ.find_all('td', class_=\"tb_region\")][0:20]\n",
    "print(len(fechas),len(horas),len(lat),len(latns),len(lon),len(lonwe),len(region))"
   ]
  },
  {
   "cell_type": "code",
   "execution_count": 192,
   "metadata": {},
   "outputs": [
    {
     "data": {
      "text/html": [
       "<div>\n",
       "<style scoped>\n",
       "    .dataframe tbody tr th:only-of-type {\n",
       "        vertical-align: middle;\n",
       "    }\n",
       "\n",
       "    .dataframe tbody tr th {\n",
       "        vertical-align: top;\n",
       "    }\n",
       "\n",
       "    .dataframe thead th {\n",
       "        text-align: right;\n",
       "    }\n",
       "</style>\n",
       "<table border=\"1\" class=\"dataframe\">\n",
       "  <thead>\n",
       "    <tr style=\"text-align: right;\">\n",
       "      <th></th>\n",
       "      <th>date</th>\n",
       "      <th>time</th>\n",
       "      <th>latitude</th>\n",
       "      <th>lat_dir</th>\n",
       "      <th>longitude</th>\n",
       "      <th>lon_dir</th>\n",
       "      <th>region</th>\n",
       "    </tr>\n",
       "  </thead>\n",
       "  <tbody>\n",
       "    <tr>\n",
       "      <td>0</td>\n",
       "      <td>[2020-01-30]</td>\n",
       "      <td>[17:58:10]</td>\n",
       "      <td>9.94</td>\n",
       "      <td>S</td>\n",
       "      <td>160.98</td>\n",
       "      <td>E</td>\n",
       "      <td>SOLOMON ISLANDS</td>\n",
       "    </tr>\n",
       "    <tr>\n",
       "      <td>1</td>\n",
       "      <td>[2020-01-30]</td>\n",
       "      <td>[17:57:57]</td>\n",
       "      <td>39.09</td>\n",
       "      <td>N</td>\n",
       "      <td>30.17</td>\n",
       "      <td>E</td>\n",
       "      <td>WESTERN TURKEY</td>\n",
       "    </tr>\n",
       "    <tr>\n",
       "      <td>2</td>\n",
       "      <td>[2020-01-30]</td>\n",
       "      <td>[17:34:59]</td>\n",
       "      <td>38.40</td>\n",
       "      <td>N</td>\n",
       "      <td>15.36</td>\n",
       "      <td>E</td>\n",
       "      <td>SICILY, ITALY</td>\n",
       "    </tr>\n",
       "    <tr>\n",
       "      <td>3</td>\n",
       "      <td>[2020-01-30]</td>\n",
       "      <td>[17:29:59]</td>\n",
       "      <td>35.09</td>\n",
       "      <td>N</td>\n",
       "      <td>95.22</td>\n",
       "      <td>W</td>\n",
       "      <td>OKLAHOMA</td>\n",
       "    </tr>\n",
       "    <tr>\n",
       "      <td>4</td>\n",
       "      <td>[2020-01-30]</td>\n",
       "      <td>[17:29:14]</td>\n",
       "      <td>35.31</td>\n",
       "      <td>N</td>\n",
       "      <td>28.03</td>\n",
       "      <td>E</td>\n",
       "      <td>EASTERN MEDITERRANEAN SEA</td>\n",
       "    </tr>\n",
       "    <tr>\n",
       "      <td>5</td>\n",
       "      <td>[2020-01-30]</td>\n",
       "      <td>[17:26:26]</td>\n",
       "      <td>19.45</td>\n",
       "      <td>N</td>\n",
       "      <td>155.19</td>\n",
       "      <td>W</td>\n",
       "      <td>ISLAND OF HAWAII, HAWAII</td>\n",
       "    </tr>\n",
       "    <tr>\n",
       "      <td>6</td>\n",
       "      <td>[2020-01-30]</td>\n",
       "      <td>[17:21:08]</td>\n",
       "      <td>17.97</td>\n",
       "      <td>N</td>\n",
       "      <td>66.78</td>\n",
       "      <td>W</td>\n",
       "      <td>PUERTO RICO REGION</td>\n",
       "    </tr>\n",
       "    <tr>\n",
       "      <td>7</td>\n",
       "      <td>[2020-01-30]</td>\n",
       "      <td>[17:15:36]</td>\n",
       "      <td>17.96</td>\n",
       "      <td>N</td>\n",
       "      <td>66.78</td>\n",
       "      <td>W</td>\n",
       "      <td>PUERTO RICO REGION</td>\n",
       "    </tr>\n",
       "    <tr>\n",
       "      <td>8</td>\n",
       "      <td>[2020-01-30]</td>\n",
       "      <td>[17:10:27]</td>\n",
       "      <td>17.96</td>\n",
       "      <td>N</td>\n",
       "      <td>66.76</td>\n",
       "      <td>W</td>\n",
       "      <td>PUERTO RICO REGION</td>\n",
       "    </tr>\n",
       "    <tr>\n",
       "      <td>9</td>\n",
       "      <td>[2020-01-30]</td>\n",
       "      <td>[17:10:22]</td>\n",
       "      <td>20.01</td>\n",
       "      <td>N</td>\n",
       "      <td>155.62</td>\n",
       "      <td>W</td>\n",
       "      <td>HAWAII REGION, HAWAII</td>\n",
       "    </tr>\n",
       "    <tr>\n",
       "      <td>10</td>\n",
       "      <td>[2020-01-30]</td>\n",
       "      <td>[17:08:59]</td>\n",
       "      <td>8.25</td>\n",
       "      <td>S</td>\n",
       "      <td>118.05</td>\n",
       "      <td>E</td>\n",
       "      <td>SUMBAWA REGION, INDONESIA</td>\n",
       "    </tr>\n",
       "    <tr>\n",
       "      <td>11</td>\n",
       "      <td>[2020-01-30]</td>\n",
       "      <td>[17:07:34]</td>\n",
       "      <td>36.70</td>\n",
       "      <td>N</td>\n",
       "      <td>121.33</td>\n",
       "      <td>W</td>\n",
       "      <td>CENTRAL CALIFORNIA</td>\n",
       "    </tr>\n",
       "    <tr>\n",
       "      <td>12</td>\n",
       "      <td>[2020-01-30]</td>\n",
       "      <td>[17:06:15]</td>\n",
       "      <td>17.98</td>\n",
       "      <td>N</td>\n",
       "      <td>66.86</td>\n",
       "      <td>W</td>\n",
       "      <td>PUERTO RICO</td>\n",
       "    </tr>\n",
       "    <tr>\n",
       "      <td>13</td>\n",
       "      <td>[2020-01-30]</td>\n",
       "      <td>[16:59:40]</td>\n",
       "      <td>19.39</td>\n",
       "      <td>N</td>\n",
       "      <td>155.28</td>\n",
       "      <td>W</td>\n",
       "      <td>ISLAND OF HAWAII, HAWAII</td>\n",
       "    </tr>\n",
       "    <tr>\n",
       "      <td>14</td>\n",
       "      <td>[2020-01-30]</td>\n",
       "      <td>[16:48:05]</td>\n",
       "      <td>19.42</td>\n",
       "      <td>N</td>\n",
       "      <td>155.28</td>\n",
       "      <td>W</td>\n",
       "      <td>ISLAND OF HAWAII, HAWAII</td>\n",
       "    </tr>\n",
       "    <tr>\n",
       "      <td>15</td>\n",
       "      <td>[2020-01-30]</td>\n",
       "      <td>[16:24:22]</td>\n",
       "      <td>35.13</td>\n",
       "      <td>N</td>\n",
       "      <td>27.95</td>\n",
       "      <td>E</td>\n",
       "      <td>DODECANESE ISLANDS, GREECE</td>\n",
       "    </tr>\n",
       "    <tr>\n",
       "      <td>16</td>\n",
       "      <td>[2020-01-30]</td>\n",
       "      <td>[16:20:41]</td>\n",
       "      <td>35.38</td>\n",
       "      <td>N</td>\n",
       "      <td>28.05</td>\n",
       "      <td>E</td>\n",
       "      <td>EASTERN MEDITERRANEAN SEA</td>\n",
       "    </tr>\n",
       "    <tr>\n",
       "      <td>17</td>\n",
       "      <td>[2020-01-30]</td>\n",
       "      <td>[16:07:04]</td>\n",
       "      <td>35.66</td>\n",
       "      <td>N</td>\n",
       "      <td>117.48</td>\n",
       "      <td>W</td>\n",
       "      <td>SOUTHERN CALIFORNIA</td>\n",
       "    </tr>\n",
       "    <tr>\n",
       "      <td>18</td>\n",
       "      <td>[2020-01-30]</td>\n",
       "      <td>[16:03:06]</td>\n",
       "      <td>36.70</td>\n",
       "      <td>N</td>\n",
       "      <td>121.36</td>\n",
       "      <td>W</td>\n",
       "      <td>CENTRAL CALIFORNIA</td>\n",
       "    </tr>\n",
       "    <tr>\n",
       "      <td>19</td>\n",
       "      <td>[2020-01-30]</td>\n",
       "      <td>[15:58:49]</td>\n",
       "      <td>31.13</td>\n",
       "      <td>N</td>\n",
       "      <td>103.25</td>\n",
       "      <td>W</td>\n",
       "      <td>WESTERN TEXAS</td>\n",
       "    </tr>\n",
       "  </tbody>\n",
       "</table>\n",
       "</div>"
      ],
      "text/plain": [
       "            date        time latitude lat_dir longitude lon_dir  \\\n",
       "0   [2020-01-30]  [17:58:10]     9.94       S    160.98       E   \n",
       "1   [2020-01-30]  [17:57:57]    39.09       N     30.17       E   \n",
       "2   [2020-01-30]  [17:34:59]    38.40       N     15.36       E   \n",
       "3   [2020-01-30]  [17:29:59]    35.09       N     95.22       W   \n",
       "4   [2020-01-30]  [17:29:14]    35.31       N     28.03       E   \n",
       "5   [2020-01-30]  [17:26:26]    19.45       N    155.19       W   \n",
       "6   [2020-01-30]  [17:21:08]    17.97       N     66.78       W   \n",
       "7   [2020-01-30]  [17:15:36]    17.96       N     66.78       W   \n",
       "8   [2020-01-30]  [17:10:27]    17.96       N     66.76       W   \n",
       "9   [2020-01-30]  [17:10:22]    20.01       N    155.62       W   \n",
       "10  [2020-01-30]  [17:08:59]     8.25       S    118.05       E   \n",
       "11  [2020-01-30]  [17:07:34]    36.70       N    121.33       W   \n",
       "12  [2020-01-30]  [17:06:15]    17.98       N     66.86       W   \n",
       "13  [2020-01-30]  [16:59:40]    19.39       N    155.28       W   \n",
       "14  [2020-01-30]  [16:48:05]    19.42       N    155.28       W   \n",
       "15  [2020-01-30]  [16:24:22]    35.13       N     27.95       E   \n",
       "16  [2020-01-30]  [16:20:41]    35.38       N     28.05       E   \n",
       "17  [2020-01-30]  [16:07:04]    35.66       N    117.48       W   \n",
       "18  [2020-01-30]  [16:03:06]    36.70       N    121.36       W   \n",
       "19  [2020-01-30]  [15:58:49]    31.13       N    103.25       W   \n",
       "\n",
       "                        region  \n",
       "0              SOLOMON ISLANDS  \n",
       "1               WESTERN TURKEY  \n",
       "2                SICILY, ITALY  \n",
       "3                     OKLAHOMA  \n",
       "4    EASTERN MEDITERRANEAN SEA  \n",
       "5     ISLAND OF HAWAII, HAWAII  \n",
       "6           PUERTO RICO REGION  \n",
       "7           PUERTO RICO REGION  \n",
       "8           PUERTO RICO REGION  \n",
       "9        HAWAII REGION, HAWAII  \n",
       "10   SUMBAWA REGION, INDONESIA  \n",
       "11          CENTRAL CALIFORNIA  \n",
       "12                 PUERTO RICO  \n",
       "13    ISLAND OF HAWAII, HAWAII  \n",
       "14    ISLAND OF HAWAII, HAWAII  \n",
       "15  DODECANESE ISLANDS, GREECE  \n",
       "16   EASTERN MEDITERRANEAN SEA  \n",
       "17         SOUTHERN CALIFORNIA  \n",
       "18          CENTRAL CALIFORNIA  \n",
       "19               WESTERN TEXAS  "
      ]
     },
     "execution_count": 192,
     "metadata": {},
     "output_type": "execute_result"
    }
   ],
   "source": [
    "dictio = {'date': fechas, 'time': horas, 'latitude': lat, 'lat_dir': latns, 'longitude': lon, 'lon_dir': lonwe, 'region': region}  \n",
    "    \n",
    "df = pd.DataFrame(dictio)\n",
    "\n",
    "df"
   ]
  },
  {
   "cell_type": "markdown",
   "metadata": {},
   "source": [
    "#### Display the date, days, title, city, country of next 25 hackathon events as a Pandas dataframe table"
   ]
  },
  {
   "cell_type": "code",
   "execution_count": null,
   "metadata": {},
   "outputs": [],
   "source": [
    "# This is the url you will scrape in this exercise\n",
    "url ='https://hackevents.co/hackathons'"
   ]
  },
  {
   "cell_type": "code",
   "execution_count": null,
   "metadata": {},
   "outputs": [],
   "source": [
    "#your code"
   ]
  },
  {
   "cell_type": "markdown",
   "metadata": {},
   "source": [
    "#### Count number of tweets by a given Twitter account."
   ]
  },
  {
   "cell_type": "markdown",
   "metadata": {},
   "source": [
    "You will need to include a ***try/except block*** for account names not found. \n",
    "<br>***Hint:*** the program should count the number of tweets for any provided account"
   ]
  },
  {
   "cell_type": "code",
   "execution_count": 195,
   "metadata": {},
   "outputs": [],
   "source": [
    "# This is the url you will scrape in this exercise \n",
    "# You will need to add the account credentials to this url\n",
    "url = 'https://twitter.com/'"
   ]
  },
  {
   "cell_type": "code",
   "execution_count": 212,
   "metadata": {},
   "outputs": [
    {
     "name": "stdout",
     "output_type": "stream",
     "text": [
      "Dime un usuario de twitter válido:mashable\n",
      "https://twitter.com/mashable\n"
     ]
    }
   ],
   "source": [
    "#your code\n",
    "user = input('Dime un usuario de twitter válido:')\n",
    "url2 = url+user\n",
    "print(url2)\n",
    "#falta el try except"
   ]
  },
  {
   "cell_type": "code",
   "execution_count": 213,
   "metadata": {},
   "outputs": [
    {
     "data": {
      "text/plain": [
       "['368.224 Tweets']"
      ]
     },
     "execution_count": 213,
     "metadata": {},
     "output_type": "execute_result"
    }
   ],
   "source": [
    "data_TW = requests.get(url2).text\n",
    "soup_TW = BeautifulSoup(data_TW, 'html.parser')\n",
    "num_TW = [tag.attrs['title'] for tag in soup_TW.find_all('a', class_=\"ProfileNav-stat ProfileNav-stat--link u-borderUserColor u-textCenter js-tooltip js-nav\")]\n",
    "num_TW"
   ]
  },
  {
   "cell_type": "markdown",
   "metadata": {},
   "source": [
    "#### Number of followers of a given twitter account"
   ]
  },
  {
   "cell_type": "markdown",
   "metadata": {},
   "source": [
    "You will need to include a ***try/except block*** in case account/s name not found. \n",
    "<br>***Hint:*** the program should count the followers for any provided account"
   ]
  },
  {
   "cell_type": "code",
   "execution_count": 215,
   "metadata": {},
   "outputs": [],
   "source": [
    "# This is the url you will scrape in this exercise \n",
    "# You will need to add the account credentials to this url\n",
    "url = 'https://twitter.com/'"
   ]
  },
  {
   "cell_type": "code",
   "execution_count": 214,
   "metadata": {},
   "outputs": [
    {
     "name": "stdout",
     "output_type": "stream",
     "text": [
      "Dime un usuario de twitter válido:mashable\n",
      "https://twitter.com/mashable\n"
     ]
    }
   ],
   "source": [
    "#your code\n",
    "user = input('Dime un usuario de twitter válido:')\n",
    "url2 = url+user\n",
    "print(url2)\n",
    "#falta el try except"
   ]
  },
  {
   "cell_type": "code",
   "execution_count": null,
   "metadata": {},
   "outputs": [],
   "source": []
  },
  {
   "cell_type": "markdown",
   "metadata": {},
   "source": [
    "#### List all language names and number of related articles in the order they appear in wikipedia.org"
   ]
  },
  {
   "cell_type": "code",
   "execution_count": null,
   "metadata": {},
   "outputs": [],
   "source": [
    "# This is the url you will scrape in this exercise\n",
    "url = 'https://www.wikipedia.org/'"
   ]
  },
  {
   "cell_type": "code",
   "execution_count": null,
   "metadata": {},
   "outputs": [],
   "source": [
    "#your code"
   ]
  },
  {
   "cell_type": "markdown",
   "metadata": {},
   "source": [
    "#### A list with the different kind of datasets available in data.gov.uk "
   ]
  },
  {
   "cell_type": "code",
   "execution_count": null,
   "metadata": {},
   "outputs": [],
   "source": [
    "# This is the url you will scrape in this exercise\n",
    "url = 'https://data.gov.uk/'"
   ]
  },
  {
   "cell_type": "code",
   "execution_count": null,
   "metadata": {},
   "outputs": [],
   "source": [
    "#your code "
   ]
  },
  {
   "cell_type": "markdown",
   "metadata": {},
   "source": [
    "#### Top 10 languages by number of native speakers stored in a Pandas Dataframe"
   ]
  },
  {
   "cell_type": "code",
   "execution_count": null,
   "metadata": {},
   "outputs": [],
   "source": [
    "# This is the url you will scrape in this exercise\n",
    "url = 'https://en.wikipedia.org/wiki/List_of_languages_by_number_of_native_speakers'"
   ]
  },
  {
   "cell_type": "code",
   "execution_count": null,
   "metadata": {},
   "outputs": [],
   "source": [
    "#your code"
   ]
  },
  {
   "cell_type": "markdown",
   "metadata": {},
   "source": [
    "### BONUS QUESTIONS"
   ]
  },
  {
   "cell_type": "markdown",
   "metadata": {},
   "source": [
    "#### Scrape a certain number of tweets of a given Twitter account."
   ]
  },
  {
   "cell_type": "code",
   "execution_count": null,
   "metadata": {},
   "outputs": [],
   "source": [
    "# This is the url you will scrape in this exercise \n",
    "# You will need to add the account credentials to this url\n",
    "url = 'https://twitter.com/'"
   ]
  },
  {
   "cell_type": "code",
   "execution_count": null,
   "metadata": {},
   "outputs": [],
   "source": [
    "# your code"
   ]
  },
  {
   "cell_type": "markdown",
   "metadata": {},
   "source": [
    "#### IMDB's Top 250 data (movie name, Initial release, director name and stars) as a pandas dataframe"
   ]
  },
  {
   "cell_type": "code",
   "execution_count": null,
   "metadata": {},
   "outputs": [],
   "source": [
    "# This is the url you will scrape in this exercise \n",
    "url = 'https://www.imdb.com/chart/top'"
   ]
  },
  {
   "cell_type": "code",
   "execution_count": null,
   "metadata": {},
   "outputs": [],
   "source": [
    "# your code"
   ]
  },
  {
   "cell_type": "markdown",
   "metadata": {},
   "source": [
    "#### Movie name, year and a brief summary of the top 10 random movies (IMDB) as a pandas dataframe."
   ]
  },
  {
   "cell_type": "code",
   "execution_count": null,
   "metadata": {},
   "outputs": [],
   "source": [
    "#This is the url you will scrape in this exercise\n",
    "url = 'http://www.imdb.com/chart/top'"
   ]
  },
  {
   "cell_type": "code",
   "execution_count": null,
   "metadata": {},
   "outputs": [],
   "source": [
    "#your code"
   ]
  },
  {
   "cell_type": "markdown",
   "metadata": {},
   "source": [
    "#### Find the live weather report (temperature, wind speed, description and weather) of a given city."
   ]
  },
  {
   "cell_type": "code",
   "execution_count": null,
   "metadata": {},
   "outputs": [],
   "source": [
    "#https://openweathermap.org/current\n",
    "city = city=input('Enter the city:')\n",
    "url = 'http://api.openweathermap.org/data/2.5/weather?'+'q='+city+'&APPID=b35975e18dc93725acb092f7272cc6b8&units=metric'"
   ]
  },
  {
   "cell_type": "code",
   "execution_count": null,
   "metadata": {},
   "outputs": [],
   "source": [
    "# your code"
   ]
  },
  {
   "cell_type": "markdown",
   "metadata": {},
   "source": [
    "#### Book name,price and stock availability as a pandas dataframe."
   ]
  },
  {
   "cell_type": "code",
   "execution_count": null,
   "metadata": {},
   "outputs": [],
   "source": [
    "# This is the url you will scrape in this exercise. \n",
    "# It is a fictional bookstore created to be scraped. \n",
    "url = 'http://books.toscrape.com/'"
   ]
  },
  {
   "cell_type": "code",
   "execution_count": null,
   "metadata": {},
   "outputs": [],
   "source": [
    "#your code"
   ]
  }
 ],
 "metadata": {
  "kernelspec": {
   "display_name": "Python 3",
   "language": "python",
   "name": "python3"
  },
  "language_info": {
   "codemirror_mode": {
    "name": "ipython",
    "version": 3
   },
   "file_extension": ".py",
   "mimetype": "text/x-python",
   "name": "python",
   "nbconvert_exporter": "python",
   "pygments_lexer": "ipython3",
   "version": "3.7.4"
  }
 },
 "nbformat": 4,
 "nbformat_minor": 2
}
