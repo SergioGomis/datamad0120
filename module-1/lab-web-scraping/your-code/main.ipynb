{
 "cells": [
  {
   "cell_type": "markdown",
   "metadata": {},
   "source": [
    "# Web Scraping Lab\n",
    "\n",
    "You will find in this notebook some scrapy exercises to practise your scraping skills.\n",
    "\n",
    "**Tips:**\n",
    "\n",
    "- Check the response status code for each request to ensure you have obtained the intended contennt.\n",
    "- Print the response text in each request to understand the kind of info you are getting and its format.\n",
    "- Check for patterns in the response text to extract the data/info requested in each question.\n",
    "- Visit each url and take a look at its source through Chrome DevTools. You'll need to identify the html tags, special class names etc. used for the html content you are expected to extract."
   ]
  },
  {
   "cell_type": "markdown",
   "metadata": {},
   "source": [
    "- [Requests library](http://docs.python-requests.org/en/master/#the-user-guide) documentation \n",
    "- [Beautiful Soup Doc](https://www.crummy.com/software/BeautifulSoup/bs4/doc/)\n",
    "- [Urllib](https://docs.python.org/3/library/urllib.html#module-urllib)\n",
    "- [re lib](https://docs.python.org/3/library/re.html)\n",
    "- [lxml lib](https://lxml.de/)\n",
    "- [Scrapy](https://scrapy.org/)\n",
    "- [List of HTTP status codes](https://en.wikipedia.org/wiki/List_of_HTTP_status_codes)\n",
    "- [HTML basics](http://www.simplehtmlguide.com/cheatsheet.php)\n",
    "- [CSS basics](https://www.cssbasics.com/#page_start)"
   ]
  },
  {
   "cell_type": "markdown",
   "metadata": {},
   "source": [
    "#### Below are the libraries and modules you may need. `requests`,  `BeautifulSoup` and `pandas` are imported for you. If you prefer to use additional libraries feel free to uncomment them."
   ]
  },
  {
   "cell_type": "code",
   "execution_count": 76,
   "metadata": {},
   "outputs": [],
   "source": [
    "import requests\n",
    "from bs4 import BeautifulSoup\n",
    "import pandas as pd\n",
    "# from pprint import pprint\n",
    "# from lxml import html\n",
    "# from lxml.html import fromstring\n",
    "# import urllib.request\n",
    "# from urllib.request import urlopen\n",
    "# import random\n",
    "import re\n",
    "import json\n",
    "# import scrapy"
   ]
  },
  {
   "cell_type": "markdown",
   "metadata": {},
   "source": [
    "#### Download, parse (using BeautifulSoup), and print the content from the Trending Developers page from GitHub:"
   ]
  },
  {
   "cell_type": "code",
   "execution_count": 3,
   "metadata": {},
   "outputs": [],
   "source": [
    "# This is the url you will scrape in this exercise\n",
    "url = 'https://github.com/trending/developers'"
   ]
  },
  {
   "cell_type": "code",
   "execution_count": 4,
   "metadata": {},
   "outputs": [
    {
     "name": "stdout",
     "output_type": "stream",
     "text": [
      "\n",
      "\n",
      "\n",
      "\n",
      "\n",
      "\n",
      "<!DOCTYPE html>\n",
      "<html lang=\"en\">\n",
      "  <head>\n",
      "    <meta charset=\"utf-8\">\n",
      "  <link rel=\"dns-prefetch\n"
     ]
    }
   ],
   "source": [
    "#your code\n",
    "data = requests.get(url).text\n",
    "\n",
    "#Imprimimos solo una muestra\n",
    "print(data[0:100])"
   ]
  },
  {
   "cell_type": "markdown",
   "metadata": {},
   "source": [
    "#### Display the names of the trending developers retrieved in the previous step.\n",
    "\n",
    "Your output should be a Python list of developer names. Each name should not contain any html tag.\n",
    "\n",
    "**Instructions:**\n",
    "\n",
    "1. Find out the html tag and class names used for the developer names. You can achieve this using Chrome DevTools.\n",
    "\n",
    "1. Use BeautifulSoup to extract all the html elements that contain the developer names.\n",
    "\n",
    "1. Use string manipulation techniques to replace whitespaces and linebreaks (i.e. `\\n`) in the *text* of each html element. Use a list to store the clean names.\n",
    "\n",
    "1. Print the list of names.\n",
    "\n",
    "Your output should look like below:\n",
    "\n",
    "```\n",
    "['trimstray (@trimstray)',\n",
    " 'joewalnes (JoeWalnes)',\n",
    " 'charlax (Charles-AxelDein)',\n",
    " 'ForrestKnight (ForrestKnight)',\n",
    " 'revery-ui (revery-ui)',\n",
    " 'alibaba (Alibaba)',\n",
    " 'Microsoft (Microsoft)',\n",
    " 'github (GitHub)',\n",
    " 'facebook (Facebook)',\n",
    " 'boazsegev (Bo)',\n",
    " 'google (Google)',\n",
    " 'cloudfetch',\n",
    " 'sindresorhus (SindreSorhus)',\n",
    " 'tensorflow',\n",
    " 'apache (TheApacheSoftwareFoundation)',\n",
    " 'DevonCrawford (DevonCrawford)',\n",
    " 'ARMmbed (ArmMbed)',\n",
    " 'vuejs (vuejs)',\n",
    " 'fastai (fast.ai)',\n",
    " 'QiShaoXuan (Qi)',\n",
    " 'joelparkerhenderson (JoelParkerHenderson)',\n",
    " 'torvalds (LinusTorvalds)',\n",
    " 'CyC2018',\n",
    " 'komeiji-satori (神楽坂覚々)',\n",
    " 'script-8']\n",
    " ```"
   ]
  },
  {
   "cell_type": "code",
   "execution_count": 87,
   "metadata": {},
   "outputs": [],
   "source": [
    "#your code\n",
    "#print(data)"
   ]
  },
  {
   "cell_type": "code",
   "execution_count": 5,
   "metadata": {},
   "outputs": [],
   "source": [
    "soup = BeautifulSoup(data, 'html.parser')\n"
   ]
  },
  {
   "cell_type": "code",
   "execution_count": 6,
   "metadata": {},
   "outputs": [
    {
     "name": "stdout",
     "output_type": "stream",
     "text": [
      "mattn\n"
     ]
    }
   ],
   "source": [
    "tag = soup.find_all('a', class_=\"d-inline-block\")[8]\n",
    "print(tag.attrs['href'][1:])\n",
    "#tag = soup.select('a.d-inline-block')[8:]\n",
    "#tag = soup.find_all(\"a\", class_=\"d-inline-block\")[8:]\n",
    "#print(tag.attrs)"
   ]
  },
  {
   "cell_type": "markdown",
   "metadata": {},
   "source": [
    "ahora que hemos localizado el primer usuario hacemos la lista"
   ]
  },
  {
   "cell_type": "code",
   "execution_count": 7,
   "metadata": {},
   "outputs": [],
   "source": [
    "qwert = [tag.attrs['href'][1:] for tag in soup.find_all('a', class_=\"d-inline-block\")]"
   ]
  },
  {
   "cell_type": "code",
   "execution_count": 8,
   "metadata": {},
   "outputs": [
    {
     "data": {
      "text/plain": [
       "['mattn',\n",
       " 'amueller',\n",
       " 'brianc',\n",
       " 'ErikSchierboom',\n",
       " 'JohnSundell',\n",
       " 'siddharthkp',\n",
       " 'jasonwilliams',\n",
       " 'kyleconroy',\n",
       " 'asottile',\n",
       " 'wcandillon',\n",
       " 'cmyr',\n",
       " 'panva',\n",
       " 'amilajack',\n",
       " 'KristofferC',\n",
       " 'gcanti',\n",
       " 'greatghoul',\n",
       " 'miekg',\n",
       " 'Naturalclar',\n",
       " 'lucasmichot',\n",
       " 'ageitgey',\n",
       " 'phil-opp',\n",
       " 'tony',\n",
       " 'isaacs',\n",
       " '4ian',\n",
       " 'satya164']"
      ]
     },
     "execution_count": 8,
     "metadata": {},
     "output_type": "execute_result"
    }
   ],
   "source": [
    "qwert[8:]"
   ]
  },
  {
   "cell_type": "markdown",
   "metadata": {},
   "source": [
    "\n",
    "#### Display the trending Python repositories in GitHub\n",
    "\n",
    "The steps to solve this problem is similar to the previous one except that you need to find out the repository names instead of developer names."
   ]
  },
  {
   "cell_type": "code",
   "execution_count": 9,
   "metadata": {},
   "outputs": [],
   "source": [
    "# This is the url you will scrape in this exercise\n",
    "url = 'https://github.com/trending/python?since=daily'"
   ]
  },
  {
   "cell_type": "code",
   "execution_count": 10,
   "metadata": {},
   "outputs": [],
   "source": [
    "#your code\n",
    "data_rep = requests.get(url).text\n",
    "\n",
    "#Imprimimos solo una muestra\n",
    "#print(data[0:100])\n",
    "soup_rep = BeautifulSoup(data_rep, 'html.parser')"
   ]
  },
  {
   "cell_type": "code",
   "execution_count": 11,
   "metadata": {},
   "outputs": [
    {
     "data": {
      "text/plain": [
       "['BlankerL/DXY-2019-nCoV-Crawler',\n",
       " 'gto76/python-cheatsheet',\n",
       " 'smicallef/spiderfoot',\n",
       " 'sebastianruder/NLP-progress',\n",
       " 'rish-16/sight',\n",
       " 'luong-komorebi/Awesome-Linux-Software',\n",
       " 'vinta/awesome-python',\n",
       " 'nicrusso7/rex-gym',\n",
       " 'baowenbo/DAIN',\n",
       " 'eastlakeside/interpy-zh',\n",
       " 'tiangolo/fastapi',\n",
       " 'explosion/thinc',\n",
       " 'willmcgugan/rich',\n",
       " 'MatthewPierson/Vieux',\n",
       " 'CCExtractor/vardbg',\n",
       " 'dragen1860/Deep-Learning-with-TensorFlow-book',\n",
       " 'brendangregg/bpf-perf-tools-book',\n",
       " 'googleapis/google-cloud-python',\n",
       " 'anchore/anchore-engine',\n",
       " 'aj-4/tinder-swipe-bot',\n",
       " 'pytorch/captum',\n",
       " 'samuelhwilliams/Eel',\n",
       " 'salesforce/policy_sentry',\n",
       " 'yzhao062/anomaly-detection-resources',\n",
       " 'vineetjohn/daily-coding-problem']"
      ]
     },
     "execution_count": 11,
     "metadata": {},
     "output_type": "execute_result"
    }
   ],
   "source": [
    "top_repos = [tag_rep.text.replace('\\n','').replace(' ','') for tag_rep in soup_rep.select('article h1 a')]\n",
    "#top_repos = [i for tag_rep in soup_rep.select('article h1 a') for i in tag_rep.children]\n",
    "#top_repos.replace('\\n','').replace(' ','')\n",
    "top_repos"
   ]
  },
  {
   "cell_type": "code",
   "execution_count": 12,
   "metadata": {},
   "outputs": [],
   "source": [
    "#tag_rep = soup_rep.find_all('article', class_=\"Box-row\")\n",
    "#tag_rep = soup_rep.select('article h1 a')\n",
    "#tag_rep\n",
    "#len(tag_rep)\n",
    "#print(tag.attrs['href'][1:])\n",
    "#print(tag_rep)\n",
    "#top_repos = [i for tag_rep in soup_rep.find_all('article', class_=\"Box-row\") for i in tag_rep.children]\n",
    "#top_repos"
   ]
  },
  {
   "cell_type": "markdown",
   "metadata": {},
   "source": [
    "#### Display all the image links from Walt Disney wikipedia page"
   ]
  },
  {
   "cell_type": "code",
   "execution_count": 13,
   "metadata": {},
   "outputs": [],
   "source": [
    "# This is the url you will scrape in this exercise\n",
    "url = 'https://en.wikipedia.org/wiki/Walt_Disney'"
   ]
  },
  {
   "cell_type": "code",
   "execution_count": 14,
   "metadata": {},
   "outputs": [],
   "source": [
    "#your code\n",
    "data_walt = requests.get(url).text\n",
    "\n",
    "soup_walt = BeautifulSoup(data_walt, 'html.parser')"
   ]
  },
  {
   "cell_type": "code",
   "execution_count": 15,
   "metadata": {},
   "outputs": [
    {
     "data": {
      "text/plain": [
       "['http://upload.wikimedia.org/wikipedia/en/thumb/e/e7/Cscr-featured.svg/20px-Cscr-featured.svg.png',\n",
       " 'http://upload.wikimedia.org/wikipedia/en/thumb/1/1b/Semi-protection-shackle.svg/20px-Semi-protection-shackle.svg.png',\n",
       " 'http://upload.wikimedia.org/wikipedia/commons/thumb/d/df/Walt_Disney_1946.JPG/220px-Walt_Disney_1946.JPG',\n",
       " 'http://upload.wikimedia.org/wikipedia/commons/thumb/8/87/Walt_Disney_1942_signature.svg/150px-Walt_Disney_1942_signature.svg.png',\n",
       " 'http://upload.wikimedia.org/wikipedia/commons/thumb/c/c4/Walt_Disney_envelope_ca._1921.jpg/220px-Walt_Disney_envelope_ca._1921.jpg',\n",
       " 'http://upload.wikimedia.org/wikipedia/commons/thumb/4/4d/Newman_Laugh-O-Gram_%281921%29.webm/220px-seek%3D2-Newman_Laugh-O-Gram_%281921%29.webm.jpg',\n",
       " 'http://upload.wikimedia.org/wikipedia/commons/thumb/0/0d/Trolley_Troubles_poster.jpg/170px-Trolley_Troubles_poster.jpg',\n",
       " 'http://upload.wikimedia.org/wikipedia/commons/thumb/7/71/Walt_Disney_and_his_cartoon_creation_%22Mickey_Mouse%22_-_National_Board_of_Review_Magazine.jpg/170px-Walt_Disney_and_his_cartoon_creation_%22Mickey_Mouse%22_-_National_Board_of_Review_Magazine.jpg',\n",
       " 'http://upload.wikimedia.org/wikipedia/en/thumb/4/4e/Steamboat-willie.jpg/170px-Steamboat-willie.jpg',\n",
       " 'http://upload.wikimedia.org/wikipedia/commons/thumb/5/57/Walt_Disney_1935.jpg/170px-Walt_Disney_1935.jpg',\n",
       " 'http://upload.wikimedia.org/wikipedia/commons/thumb/c/cd/Walt_Disney_Snow_white_1937_trailer_screenshot_%2813%29.jpg/220px-Walt_Disney_Snow_white_1937_trailer_screenshot_%2813%29.jpg',\n",
       " 'http://upload.wikimedia.org/wikipedia/commons/thumb/1/15/Disney_drawing_goofy.jpg/170px-Disney_drawing_goofy.jpg',\n",
       " 'http://upload.wikimedia.org/wikipedia/commons/thumb/1/13/DisneySchiphol1951.jpg/220px-DisneySchiphol1951.jpg',\n",
       " 'http://upload.wikimedia.org/wikipedia/commons/thumb/8/8c/WaltDisneyplansDisneylandDec1954.jpg/220px-WaltDisneyplansDisneylandDec1954.jpg',\n",
       " 'http://upload.wikimedia.org/wikipedia/commons/thumb/f/ff/Walt_disney_portrait_right.jpg/170px-Walt_disney_portrait_right.jpg',\n",
       " 'http://upload.wikimedia.org/wikipedia/commons/thumb/1/1a/Walt_Disney_Grave.JPG/170px-Walt_Disney_Grave.JPG',\n",
       " 'http://upload.wikimedia.org/wikipedia/commons/thumb/2/2d/Roy_O._Disney_with_Company_at_Press_Conference.jpg/170px-Roy_O._Disney_with_Company_at_Press_Conference.jpg',\n",
       " 'http://upload.wikimedia.org/wikipedia/commons/thumb/a/a9/Disney_Display_Case.JPG/170px-Disney_Display_Case.JPG',\n",
       " 'http://upload.wikimedia.org/wikipedia/commons/thumb/6/6c/Disney1968.jpg/170px-Disney1968.jpg',\n",
       " 'http://upload.wikimedia.org/wikipedia/en/thumb/8/8a/OOjs_UI_icon_edit-ltr-progressive.svg/10px-OOjs_UI_icon_edit-ltr-progressive.svg.png',\n",
       " 'http://upload.wikimedia.org/wikipedia/commons/thumb/4/44/The_Walt_Disney_Company_Logo.svg/120px-The_Walt_Disney_Company_Logo.svg.png',\n",
       " 'http://upload.wikimedia.org/wikipedia/commons/thumb/d/da/Animation_disc.svg/30px-Animation_disc.svg.png',\n",
       " 'http://upload.wikimedia.org/wikipedia/en/thumb/6/69/P_vip.svg/29px-P_vip.svg.png',\n",
       " 'http://upload.wikimedia.org/wikipedia/commons/thumb/1/1a/Magic_Kingdom_castle.jpg/24px-Magic_Kingdom_castle.jpg',\n",
       " 'http://upload.wikimedia.org/wikipedia/en/thumb/e/e7/Video-x-generic.svg/30px-Video-x-generic.svg.png',\n",
       " 'http://upload.wikimedia.org/wikipedia/commons/thumb/a/a3/Flag_of_Los_Angeles_County%2C_California.svg/30px-Flag_of_Los_Angeles_County%2C_California.svg.png',\n",
       " 'http://upload.wikimedia.org/wikipedia/commons/thumb/8/8c/Blank_television_set.svg/30px-Blank_television_set.svg.png',\n",
       " 'http://upload.wikimedia.org/wikipedia/en/thumb/a/a4/Flag_of_the_United_States.svg/30px-Flag_of_the_United_States.svg.png',\n",
       " 'http://upload.wikimedia.org/wikipedia/en/thumb/4/4a/Commons-logo.svg/22px-Commons-logo.svg.png',\n",
       " 'http://upload.wikimedia.org/wikipedia/commons/thumb/f/fa/Wikiquote-logo.svg/25px-Wikiquote-logo.svg.png',\n",
       " 'http://upload.wikimedia.org/wikipedia/commons/thumb/f/ff/Wikidata-logo.svg/30px-Wikidata-logo.svg.png',\n",
       " 'http://upload.wikimedia.org/wikipedia/en/thumb/8/8a/OOjs_UI_icon_edit-ltr-progressive.svg/10px-OOjs_UI_icon_edit-ltr-progressive.svg.png',\n",
       " 'http://en.wikipedia.org/wiki/Special:CentralAutoLogin/start?type=1x1',\n",
       " 'http:/static/images/wikimedia-button.png',\n",
       " 'http:/static/images/poweredby_mediawiki_88x31.png']"
      ]
     },
     "execution_count": 15,
     "metadata": {},
     "output_type": "execute_result"
    }
   ],
   "source": [
    "imgs_walt = ['http:'+tag_walt['src'] for tag_walt in soup_walt.find_all('img')]\n",
    "#top_repos = [i for tag_rep in soup_rep.select('article h1 a') for i in tag_rep.children]\n",
    "#top_repos.replace('\\n','').replace(' ','')\n",
    "imgs_walt"
   ]
  },
  {
   "cell_type": "markdown",
   "metadata": {},
   "source": [
    "#### Retrieve an arbitary Wikipedia page of \"Python\" and create a list of links on that page"
   ]
  },
  {
   "cell_type": "code",
   "execution_count": 122,
   "metadata": {},
   "outputs": [],
   "source": [
    "# This is the url you will scrape in this exercise\n",
    "url ='https://en.wikipedia.org/wiki/Python' "
   ]
  },
  {
   "cell_type": "code",
   "execution_count": 135,
   "metadata": {},
   "outputs": [
    {
     "name": "stdout",
     "output_type": "stream",
     "text": [
      "['https://en.wiktionary.org/wiki/Python', 'https://en.wiktionary.org/wiki/python', 'https://en.wikipedia.org/w/index.php?title=Special:WhatLinksHere/Python&namespace=0', 'https://en.wikipedia.org/w/index.php?title=Python&oldid=937840393', 'https://donate.wikimedia.org/wiki/Special:FundraiserRedirector?utm_source=donate&utm_medium=sidebar&utm_campaign=C13_en.wikipedia.org&uselang=en', 'https://www.wikidata.org/wiki/Special:EntityPage/Q747452', 'https://commons.wikimedia.org/wiki/Category:Python', 'https://af.wikipedia.org/wiki/Python', 'https://als.wikipedia.org/wiki/Python', 'https://az.wikipedia.org/wiki/Python', 'https://bn.wikipedia.org/wiki/%E0%A6%AA%E0%A6%BE%E0%A6%87%E0%A6%A5%E0%A6%A8_(%E0%A6%A6%E0%A7%8D%E0%A6%AC%E0%A7%8D%E0%A6%AF%E0%A6%B0%E0%A7%8D%E0%A6%A5%E0%A6%A4%E0%A6%BE_%E0%A6%A8%E0%A6%BF%E0%A6%B0%E0%A6%B8%E0%A6%A8)', 'https://be.wikipedia.org/wiki/Python', 'https://bg.wikipedia.org/wiki/%D0%9F%D0%B8%D1%82%D0%BE%D0%BD_(%D0%BF%D0%BE%D1%8F%D1%81%D0%BD%D0%B5%D0%BD%D0%B8%D0%B5)', 'https://cs.wikipedia.org/wiki/Python_(rozcestn%C3%ADk)', 'https://da.wikipedia.org/wiki/Python', 'https://de.wikipedia.org/wiki/Python', 'https://eo.wikipedia.org/wiki/Pitono_(apartigilo)', 'https://eu.wikipedia.org/wiki/Python_(argipena)', 'https://fa.wikipedia.org/wiki/%D9%BE%D8%A7%DB%8C%D8%AA%D9%88%D9%86', 'https://fr.wikipedia.org/wiki/Python']\n"
     ]
    }
   ],
   "source": [
    "#your code\n",
    "data_pyt = requests.get(url).text\n",
    "\n",
    "soup_pyt = BeautifulSoup(data_pyt, 'html.parser')\n",
    "\n",
    "links_pyt = [tag_pyt.attrs['href'] for tag_pyt in soup_pyt.find_all('a')[1:]]\n",
    "\n",
    "print([i for i in links_pyt if re.search(r\"http*\", i)][:20])\n"
   ]
  },
  {
   "cell_type": "code",
   "execution_count": 136,
   "metadata": {},
   "outputs": [],
   "source": [
    "# Imprimo solo las 20 primeras url completas (que empiezan por 'http') de la página"
   ]
  },
  {
   "cell_type": "markdown",
   "metadata": {},
   "source": [
    "#### Number of Titles that have changed in the United States Code since its last release point "
   ]
  },
  {
   "cell_type": "code",
   "execution_count": 19,
   "metadata": {},
   "outputs": [],
   "source": [
    "# This is the url you will scrape in this exercise\n",
    "url = 'http://uscode.house.gov/download/download.shtml'\n",
    "# \"Titles in bold have been changed since the last release point.\""
   ]
  },
  {
   "cell_type": "code",
   "execution_count": 20,
   "metadata": {},
   "outputs": [
    {
     "data": {
      "text/plain": [
       "['Title 18 - Crimes and Criminal Procedure ٭',\n",
       " 'Title 20 - Education',\n",
       " 'Title 26 - Internal Revenue Code']"
      ]
     },
     "execution_count": 20,
     "metadata": {},
     "output_type": "execute_result"
    }
   ],
   "source": [
    "#your code\n",
    "data_USC = requests.get(url).text\n",
    "\n",
    "soup_USC = BeautifulSoup(data_USC, 'html.parser')\n",
    "\n",
    "qwert = [tag.text.strip('\\n ') for tag in soup_USC.find_all('div', class_=\"usctitlechanged\")]\n",
    "qwert"
   ]
  },
  {
   "cell_type": "markdown",
   "metadata": {},
   "source": [
    "#### A Python list with the top ten FBI's Most Wanted names "
   ]
  },
  {
   "cell_type": "code",
   "execution_count": 21,
   "metadata": {},
   "outputs": [],
   "source": [
    "# This is the url you will scrape in this exercise\n",
    "url = 'https://www.fbi.gov/wanted/topten'"
   ]
  },
  {
   "cell_type": "code",
   "execution_count": 22,
   "metadata": {},
   "outputs": [
    {
     "data": {
      "text/plain": [
       "['JASON DEREK BROWN',\n",
       " 'ALEXIS FLORES',\n",
       " 'EUGENE PALMER',\n",
       " 'SANTIAGO VILLALBA MEDEROS',\n",
       " 'RAFAEL CARO-QUINTERO',\n",
       " 'ROBERT WILLIAM FISHER',\n",
       " 'BHADRESHKUMAR CHETANBHAI PATEL',\n",
       " 'ARNOLDO JIMENEZ',\n",
       " 'ALEJANDRO ROSALES CASTILLO',\n",
       " 'YASER ABDEL SAID']"
      ]
     },
     "execution_count": 22,
     "metadata": {},
     "output_type": "execute_result"
    }
   ],
   "source": [
    "#your code \n",
    "#<h3 class=\"title\">\n",
    "#<a href=\"https://www.fbi.gov/wanted/topten/jason-derek-brown\">JASON DEREK BROWN</a>\n",
    "#</h3>\n",
    "data_FBI = requests.get(url).text\n",
    "\n",
    "soup_FBI = BeautifulSoup(data_FBI, 'html.parser')\n",
    "\n",
    "qwert = [tag.text.strip() for tag in soup_FBI.find_all('h3', class_=\"title\")]\n",
    "qwert"
   ]
  },
  {
   "cell_type": "markdown",
   "metadata": {},
   "source": [
    "####  20 latest earthquakes info (date, time, latitude, longitude and region name) by the EMSC as a pandas dataframe"
   ]
  },
  {
   "cell_type": "code",
   "execution_count": 23,
   "metadata": {},
   "outputs": [],
   "source": [
    "# This is the url you will scrape in this exercise\n",
    "url = 'https://www.emsc-csem.org/Earthquake/'"
   ]
  },
  {
   "cell_type": "code",
   "execution_count": 25,
   "metadata": {},
   "outputs": [
    {
     "name": "stdout",
     "output_type": "stream",
     "text": [
      "20 20 20 20 20 20 20\n"
     ]
    }
   ],
   "source": [
    "#your code\n",
    "data_EQ = requests.get(url).text\n",
    "\n",
    "soup_EQ = BeautifulSoup(data_EQ, 'html.parser')\n",
    "# Para sacar las series de datos, una vez vista la estructura de la tabla y las clases de los tags,\n",
    "# lo haré obteniendo listas separadas de las columnas y unirlas después\n",
    "\n",
    "# Del tag con la fecha y la hora sacamos todos lo valores y luego extraemos cada uno\n",
    "qwert = [tag.text for tag in soup_EQ.find_all('td', class_=\"tabev6\")][0:20]\n",
    "# Pendiente rehacer el regex para que no dé pena\n",
    "fechas = [re.findall(r'(\\d\\d\\d\\d-\\d\\d-\\d\\d)',z) for z in qwert]\n",
    "horas = [re.findall(r'(\\d\\d:\\d\\d:\\d\\d)',z) for z in qwert]\n",
    "\n",
    "# la latitud y longitud comparten la misma clase, cogemos 40 y dividimos alternativamente en dos listas\n",
    "lat = [tag.text.replace('\\xa0','') for tag in soup_EQ.find_all('td', class_=\"tabev1\")][0:39:2]\n",
    "lon = [tag.text.replace('\\xa0','') for tag in soup_EQ.find_all('td', class_=\"tabev1\")][1:40:2]\n",
    "\n",
    "# la direccion de las coordenadas comparten clase también junto con la Magnitud, tenemos que coger 60 y quedarnos los las dos series buenas\n",
    "latns = [tag.text.replace('\\xa0','') for tag in soup_EQ.find_all('td', class_=\"tabev2\")][0:59:3]\n",
    "lonwe = [tag.text.replace('\\xa0','') for tag in soup_EQ.find_all('td', class_=\"tabev2\")][1:60:3]\n",
    "\n",
    "#la región no tiene dificultad, obtenemos los 20 primeros valores de su clase\n",
    "region = [tag.text.replace('\\xa0','') for tag in soup_EQ.find_all('td', class_=\"tb_region\")][0:20]\n",
    "\n",
    "#compruebo que las listas tienen mismo tamaño antes de unirlas\n",
    "print(len(fechas),len(horas),len(lat),len(latns),len(lon),len(lonwe),len(region))"
   ]
  },
  {
   "cell_type": "markdown",
   "metadata": {},
   "source": [
    "Unimos las listas en un diccionario y de ahí creamos el dataframe"
   ]
  },
  {
   "cell_type": "code",
   "execution_count": 26,
   "metadata": {},
   "outputs": [
    {
     "data": {
      "text/html": [
       "<div>\n",
       "<style scoped>\n",
       "    .dataframe tbody tr th:only-of-type {\n",
       "        vertical-align: middle;\n",
       "    }\n",
       "\n",
       "    .dataframe tbody tr th {\n",
       "        vertical-align: top;\n",
       "    }\n",
       "\n",
       "    .dataframe thead th {\n",
       "        text-align: right;\n",
       "    }\n",
       "</style>\n",
       "<table border=\"1\" class=\"dataframe\">\n",
       "  <thead>\n",
       "    <tr style=\"text-align: right;\">\n",
       "      <th></th>\n",
       "      <th>date</th>\n",
       "      <th>time</th>\n",
       "      <th>latitude</th>\n",
       "      <th>lat_dir</th>\n",
       "      <th>longitude</th>\n",
       "      <th>lon_dir</th>\n",
       "      <th>region</th>\n",
       "    </tr>\n",
       "  </thead>\n",
       "  <tbody>\n",
       "    <tr>\n",
       "      <td>0</td>\n",
       "      <td>[2020-01-30]</td>\n",
       "      <td>[21:00:10]</td>\n",
       "      <td>38.83</td>\n",
       "      <td>N</td>\n",
       "      <td>119.77</td>\n",
       "      <td>W</td>\n",
       "      <td>NORTHERN CALIFORNIA</td>\n",
       "    </tr>\n",
       "    <tr>\n",
       "      <td>1</td>\n",
       "      <td>[2020-01-30]</td>\n",
       "      <td>[20:51:04]</td>\n",
       "      <td>38.42</td>\n",
       "      <td>N</td>\n",
       "      <td>39.00</td>\n",
       "      <td>E</td>\n",
       "      <td>EASTERN TURKEY</td>\n",
       "    </tr>\n",
       "    <tr>\n",
       "      <td>2</td>\n",
       "      <td>[2020-01-30]</td>\n",
       "      <td>[20:46:22]</td>\n",
       "      <td>16.43</td>\n",
       "      <td>N</td>\n",
       "      <td>95.01</td>\n",
       "      <td>W</td>\n",
       "      <td>OAXACA, MEXICO</td>\n",
       "    </tr>\n",
       "    <tr>\n",
       "      <td>3</td>\n",
       "      <td>[2020-01-30]</td>\n",
       "      <td>[20:46:05]</td>\n",
       "      <td>19.22</td>\n",
       "      <td>N</td>\n",
       "      <td>155.44</td>\n",
       "      <td>W</td>\n",
       "      <td>ISLAND OF HAWAII, HAWAII</td>\n",
       "    </tr>\n",
       "    <tr>\n",
       "      <td>4</td>\n",
       "      <td>[2020-01-30]</td>\n",
       "      <td>[20:13:08]</td>\n",
       "      <td>38.42</td>\n",
       "      <td>N</td>\n",
       "      <td>39.00</td>\n",
       "      <td>E</td>\n",
       "      <td>EASTERN TURKEY</td>\n",
       "    </tr>\n",
       "    <tr>\n",
       "      <td>5</td>\n",
       "      <td>[2020-01-30]</td>\n",
       "      <td>[20:09:14]</td>\n",
       "      <td>39.08</td>\n",
       "      <td>N</td>\n",
       "      <td>27.82</td>\n",
       "      <td>E</td>\n",
       "      <td>WESTERN TURKEY</td>\n",
       "    </tr>\n",
       "    <tr>\n",
       "      <td>6</td>\n",
       "      <td>[2020-01-30]</td>\n",
       "      <td>[19:56:55]</td>\n",
       "      <td>38.96</td>\n",
       "      <td>N</td>\n",
       "      <td>27.89</td>\n",
       "      <td>E</td>\n",
       "      <td>WESTERN TURKEY</td>\n",
       "    </tr>\n",
       "    <tr>\n",
       "      <td>7</td>\n",
       "      <td>[2020-01-30]</td>\n",
       "      <td>[19:50:41]</td>\n",
       "      <td>19.22</td>\n",
       "      <td>N</td>\n",
       "      <td>155.43</td>\n",
       "      <td>W</td>\n",
       "      <td>ISLAND OF HAWAII, HAWAII</td>\n",
       "    </tr>\n",
       "    <tr>\n",
       "      <td>8</td>\n",
       "      <td>[2020-01-30]</td>\n",
       "      <td>[19:48:09]</td>\n",
       "      <td>38.34</td>\n",
       "      <td>N</td>\n",
       "      <td>38.85</td>\n",
       "      <td>E</td>\n",
       "      <td>EASTERN TURKEY</td>\n",
       "    </tr>\n",
       "    <tr>\n",
       "      <td>9</td>\n",
       "      <td>[2020-01-30]</td>\n",
       "      <td>[19:47:40]</td>\n",
       "      <td>39.52</td>\n",
       "      <td>N</td>\n",
       "      <td>29.43</td>\n",
       "      <td>E</td>\n",
       "      <td>WESTERN TURKEY</td>\n",
       "    </tr>\n",
       "    <tr>\n",
       "      <td>10</td>\n",
       "      <td>[2020-01-30]</td>\n",
       "      <td>[19:42:01]</td>\n",
       "      <td>17.93</td>\n",
       "      <td>N</td>\n",
       "      <td>66.86</td>\n",
       "      <td>W</td>\n",
       "      <td>PUERTO RICO REGION</td>\n",
       "    </tr>\n",
       "    <tr>\n",
       "      <td>11</td>\n",
       "      <td>[2020-01-30]</td>\n",
       "      <td>[19:32:48]</td>\n",
       "      <td>2.46</td>\n",
       "      <td>N</td>\n",
       "      <td>98.99</td>\n",
       "      <td>E</td>\n",
       "      <td>NORTHERN SUMATRA, INDONESIA</td>\n",
       "    </tr>\n",
       "    <tr>\n",
       "      <td>12</td>\n",
       "      <td>[2020-01-30]</td>\n",
       "      <td>[19:32:21]</td>\n",
       "      <td>38.46</td>\n",
       "      <td>N</td>\n",
       "      <td>39.24</td>\n",
       "      <td>E</td>\n",
       "      <td>EASTERN TURKEY</td>\n",
       "    </tr>\n",
       "    <tr>\n",
       "      <td>13</td>\n",
       "      <td>[2020-01-30]</td>\n",
       "      <td>[18:58:41]</td>\n",
       "      <td>18.98</td>\n",
       "      <td>N</td>\n",
       "      <td>81.00</td>\n",
       "      <td>W</td>\n",
       "      <td>CAYMAN ISLANDS REGION</td>\n",
       "    </tr>\n",
       "    <tr>\n",
       "      <td>14</td>\n",
       "      <td>[2020-01-30]</td>\n",
       "      <td>[18:56:47]</td>\n",
       "      <td>38.99</td>\n",
       "      <td>N</td>\n",
       "      <td>27.87</td>\n",
       "      <td>E</td>\n",
       "      <td>WESTERN TURKEY</td>\n",
       "    </tr>\n",
       "    <tr>\n",
       "      <td>15</td>\n",
       "      <td>[2020-01-30]</td>\n",
       "      <td>[18:43:40]</td>\n",
       "      <td>35.19</td>\n",
       "      <td>N</td>\n",
       "      <td>27.96</td>\n",
       "      <td>E</td>\n",
       "      <td>DODECANESE ISLANDS, GREECE</td>\n",
       "    </tr>\n",
       "    <tr>\n",
       "      <td>16</td>\n",
       "      <td>[2020-01-30]</td>\n",
       "      <td>[18:42:54]</td>\n",
       "      <td>19.20</td>\n",
       "      <td>N</td>\n",
       "      <td>155.45</td>\n",
       "      <td>W</td>\n",
       "      <td>ISLAND OF HAWAII, HAWAII</td>\n",
       "    </tr>\n",
       "    <tr>\n",
       "      <td>17</td>\n",
       "      <td>[2020-01-30]</td>\n",
       "      <td>[18:40:03]</td>\n",
       "      <td>35.93</td>\n",
       "      <td>N</td>\n",
       "      <td>28.11</td>\n",
       "      <td>E</td>\n",
       "      <td>EASTERN MEDITERRANEAN SEA</td>\n",
       "    </tr>\n",
       "    <tr>\n",
       "      <td>18</td>\n",
       "      <td>[2020-01-30]</td>\n",
       "      <td>[18:38:55]</td>\n",
       "      <td>39.01</td>\n",
       "      <td>N</td>\n",
       "      <td>27.86</td>\n",
       "      <td>E</td>\n",
       "      <td>WESTERN TURKEY</td>\n",
       "    </tr>\n",
       "    <tr>\n",
       "      <td>19</td>\n",
       "      <td>[2020-01-30]</td>\n",
       "      <td>[18:36:42]</td>\n",
       "      <td>38.45</td>\n",
       "      <td>N</td>\n",
       "      <td>39.19</td>\n",
       "      <td>E</td>\n",
       "      <td>EASTERN TURKEY</td>\n",
       "    </tr>\n",
       "  </tbody>\n",
       "</table>\n",
       "</div>"
      ],
      "text/plain": [
       "            date        time latitude lat_dir longitude lon_dir  \\\n",
       "0   [2020-01-30]  [21:00:10]    38.83       N    119.77       W   \n",
       "1   [2020-01-30]  [20:51:04]    38.42       N     39.00       E   \n",
       "2   [2020-01-30]  [20:46:22]    16.43       N     95.01       W   \n",
       "3   [2020-01-30]  [20:46:05]    19.22       N    155.44       W   \n",
       "4   [2020-01-30]  [20:13:08]    38.42       N     39.00       E   \n",
       "5   [2020-01-30]  [20:09:14]    39.08       N     27.82       E   \n",
       "6   [2020-01-30]  [19:56:55]    38.96       N     27.89       E   \n",
       "7   [2020-01-30]  [19:50:41]    19.22       N    155.43       W   \n",
       "8   [2020-01-30]  [19:48:09]    38.34       N     38.85       E   \n",
       "9   [2020-01-30]  [19:47:40]    39.52       N     29.43       E   \n",
       "10  [2020-01-30]  [19:42:01]    17.93       N     66.86       W   \n",
       "11  [2020-01-30]  [19:32:48]     2.46       N     98.99       E   \n",
       "12  [2020-01-30]  [19:32:21]    38.46       N     39.24       E   \n",
       "13  [2020-01-30]  [18:58:41]    18.98       N     81.00       W   \n",
       "14  [2020-01-30]  [18:56:47]    38.99       N     27.87       E   \n",
       "15  [2020-01-30]  [18:43:40]    35.19       N     27.96       E   \n",
       "16  [2020-01-30]  [18:42:54]    19.20       N    155.45       W   \n",
       "17  [2020-01-30]  [18:40:03]    35.93       N     28.11       E   \n",
       "18  [2020-01-30]  [18:38:55]    39.01       N     27.86       E   \n",
       "19  [2020-01-30]  [18:36:42]    38.45       N     39.19       E   \n",
       "\n",
       "                         region  \n",
       "0           NORTHERN CALIFORNIA  \n",
       "1                EASTERN TURKEY  \n",
       "2                OAXACA, MEXICO  \n",
       "3      ISLAND OF HAWAII, HAWAII  \n",
       "4                EASTERN TURKEY  \n",
       "5                WESTERN TURKEY  \n",
       "6                WESTERN TURKEY  \n",
       "7      ISLAND OF HAWAII, HAWAII  \n",
       "8                EASTERN TURKEY  \n",
       "9                WESTERN TURKEY  \n",
       "10           PUERTO RICO REGION  \n",
       "11  NORTHERN SUMATRA, INDONESIA  \n",
       "12               EASTERN TURKEY  \n",
       "13        CAYMAN ISLANDS REGION  \n",
       "14               WESTERN TURKEY  \n",
       "15   DODECANESE ISLANDS, GREECE  \n",
       "16     ISLAND OF HAWAII, HAWAII  \n",
       "17    EASTERN MEDITERRANEAN SEA  \n",
       "18               WESTERN TURKEY  \n",
       "19               EASTERN TURKEY  "
      ]
     },
     "execution_count": 26,
     "metadata": {},
     "output_type": "execute_result"
    }
   ],
   "source": [
    "dictio = {'date': fechas, 'time': horas, 'latitude': lat, 'lat_dir': latns, 'longitude': lon, 'lon_dir': lonwe, 'region': region}  \n",
    "    \n",
    "df = pd.DataFrame(dictio)\n",
    "\n",
    "df"
   ]
  },
  {
   "cell_type": "markdown",
   "metadata": {},
   "source": [
    "#### Display the date, days, title, city, country of next 25 hackathon events as a Pandas dataframe table"
   ]
  },
  {
   "cell_type": "code",
   "execution_count": null,
   "metadata": {},
   "outputs": [],
   "source": [
    "# This is the url you will scrape in this exercise\n",
    "url ='https://hackevents.co/hackathons'"
   ]
  },
  {
   "cell_type": "code",
   "execution_count": 27,
   "metadata": {},
   "outputs": [
    {
     "data": {
      "text/plain": [
       "'Esta URL no va'"
      ]
     },
     "execution_count": 27,
     "metadata": {},
     "output_type": "execute_result"
    }
   ],
   "source": [
    "#your code\n",
    "'''Esta URL no va'''"
   ]
  },
  {
   "cell_type": "markdown",
   "metadata": {},
   "source": [
    "#### Count number of tweets by a given Twitter account."
   ]
  },
  {
   "cell_type": "markdown",
   "metadata": {},
   "source": [
    "You will need to include a ***try/except block*** for account names not found. \n",
    "<br>***Hint:*** the program should count the number of tweets for any provided account"
   ]
  },
  {
   "cell_type": "code",
   "execution_count": 28,
   "metadata": {},
   "outputs": [],
   "source": [
    "# This is the url you will scrape in this exercise \n",
    "# You will need to add the account credentials to this url\n",
    "url = 'https://twitter.com/'"
   ]
  },
  {
   "cell_type": "code",
   "execution_count": 44,
   "metadata": {},
   "outputs": [
    {
     "name": "stdout",
     "output_type": "stream",
     "text": [
      "Dime un usuario de twitter válido: elmundotoday\n",
      "@elmundotoday tiene 38.749 Tweets\n"
     ]
    }
   ],
   "source": [
    "try:\n",
    "    user = input('Dime un usuario de twitter válido: ')\n",
    "    if user == '':\n",
    "        raise NameError\n",
    "    url2 = url+user\n",
    "    data_TW = requests.get(url2).text\n",
    "    soup_TW = BeautifulSoup(data_TW, 'html.parser')\n",
    "    num_TW = [tag.attrs['title'] for tag in soup_TW.find_all('a', class_=\"ProfileNav-stat ProfileNav-stat--link u-borderUserColor u-textCenter js-tooltip js-nav\")]\n",
    "    print('@'+user+' tiene '+num_TW[0])\n",
    "except NameError as e:\n",
    "    print('Error, nombre no válido')\n",
    "except:\n",
    "    print('Error al parsear')\n",
    "\n"
   ]
  },
  {
   "cell_type": "markdown",
   "metadata": {},
   "source": [
    "#### Number of followers of a given twitter account"
   ]
  },
  {
   "cell_type": "markdown",
   "metadata": {},
   "source": [
    "You will need to include a ***try/except block*** in case account/s name not found. \n",
    "<br>***Hint:*** the program should count the followers for any provided account"
   ]
  },
  {
   "cell_type": "code",
   "execution_count": 215,
   "metadata": {},
   "outputs": [],
   "source": [
    "# This is the url you will scrape in this exercise \n",
    "# You will need to add the account credentials to this url\n",
    "url = 'https://twitter.com/'"
   ]
  },
  {
   "cell_type": "code",
   "execution_count": 46,
   "metadata": {},
   "outputs": [
    {
     "name": "stdout",
     "output_type": "stream",
     "text": [
      "Dime un usuario de twitter válido: mashable\n",
      "@mashable tiene 9.808.315 Seguidores\n"
     ]
    }
   ],
   "source": [
    "try:\n",
    "    user = input('Dime un usuario de twitter válido: ')\n",
    "    if user == '':\n",
    "        raise NameError\n",
    "    url2 = url+user\n",
    "    data_TW = requests.get(url2).text\n",
    "    soup_TW = BeautifulSoup(data_TW, 'html.parser')\n",
    "    num_FW = [tag.attrs['title'] for tag in soup_TW.find_all('a', href=\"/\"+user+\"/followers\")]\n",
    "    print('@'+user+' tiene '+num_FW[0])\n",
    "except NameError as e:\n",
    "    print('Error, nombre no válido')\n",
    "except:\n",
    "    print('Error al parsear')"
   ]
  },
  {
   "cell_type": "markdown",
   "metadata": {},
   "source": [
    "#### List all language names and number of related articles in the order they appear in wikipedia.org"
   ]
  },
  {
   "cell_type": "code",
   "execution_count": 51,
   "metadata": {},
   "outputs": [],
   "source": [
    "# This is the url you will scrape in this exercise\n",
    "url = 'https://www.wikipedia.org/'"
   ]
  },
  {
   "cell_type": "code",
   "execution_count": 52,
   "metadata": {},
   "outputs": [
    {
     "name": "stdout",
     "output_type": "stream",
     "text": [
      "[5994000, 1185000, 2385000, 1571000, 1590000, 2171000, 1576000, 1090000, 1018000, 1379000]\n"
     ]
    },
    {
     "data": {
      "text/plain": [
       "['\\nEnglish\\n5\\xa0994\\xa0000+ articles\\n',\n",
       " '\\næ\\x97¥æ\\x9c¬èª\\x9e\\n1\\xa0185\\xa0000+ è¨\\x98äº\\x8b\\n',\n",
       " '\\nDeutsch\\n2\\xa0385\\xa0000+ Artikel\\n',\n",
       " '\\nEspaÃ±ol\\n1\\xa0571\\xa0000+ artÃ\\xadculos\\n',\n",
       " '\\nÐ\\xa0Ñ\\x83Ñ\\x81Ñ\\x81ÐºÐ¸Ð¹\\n1\\xa0590\\xa0000+ Ñ\\x81Ñ\\x82Ð°Ñ\\x82ÐµÐ¹\\n',\n",
       " '\\nFranÃ§ais\\n2\\xa0171\\xa0000+ articles\\n',\n",
       " '\\nItaliano\\n1\\xa0576\\xa0000+ voci\\n',\n",
       " '\\nä¸\\xadæ\\x96\\x87\\n1\\xa0090\\xa0000+ æ¢\\x9dç\\x9b®\\n',\n",
       " '\\nPortuguÃªs\\n1\\xa0018\\xa0000+ artigos\\n',\n",
       " '\\nPolski\\n1\\xa0379\\xa0000+ haseÅ\\x82\\n']"
      ]
     },
     "execution_count": 52,
     "metadata": {},
     "output_type": "execute_result"
    }
   ],
   "source": [
    "data_wiki = requests.get(url).text\n",
    "soup_wiki = BeautifulSoup(data_wiki, 'html.parser')\n",
    "num_wiki = [int(tag.text.replace('\\xa0','').replace('\\n','').replace('+','')) for tag in soup_wiki.find_all('bdi', dir=\"ltr\")][:10]\n",
    "#num_wiki\n",
    "languages = [tag.text for tag in soup_wiki.find_all('a', class_=\"link-box\")]\n",
    "print(num_wiki)\n",
    "languages\n",
    "#<bdi dir=\"ltr\">1&nbsp;571&nbsp;000+</bdi>\n",
    "#<a id=\"js-link-box-en\" href=\"//en.wikipedia.org/\" title=\"English — Wikipedia — The Free Encyclopedia\" class=\"link-box\" data-slogan=\"The Free Encyclopedia\">\n",
    "#<strong>English</strong>\n",
    "#<small><bdi dir=\"ltr\">5&nbsp;994&nbsp;000+</bdi> <span>articles</span></small>\n",
    "#</a>"
   ]
  },
  {
   "cell_type": "markdown",
   "metadata": {},
   "source": [
    "#### A list with the different kind of datasets available in data.gov.uk "
   ]
  },
  {
   "cell_type": "code",
   "execution_count": 53,
   "metadata": {},
   "outputs": [],
   "source": [
    "# This is the url you will scrape in this exercise\n",
    "url = 'https://data.gov.uk/'"
   ]
  },
  {
   "cell_type": "code",
   "execution_count": 54,
   "metadata": {},
   "outputs": [
    {
     "data": {
      "text/plain": [
       "['Business and economy',\n",
       " 'Crime and justice',\n",
       " 'Defence',\n",
       " 'Education',\n",
       " 'Environment',\n",
       " 'Government',\n",
       " 'Government spending',\n",
       " 'Health',\n",
       " 'Mapping',\n",
       " 'Society',\n",
       " 'Towns and cities',\n",
       " 'Transport']"
      ]
     },
     "execution_count": 54,
     "metadata": {},
     "output_type": "execute_result"
    }
   ],
   "source": [
    "#your code \n",
    "#<a href=\"/search?filters%5Btopic%5D=Business+and+economy\">Business and economy</a>\n",
    "\n",
    "data_govuk = requests.get(url).text\n",
    "soup_govuk = BeautifulSoup(data_govuk, 'html.parser')\n",
    "num_govuk = [tag.text for tag in soup_govuk.find_all('h2')]\n",
    "num_govuk"
   ]
  },
  {
   "cell_type": "markdown",
   "metadata": {},
   "source": [
    "#### Top 10 languages by number of native speakers stored in a Pandas Dataframe"
   ]
  },
  {
   "cell_type": "code",
   "execution_count": 55,
   "metadata": {},
   "outputs": [],
   "source": [
    "# This is the url you will scrape in this exercise\n",
    "url = 'https://en.wikipedia.org/wiki/List_of_languages_by_number_of_native_speakers'"
   ]
  },
  {
   "cell_type": "code",
   "execution_count": 56,
   "metadata": {},
   "outputs": [],
   "source": [
    "#your code\n",
    "data_speak = requests.get(url).text\n",
    "soup_speak = BeautifulSoup(data_speak, 'html.parser')\n",
    "tabla = soup_speak.find_all('table')[0]"
   ]
  },
  {
   "cell_type": "code",
   "execution_count": 57,
   "metadata": {},
   "outputs": [
    {
     "data": {
      "text/plain": [
       "[{'language': 'Mandarin Chinese', 'speakers': 918000.0},\n",
       " {'language': 'Spanish', 'speakers': 480000.0},\n",
       " {'language': 'English', 'speakers': 379000.0},\n",
       " {'language': 'Hindi', 'speakers': 341000.0},\n",
       " {'language': 'Bengali', 'speakers': 228000.0},\n",
       " {'language': 'Portuguese', 'speakers': 221000.0},\n",
       " {'language': 'Russian', 'speakers': 154000.0},\n",
       " {'language': 'Japanese', 'speakers': 128000.0},\n",
       " {'language': 'Western Punjabi', 'speakers': 92700.0},\n",
       " {'language': 'Marathi', 'speakers': 83100.0}]"
      ]
     },
     "execution_count": 57,
     "metadata": {},
     "output_type": "execute_result"
    }
   ],
   "source": [
    "def procesaFila(tag):\n",
    "    m = tag.find_all(\"td\")\n",
    "    #print(m[1])\n",
    "    return {\n",
    "        \"language\":m[1].find(\"a\").text.strip(),\n",
    "        \"speakers\":float(m[2].text.replace('\\n',''))*1000\n",
    "    }\n",
    "\n",
    "tabla_limpia = [procesaFila(fila) for fila in tabla.find_all(\"tr\")[1:11]]\n",
    "\n",
    "tabla_limpia"
   ]
  },
  {
   "cell_type": "code",
   "execution_count": 58,
   "metadata": {},
   "outputs": [
    {
     "data": {
      "text/html": [
       "<div>\n",
       "<style scoped>\n",
       "    .dataframe tbody tr th:only-of-type {\n",
       "        vertical-align: middle;\n",
       "    }\n",
       "\n",
       "    .dataframe tbody tr th {\n",
       "        vertical-align: top;\n",
       "    }\n",
       "\n",
       "    .dataframe thead th {\n",
       "        text-align: right;\n",
       "    }\n",
       "</style>\n",
       "<table border=\"1\" class=\"dataframe\">\n",
       "  <thead>\n",
       "    <tr style=\"text-align: right;\">\n",
       "      <th></th>\n",
       "      <th>language</th>\n",
       "      <th>speakers</th>\n",
       "    </tr>\n",
       "  </thead>\n",
       "  <tbody>\n",
       "    <tr>\n",
       "      <td>0</td>\n",
       "      <td>Mandarin Chinese</td>\n",
       "      <td>918000.0</td>\n",
       "    </tr>\n",
       "    <tr>\n",
       "      <td>1</td>\n",
       "      <td>Spanish</td>\n",
       "      <td>480000.0</td>\n",
       "    </tr>\n",
       "    <tr>\n",
       "      <td>2</td>\n",
       "      <td>English</td>\n",
       "      <td>379000.0</td>\n",
       "    </tr>\n",
       "    <tr>\n",
       "      <td>3</td>\n",
       "      <td>Hindi</td>\n",
       "      <td>341000.0</td>\n",
       "    </tr>\n",
       "    <tr>\n",
       "      <td>4</td>\n",
       "      <td>Bengali</td>\n",
       "      <td>228000.0</td>\n",
       "    </tr>\n",
       "    <tr>\n",
       "      <td>5</td>\n",
       "      <td>Portuguese</td>\n",
       "      <td>221000.0</td>\n",
       "    </tr>\n",
       "    <tr>\n",
       "      <td>6</td>\n",
       "      <td>Russian</td>\n",
       "      <td>154000.0</td>\n",
       "    </tr>\n",
       "    <tr>\n",
       "      <td>7</td>\n",
       "      <td>Japanese</td>\n",
       "      <td>128000.0</td>\n",
       "    </tr>\n",
       "    <tr>\n",
       "      <td>8</td>\n",
       "      <td>Western Punjabi</td>\n",
       "      <td>92700.0</td>\n",
       "    </tr>\n",
       "    <tr>\n",
       "      <td>9</td>\n",
       "      <td>Marathi</td>\n",
       "      <td>83100.0</td>\n",
       "    </tr>\n",
       "  </tbody>\n",
       "</table>\n",
       "</div>"
      ],
      "text/plain": [
       "           language  speakers\n",
       "0  Mandarin Chinese  918000.0\n",
       "1           Spanish  480000.0\n",
       "2           English  379000.0\n",
       "3             Hindi  341000.0\n",
       "4           Bengali  228000.0\n",
       "5        Portuguese  221000.0\n",
       "6           Russian  154000.0\n",
       "7          Japanese  128000.0\n",
       "8   Western Punjabi   92700.0\n",
       "9           Marathi   83100.0"
      ]
     },
     "execution_count": 58,
     "metadata": {},
     "output_type": "execute_result"
    }
   ],
   "source": [
    "  \n",
    "df = pd.DataFrame(tabla_limpia)\n",
    "\n",
    "df"
   ]
  },
  {
   "cell_type": "markdown",
   "metadata": {},
   "source": [
    "### BONUS QUESTIONS"
   ]
  },
  {
   "cell_type": "markdown",
   "metadata": {},
   "source": [
    "#### Scrape a certain number of tweets of a given Twitter account."
   ]
  },
  {
   "cell_type": "code",
   "execution_count": null,
   "metadata": {},
   "outputs": [],
   "source": [
    "# This is the url you will scrape in this exercise \n",
    "# You will need to add the account credentials to this url\n",
    "url = 'https://twitter.com/'"
   ]
  },
  {
   "cell_type": "code",
   "execution_count": null,
   "metadata": {},
   "outputs": [],
   "source": [
    "# your code"
   ]
  },
  {
   "cell_type": "markdown",
   "metadata": {},
   "source": [
    "#### IMDB's Top 250 data (movie name, Initial release, director name and stars) as a pandas dataframe"
   ]
  },
  {
   "cell_type": "code",
   "execution_count": 115,
   "metadata": {},
   "outputs": [],
   "source": [
    "# This is the url you will scrape in this exercise \n",
    "url = 'https://www.imdb.com/chart/top'"
   ]
  },
  {
   "cell_type": "code",
   "execution_count": 116,
   "metadata": {},
   "outputs": [],
   "source": [
    "# your code\n",
    "imdb = pd.read_html(url)"
   ]
  },
  {
   "cell_type": "code",
   "execution_count": 121,
   "metadata": {},
   "outputs": [
    {
     "name": "stdout",
     "output_type": "stream",
     "text": [
      "[     Unnamed: 0                                       Rank & Title  \\\n",
      "0           NaN                        1.  Cadena perpetua  (1994)   \n",
      "1           NaN                             2.  El padrino  (1972)   \n",
      "2           NaN                   3.  El padrino: Parte II  (1974)   \n",
      "3           NaN                    4.  El caballero oscuro  (2008)   \n",
      "4           NaN                  5.  12 hombres sin piedad  (1957)   \n",
      "..          ...                                                ...   \n",
      "245         NaN                         246.  Contratiempo  (2016)   \n",
      "246         NaN                              247.  Aladdín  (1992)   \n",
      "247         NaN                           248.  Mujercitas  (2019)   \n",
      "248         NaN              249.  El castillo en el cielo  (1986)   \n",
      "249         NaN  250.  Neon Genesis Evangelion: The End of Evan...   \n",
      "\n",
      "     IMDb Rating                         Your Rating  Unnamed: 4  \n",
      "0            9.2  12345678910 NOT YET RELEASED  Seen         NaN  \n",
      "1            9.1  12345678910 NOT YET RELEASED  Seen         NaN  \n",
      "2            9.0  12345678910 NOT YET RELEASED  Seen         NaN  \n",
      "3            9.0  12345678910 NOT YET RELEASED  Seen         NaN  \n",
      "4            8.9  12345678910 NOT YET RELEASED  Seen         NaN  \n",
      "..           ...                                 ...         ...  \n",
      "245          8.0  12345678910 NOT YET RELEASED  Seen         NaN  \n",
      "246          8.0  12345678910 NOT YET RELEASED  Seen         NaN  \n",
      "247          8.0  12345678910 NOT YET RELEASED  Seen         NaN  \n",
      "248          8.0  12345678910 NOT YET RELEASED  Seen         NaN  \n",
      "249          8.0  12345678910 NOT YET RELEASED  Seen         NaN  \n",
      "\n",
      "[250 rows x 5 columns]]\n"
     ]
    }
   ],
   "source": [
    "print(imdb)\n",
    "# Lo dejo a medias"
   ]
  },
  {
   "cell_type": "markdown",
   "metadata": {},
   "source": [
    "#### Movie name, year and a brief summary of the top 10 random movies (IMDB) as a pandas dataframe."
   ]
  },
  {
   "cell_type": "code",
   "execution_count": null,
   "metadata": {},
   "outputs": [],
   "source": [
    "#This is the url you will scrape in this exercise\n",
    "url = 'http://www.imdb.com/chart/top'"
   ]
  },
  {
   "cell_type": "code",
   "execution_count": null,
   "metadata": {},
   "outputs": [],
   "source": [
    "#your code"
   ]
  },
  {
   "cell_type": "markdown",
   "metadata": {},
   "source": [
    "#### Find the live weather report (temperature, wind speed, description and weather) of a given city."
   ]
  },
  {
   "cell_type": "code",
   "execution_count": 59,
   "metadata": {},
   "outputs": [
    {
     "name": "stdout",
     "output_type": "stream",
     "text": [
      "Enter the city:Alicante\n"
     ]
    }
   ],
   "source": [
    "#https://openweathermap.org/current\n",
    "city = city=input('Enter the city:')\n",
    "url = 'http://api.openweathermap.org/data/2.5/weather?'+'q='+city+'&APPID=b35975e18dc93725acb092f7272cc6b8&units=metric'"
   ]
  },
  {
   "cell_type": "code",
   "execution_count": 75,
   "metadata": {},
   "outputs": [
    {
     "name": "stdout",
     "output_type": "stream",
     "text": [
      "{\"coord\":{\"lon\":-0.48,\"lat\":38.35},\"weather\":[{\"id\":803,\"main\":\"Clouds\",\"description\":\"broken clouds\",\"icon\":\"04n\"}],\"base\":\"stations\",\"main\":{\"temp\":15.69,\"feels_like\":7.12,\"temp_min\":12.22,\"temp_max\":17,\"pressure\":1022,\"humidity\":51},\"visibility\":10000,\"wind\":{\"speed\":10.8,\"deg\":310},\"clouds\":{\"all\":84},\"dt\":1580421115,\"sys\":{\"type\":1,\"id\":6391,\"country\":\"ES\",\"sunrise\":1580368158,\"sunset\":1580404844},\"timezone\":3600,\"id\":2521978,\"name\":\"Alicante\",\"cod\":200}\n"
     ]
    }
   ],
   "source": [
    "# Alicante\n",
    "#{\"coord\":{\"lon\":-0.48,\"lat\":38.35},\"weather\":[{\"id\":803,\"main\":\"Clouds\",\"description\":\"broken clouds\",\"icon\":\"04n\"}],\"base\":\"stations\",\"main\":{\"temp\":15.69,\"feels_like\":7.12,\"temp_min\":12.22,\"temp_max\":17,\"pressure\":1022,\"humidity\":51},\"visibility\":10000,\"wind\":{\"speed\":10.8,\"deg\":310},\"clouds\":{\"all\":84},\"dt\":1580421115,\"sys\":{\"type\":1,\"id\":6391,\"country\":\"ES\",\"sunrise\":1580368158,\"sunset\":1580404844},\"timezone\":3600,\"id\":2521978,\"name\":\"Alicante\",\"cod\":200}\n",
    "\n",
    "\n",
    "el_tiempo = requests.get(url).text\n",
    "print(el_tiempo)\n"
   ]
  },
  {
   "cell_type": "code",
   "execution_count": 88,
   "metadata": {},
   "outputs": [
    {
     "name": "stdout",
     "output_type": "stream",
     "text": [
      "In Alicante we have now Clouds (broken clouds) and 15.69 ºC with 10.8 m/s of wind\n"
     ]
    }
   ],
   "source": [
    "# id 2521978\n",
    "\n",
    "diccionario = json.loads(el_tiempo)\n",
    "\n",
    "temperature = diccionario['main']['temp']\n",
    "wind = diccionario['wind']['speed']\n",
    "description = diccionario['weather'][0]['description']\n",
    "weather = diccionario['weather'][0]['main']\n",
    "\n",
    "print('In '+city+' we have now '+weather+' ('+description+') and '+str(temperature)+' ºC with '+str(wind)+' m/s of wind')"
   ]
  },
  {
   "cell_type": "markdown",
   "metadata": {},
   "source": [
    "#### Book name,price and stock availability as a pandas dataframe."
   ]
  },
  {
   "cell_type": "code",
   "execution_count": null,
   "metadata": {},
   "outputs": [],
   "source": [
    "# This is the url you will scrape in this exercise. \n",
    "# It is a fictional bookstore created to be scraped. \n",
    "url = 'http://books.toscrape.com/'"
   ]
  },
  {
   "cell_type": "code",
   "execution_count": 108,
   "metadata": {},
   "outputs": [],
   "source": [
    "#your code\n",
    "libros =[]\n",
    "precios = []\n",
    "stocks = []\n",
    "for i in range(1,51):\n",
    "    data_libros = requests.get('http://books.toscrape.com/catalogue/category/books_1/page-'+str(i)+'.html').text\n",
    "    soup_libros = BeautifulSoup(data_libros, 'html.parser')\n",
    "    #libros = [tag.attrs['alt'] for tag in soup_libros.find_all('img', class_=\"thumbnail\")]\n",
    "    for tag in soup_libros.find_all('img', class_=\"thumbnail\"):\n",
    "        libros.append(tag.attrs['alt'])\n",
    "    for tag in soup_libros.find_all('p', class_=\"price_color\"):\n",
    "        precios.append(float(tag.text.replace('Â£','')))\n",
    "    for tag in soup_libros.find_all('p', class_=\"instock availability\"):\n",
    "        stocks.append(tag.text.strip())\n",
    "\n",
    "#<p class=\"price_color\">£38.00</p>\n",
    "#<p class=\"instock availability\"><i class=\"icon-ok\"></i>In stock</p>\n",
    "#http://books.toscrape.com/catalogue/category/books_1/page-1.html\n",
    "#http://books.toscrape.com/catalogue/category/books_1/page-50.html"
   ]
  },
  {
   "cell_type": "code",
   "execution_count": 109,
   "metadata": {},
   "outputs": [
    {
     "data": {
      "text/html": [
       "<div>\n",
       "<style scoped>\n",
       "    .dataframe tbody tr th:only-of-type {\n",
       "        vertical-align: middle;\n",
       "    }\n",
       "\n",
       "    .dataframe tbody tr th {\n",
       "        vertical-align: top;\n",
       "    }\n",
       "\n",
       "    .dataframe thead th {\n",
       "        text-align: right;\n",
       "    }\n",
       "</style>\n",
       "<table border=\"1\" class=\"dataframe\">\n",
       "  <thead>\n",
       "    <tr style=\"text-align: right;\">\n",
       "      <th></th>\n",
       "      <th>libro</th>\n",
       "      <th>precio(£)</th>\n",
       "      <th>disponible</th>\n",
       "    </tr>\n",
       "  </thead>\n",
       "  <tbody>\n",
       "    <tr>\n",
       "      <td>0</td>\n",
       "      <td>A Light in the Attic</td>\n",
       "      <td>51.77</td>\n",
       "      <td>In stock</td>\n",
       "    </tr>\n",
       "    <tr>\n",
       "      <td>1</td>\n",
       "      <td>Tipping the Velvet</td>\n",
       "      <td>53.74</td>\n",
       "      <td>In stock</td>\n",
       "    </tr>\n",
       "    <tr>\n",
       "      <td>2</td>\n",
       "      <td>Soumission</td>\n",
       "      <td>50.10</td>\n",
       "      <td>In stock</td>\n",
       "    </tr>\n",
       "    <tr>\n",
       "      <td>3</td>\n",
       "      <td>Sharp Objects</td>\n",
       "      <td>47.82</td>\n",
       "      <td>In stock</td>\n",
       "    </tr>\n",
       "    <tr>\n",
       "      <td>4</td>\n",
       "      <td>Sapiens: A Brief History of Humankind</td>\n",
       "      <td>54.23</td>\n",
       "      <td>In stock</td>\n",
       "    </tr>\n",
       "    <tr>\n",
       "      <td>...</td>\n",
       "      <td>...</td>\n",
       "      <td>...</td>\n",
       "      <td>...</td>\n",
       "    </tr>\n",
       "    <tr>\n",
       "      <td>995</td>\n",
       "      <td>Alice in Wonderland (Alice's Adventures in Won...</td>\n",
       "      <td>55.53</td>\n",
       "      <td>In stock</td>\n",
       "    </tr>\n",
       "    <tr>\n",
       "      <td>996</td>\n",
       "      <td>Ajin: Demi-Human, Volume 1 (Ajin: Demi-Human #1)</td>\n",
       "      <td>57.06</td>\n",
       "      <td>In stock</td>\n",
       "    </tr>\n",
       "    <tr>\n",
       "      <td>997</td>\n",
       "      <td>A Spy's Devotion (The Regency Spies of London #1)</td>\n",
       "      <td>16.97</td>\n",
       "      <td>In stock</td>\n",
       "    </tr>\n",
       "    <tr>\n",
       "      <td>998</td>\n",
       "      <td>1st to Die (Women's Murder Club #1)</td>\n",
       "      <td>53.98</td>\n",
       "      <td>In stock</td>\n",
       "    </tr>\n",
       "    <tr>\n",
       "      <td>999</td>\n",
       "      <td>1,000 Places to See Before You Die</td>\n",
       "      <td>26.08</td>\n",
       "      <td>In stock</td>\n",
       "    </tr>\n",
       "  </tbody>\n",
       "</table>\n",
       "<p>1000 rows × 3 columns</p>\n",
       "</div>"
      ],
      "text/plain": [
       "                                                 libro  precio(£) disponible\n",
       "0                                 A Light in the Attic      51.77   In stock\n",
       "1                                   Tipping the Velvet      53.74   In stock\n",
       "2                                           Soumission      50.10   In stock\n",
       "3                                        Sharp Objects      47.82   In stock\n",
       "4                Sapiens: A Brief History of Humankind      54.23   In stock\n",
       "..                                                 ...        ...        ...\n",
       "995  Alice in Wonderland (Alice's Adventures in Won...      55.53   In stock\n",
       "996   Ajin: Demi-Human, Volume 1 (Ajin: Demi-Human #1)      57.06   In stock\n",
       "997  A Spy's Devotion (The Regency Spies of London #1)      16.97   In stock\n",
       "998                1st to Die (Women's Murder Club #1)      53.98   In stock\n",
       "999                 1,000 Places to See Before You Die      26.08   In stock\n",
       "\n",
       "[1000 rows x 3 columns]"
      ]
     },
     "execution_count": 109,
     "metadata": {},
     "output_type": "execute_result"
    }
   ],
   "source": [
    "   \n",
    "df = pd.DataFrame({'libro': libros, 'precio(£)': precios, 'disponible': stocks})\n",
    "\n",
    "df"
   ]
  },
  {
   "cell_type": "code",
   "execution_count": 110,
   "metadata": {},
   "outputs": [
    {
     "data": {
      "text/plain": [
       "35070.35"
      ]
     },
     "execution_count": 110,
     "metadata": {},
     "output_type": "execute_result"
    }
   ],
   "source": [
    "df['precio(£)'].sum()"
   ]
  },
  {
   "cell_type": "code",
   "execution_count": 113,
   "metadata": {},
   "outputs": [
    {
     "data": {
      "text/plain": [
       "libro         0\n",
       "precio(£)     0\n",
       "disponible    0\n",
       "dtype: int64"
      ]
     },
     "execution_count": 113,
     "metadata": {},
     "output_type": "execute_result"
    }
   ],
   "source": [
    "df[df['disponible']!='In stock'].count()"
   ]
  },
  {
   "cell_type": "code",
   "execution_count": null,
   "metadata": {},
   "outputs": [],
   "source": [
    "#Todos los libros están disponibles"
   ]
  }
 ],
 "metadata": {
  "kernelspec": {
   "display_name": "Python 3",
   "language": "python",
   "name": "python3"
  },
  "language_info": {
   "codemirror_mode": {
    "name": "ipython",
    "version": 3
   },
   "file_extension": ".py",
   "mimetype": "text/x-python",
   "name": "python",
   "nbconvert_exporter": "python",
   "pygments_lexer": "ipython3",
   "version": "3.7.4"
  }
 },
 "nbformat": 4,
 "nbformat_minor": 2
}
