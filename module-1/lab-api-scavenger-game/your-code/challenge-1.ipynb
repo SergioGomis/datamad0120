{
 "cells": [
  {
   "cell_type": "code",
   "execution_count": 10,
   "metadata": {},
   "outputs": [
    {
     "name": "stdout",
     "output_type": "stream",
     "text": [
      "Requesting data from https://api.github.com/repos/ironhack-datalabs/datamad0120/forks\n",
      "We have a github token: 07e\n"
     ]
    }
   ],
   "source": [
    "import json\n",
    "import os\n",
    "from dotenv import load_dotenv\n",
    "import requests\n",
    "load_dotenv()\n",
    "\n",
    "\n",
    "baseUrl = \"https://api.github.com\"\n",
    "endpoint = \"/repos/ironhack-datalabs/datamad0120/forks\"\n",
    "url = baseUrl+endpoint\n",
    "\n",
    "print(f\"Requesting data from {url}\")\n",
    "\n",
    "token = os.getenv(\"GITHUB_APIKEY\")\n",
    "print(f\"We have a github token: {token[0:3]}\")"
   ]
  },
  {
   "cell_type": "code",
   "execution_count": 11,
   "metadata": {},
   "outputs": [],
   "source": [
    "def requestGithub(endpoint):\n",
    "    token = os.getenv(\"GITHUB_APIKEY\")\n",
    "    if not token:\n",
    "        raise ValueError(\"You must set a GITHUB_APIKEY token\")\n",
    "    \n",
    "    baseUrl = \"https://api.github.com\"\n",
    "    url = baseUrl+endpoint\n",
    "    print(f\"Requesting data from {url}\")\n",
    "    headers = {\n",
    "        \"Authorization\": f\"token {token}\"\n",
    "    }\n",
    "    res = requests.get(url,headers=headers)\n",
    "    if res.status_code != 200:\n",
    "        print(res.text)\n",
    "        raise ValueError(\"Bad Response\")\n",
    "    return res.json()"
   ]
  },
  {
   "cell_type": "code",
   "execution_count": 12,
   "metadata": {},
   "outputs": [
    {
     "name": "stdout",
     "output_type": "stream",
     "text": [
      "Requesting data from https://api.github.com/repos/ironhack-datalabs/datamad0120/forks\n"
     ]
    }
   ],
   "source": [
    "\n",
    "endpoint = \"/repos/ironhack-datalabs/datamad0120/forks\"\n",
    "salida = requestGithub(endpoint)"
   ]
  },
  {
   "cell_type": "code",
   "execution_count": 22,
   "metadata": {},
   "outputs": [],
   "source": [
    "#salida\n",
    "\n"
   ]
  },
  {
   "cell_type": "code",
   "execution_count": 21,
   "metadata": {},
   "outputs": [
    {
     "name": "stdout",
     "output_type": "stream",
     "text": [
      "[None, 'Jupyter Notebook']\n"
     ]
    }
   ],
   "source": [
    "l = []\n",
    "for dictio in salida:\n",
    "    l.append(dictio['language'])\n",
    "l = list(dict.fromkeys(l))\n",
    "print(l)"
   ]
  }
 ],
 "metadata": {
  "kernelspec": {
   "display_name": "Python 3",
   "language": "python",
   "name": "python3"
  },
  "language_info": {
   "codemirror_mode": {
    "name": "ipython",
    "version": 3
   },
   "file_extension": ".py",
   "mimetype": "text/x-python",
   "name": "python",
   "nbconvert_exporter": "python",
   "pygments_lexer": "ipython3",
   "version": "3.7.4"
  }
 },
 "nbformat": 4,
 "nbformat_minor": 2
}
